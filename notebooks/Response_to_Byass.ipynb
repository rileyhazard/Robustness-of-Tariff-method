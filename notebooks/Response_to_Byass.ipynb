{
 "cells": [
  {
   "cell_type": "markdown",
   "metadata": {},
   "source": [
    "# Response to Byass"
   ]
  },
  {
   "cell_type": "code",
   "execution_count": 1,
   "metadata": {
    "collapsed": false
   },
   "outputs": [],
   "source": [
    "from __future__ import division\n",
    "import urllib2\n",
    "\n",
    "import matplotlib.pyplot as plt\n",
    "import numpy as np\n",
    "import pandas as pd\n",
    "import seaborn as sns\n",
    "\n",
    "%matplotlib inline"
   ]
  },
  {
   "cell_type": "code",
   "execution_count": 2,
   "metadata": {
    "collapsed": true
   },
   "outputs": [],
   "source": [
    "def download_ghdx_data():\n",
    "    \"\"\"Download PHMRC data and codebook from GHDx\n",
    "\n",
    "    Returns:\n",
    "        codebook (dataframe)\n",
    "        adult_data (dataframe)\n",
    "        child_data (dataframe)\n",
    "        neonate_data (dataframe)\n",
    "    \"\"\"\n",
    "    out = []\n",
    "    ghdx_url = ('http://ghdx.healthdata.org/sites/default/files/'\n",
    "                'record-attached-files')\n",
    "    GHDX_CODEBOOK = 'IHME_PHMRC_VA_DATA_CODEBOOK_Y2013M09D11_0.csv'\n",
    "    GHDX_FILENAME = 'IHME_PHMRC_VA_DATA_{}_Y2013M09D11_0.csv'\n",
    "\n",
    "\n",
    "    # The codebook is an excel file instead of a csv on the GHDx\n",
    "    url = '{ghdx}/{cb}.xlsx'.format(ghdx=ghdx_url, cb=GHDX_CODEBOOK[:-4])\n",
    "    response = urllib2.urlopen(url)\n",
    "    xls = pd.ExcelFile(response)\n",
    "    codebook = xls.parse(xls.sheet_names[0])\n",
    "    out.append(codebook)\n",
    "\n",
    "    for module in ['ADULT', 'CHILD', 'NEONATE']:\n",
    "        f = GHDX_FILENAME.format(module.upper())\n",
    "        url = '{ghdx}/{f}'.format(ghdx=ghdx_url, f=f)\n",
    "        response = urllib2.urlopen(url)\n",
    "        df = pd.read_csv(response)\n",
    "        out.append(df)\n",
    "\n",
    "    return tuple(out)"
   ]
  },
  {
   "cell_type": "code",
   "execution_count": 3,
   "metadata": {
    "collapsed": false
   },
   "outputs": [
    {
     "name": "stderr",
     "output_type": "stream",
     "text": [
      "C:\\Users\\josephj7\\AppData\\Local\\Continuum\\Anaconda3\\envs\\py27\\lib\\site-packages\\IPython\\core\\interactiveshell.py:2821: DtypeWarning: Columns (18,29,38,41,60,96) have mixed types. Specify dtype option on import or set low_memory=False.\n",
      "  if self.run_code(code, result):\n",
      "C:\\Users\\josephj7\\AppData\\Local\\Continuum\\Anaconda3\\envs\\py27\\lib\\site-packages\\IPython\\core\\interactiveshell.py:2821: DtypeWarning: Columns (26,60,84,164) have mixed types. Specify dtype option on import or set low_memory=False.\n",
      "  if self.run_code(code, result):\n",
      "C:\\Users\\josephj7\\AppData\\Local\\Continuum\\Anaconda3\\envs\\py27\\lib\\site-packages\\IPython\\core\\interactiveshell.py:2821: DtypeWarning: Columns (23,60,62,65,82) have mixed types. Specify dtype option on import or set low_memory=False.\n",
      "  if self.run_code(code, result):\n"
     ]
    }
   ],
   "source": [
    "# Load the data\n",
    "codebook, adult, child, neonate = download_ghdx_data()\n",
    "\n",
    "# Combine the three modules into one dataframe\n",
    "df = pd.concat([adult, child, neonate])\n",
    "\n",
    "# We will lookup variables by their name\n",
    "codebook = codebook.set_index('variable')\n",
    "\n",
    "# Create a unique id across modules\n",
    "df = df.set_index(df.module + df.newid.astype(str))"
   ]
  },
  {
   "cell_type": "markdown",
   "metadata": {},
   "source": [
    "## Invalid Age/Sex Data\n",
    "Dates of birth and death were\n",
    "recorded in two duplicate sets of variables (g1_01/6 and\n",
    "g5_01/3) as well as duplicate variables for age at death\n",
    "(g1_07 and g5_04). For some individuals there were inconsistencies\n",
    "between these age-related variables, and\n",
    "cases were dropped where these inconsistencies resulted\n",
    "in ambiguities between WHO 2012 age groups. Overall,\n",
    "494 cases (3.9%) in the PHMRC dataset had no valid age\n",
    "or sex recorded and were excluded from InterVA-4 processing.\n",
    "\n",
    "##### Response:\n",
    "The claim that 494 had no valid age or sex recorded is completely\n",
    "wrong. Even if we interpret this as 494 observations were missing\n",
    "either valid age data or valid sex data the claim is still\n",
    "completely wrong. What (I think) Byass is actually claiming is:\n",
    "\"There were 494 observations where there was at least some missing\n",
    "data or valid data which was not consistent and it was not possible\n",
    "to unambiguously assign the record to an age-sex bin.\""
   ]
  },
  {
   "cell_type": "markdown",
   "metadata": {},
   "source": [
    "###### Sex"
   ]
  },
  {
   "cell_type": "code",
   "execution_count": 4,
   "metadata": {
    "collapsed": false
   },
   "outputs": [
    {
     "data": {
      "text/html": [
       "<div>\n",
       "<table border=\"1\" class=\"dataframe\">\n",
       "  <thead>\n",
       "    <tr style=\"text-align: right;\">\n",
       "      <th></th>\n",
       "      <th>question</th>\n",
       "      <th>module</th>\n",
       "      <th>health_care_experience</th>\n",
       "      <th>coding</th>\n",
       "    </tr>\n",
       "    <tr>\n",
       "      <th>variable</th>\n",
       "      <th></th>\n",
       "      <th></th>\n",
       "      <th></th>\n",
       "      <th></th>\n",
       "    </tr>\n",
       "  </thead>\n",
       "  <tbody>\n",
       "    <tr>\n",
       "      <th>g1_05</th>\n",
       "      <td>Sex of deceased</td>\n",
       "      <td>General</td>\n",
       "      <td>0</td>\n",
       "      <td>1 \"Male\" 2 \"Female\" 8 \"Refused to Answer\" 9 \"D...</td>\n",
       "    </tr>\n",
       "    <tr>\n",
       "      <th>g4_02</th>\n",
       "      <td>What is the sex of the respondent?</td>\n",
       "      <td>General</td>\n",
       "      <td>0</td>\n",
       "      <td>1 \"Male\" 2 \"Female\" 8 \"Refused to Answer\" 9 \"D...</td>\n",
       "    </tr>\n",
       "    <tr>\n",
       "      <th>g5_02</th>\n",
       "      <td>What was the sex of the deceased?</td>\n",
       "      <td>General</td>\n",
       "      <td>0</td>\n",
       "      <td>1 \"Male\" 2 \"Female\" 8 \"Refused to Answer\" 9 \"D...</td>\n",
       "    </tr>\n",
       "    <tr>\n",
       "      <th>c1_09</th>\n",
       "      <td>What was the sex of the deceased?</td>\n",
       "      <td>Child</td>\n",
       "      <td>0</td>\n",
       "      <td>1 \"Male\" 2 \"Female\" 8 \"Refused to Answer\" 9 \"D...</td>\n",
       "    </tr>\n",
       "  </tbody>\n",
       "</table>\n",
       "</div>"
      ],
      "text/plain": [
       "                                    question   module  health_care_experience  \\\n",
       "variable                                                                        \n",
       "g1_05                        Sex of deceased  General                       0   \n",
       "g4_02     What is the sex of the respondent?  General                       0   \n",
       "g5_02      What was the sex of the deceased?  General                       0   \n",
       "c1_09      What was the sex of the deceased?    Child                       0   \n",
       "\n",
       "                                                     coding  \n",
       "variable                                                     \n",
       "g1_05     1 \"Male\" 2 \"Female\" 8 \"Refused to Answer\" 9 \"D...  \n",
       "g4_02     1 \"Male\" 2 \"Female\" 8 \"Refused to Answer\" 9 \"D...  \n",
       "g5_02     1 \"Male\" 2 \"Female\" 8 \"Refused to Answer\" 9 \"D...  \n",
       "c1_09     1 \"Male\" 2 \"Female\" 8 \"Refused to Answer\" 9 \"D...  "
      ]
     },
     "execution_count": 4,
     "metadata": {},
     "output_type": "execute_result"
    }
   ],
   "source": [
    "codebook.loc[codebook.question.str.lower().str.contains('sex')]"
   ]
  },
  {
   "cell_type": "code",
   "execution_count": 5,
   "metadata": {
    "collapsed": false
   },
   "outputs": [
    {
     "data": {
      "text/plain": [
       "Male          6813\n",
       "Female        5695\n",
       "NaN             21\n",
       "Don't Know       1\n",
       "Name: g5_02, dtype: int64"
      ]
     },
     "execution_count": 5,
     "metadata": {},
     "output_type": "execute_result"
    }
   ],
   "source": [
    "df.g5_02.value_counts(dropna=False)"
   ]
  },
  {
   "cell_type": "code",
   "execution_count": 6,
   "metadata": {
    "collapsed": false
   },
   "outputs": [
    {
     "data": {
      "text/plain": [
       "22"
      ]
     },
     "execution_count": 6,
     "metadata": {},
     "output_type": "execute_result"
    }
   ],
   "source": [
    "# Missingness from 'g5_02'\n",
    "missing_sex1 = df.g5_02.isnull() | (df.g5_02 == \"Don't Know\")\n",
    "missing_sex1.sum()"
   ]
  },
  {
   "cell_type": "code",
   "execution_count": 7,
   "metadata": {
    "collapsed": false
   },
   "outputs": [
    {
     "data": {
      "text/plain": [
       "Male          6815\n",
       "Female        5696\n",
       "NaN             18\n",
       "Don't Know       1\n",
       "Name: g1_05, dtype: int64"
      ]
     },
     "execution_count": 7,
     "metadata": {},
     "output_type": "execute_result"
    }
   ],
   "source": [
    "df.g1_05.value_counts(dropna=False)"
   ]
  },
  {
   "cell_type": "code",
   "execution_count": 8,
   "metadata": {
    "collapsed": false
   },
   "outputs": [
    {
     "data": {
      "text/plain": [
       "19"
      ]
     },
     "execution_count": 8,
     "metadata": {},
     "output_type": "execute_result"
    }
   ],
   "source": [
    "# Missingness from 'g1_05'\n",
    "missing_sex2 = df.g1_05.isnull() | (df.g1_05 == \"Don't Know\")\n",
    "missing_sex2.sum()"
   ]
  },
  {
   "cell_type": "code",
   "execution_count": 9,
   "metadata": {
    "collapsed": false
   },
   "outputs": [
    {
     "data": {
      "text/plain": [
       "4"
      ]
     },
     "execution_count": 9,
     "metadata": {},
     "output_type": "execute_result"
    }
   ],
   "source": [
    "# Actually missing\n",
    "missing_sex = missing_sex1 & missing_sex2\n",
    "missing_sex.sum()"
   ]
  },
  {
   "cell_type": "code",
   "execution_count": 10,
   "metadata": {
    "collapsed": false
   },
   "outputs": [
    {
     "data": {
      "text/html": [
       "<div>\n",
       "<table border=\"1\" class=\"dataframe\">\n",
       "  <thead>\n",
       "    <tr style=\"text-align: right;\">\n",
       "      <th>g5_02</th>\n",
       "      <th>Don't Know</th>\n",
       "      <th>Female</th>\n",
       "      <th>Male</th>\n",
       "      <th>Missing</th>\n",
       "      <th>All</th>\n",
       "    </tr>\n",
       "    <tr>\n",
       "      <th>g1_05</th>\n",
       "      <th></th>\n",
       "      <th></th>\n",
       "      <th></th>\n",
       "      <th></th>\n",
       "      <th></th>\n",
       "    </tr>\n",
       "  </thead>\n",
       "  <tbody>\n",
       "    <tr>\n",
       "      <th>Don't Know</th>\n",
       "      <td>1</td>\n",
       "      <td>0</td>\n",
       "      <td>0</td>\n",
       "      <td>0</td>\n",
       "      <td>1</td>\n",
       "    </tr>\n",
       "    <tr>\n",
       "      <th>Female</th>\n",
       "      <td>0</td>\n",
       "      <td>0</td>\n",
       "      <td>0</td>\n",
       "      <td>6</td>\n",
       "      <td>6</td>\n",
       "    </tr>\n",
       "    <tr>\n",
       "      <th>Male</th>\n",
       "      <td>0</td>\n",
       "      <td>0</td>\n",
       "      <td>0</td>\n",
       "      <td>12</td>\n",
       "      <td>12</td>\n",
       "    </tr>\n",
       "    <tr>\n",
       "      <th>Missing</th>\n",
       "      <td>0</td>\n",
       "      <td>5</td>\n",
       "      <td>10</td>\n",
       "      <td>3</td>\n",
       "      <td>18</td>\n",
       "    </tr>\n",
       "    <tr>\n",
       "      <th>All</th>\n",
       "      <td>1</td>\n",
       "      <td>5</td>\n",
       "      <td>10</td>\n",
       "      <td>21</td>\n",
       "      <td>37</td>\n",
       "    </tr>\n",
       "  </tbody>\n",
       "</table>\n",
       "</div>"
      ],
      "text/plain": [
       "g5_02       Don't Know  Female  Male  Missing  All\n",
       "g1_05                                             \n",
       "Don't Know           1       0     0        0    1\n",
       "Female               0       0     0        6    6\n",
       "Male                 0       0     0       12   12\n",
       "Missing              0       5    10        3   18\n",
       "All                  1       5    10       21   37"
      ]
     },
     "execution_count": 10,
     "metadata": {},
     "output_type": "execute_result"
    }
   ],
   "source": [
    "# All observations with either sex variable listed as\n",
    "# missing or don't know\n",
    "pd.crosstab(df.loc[(missing_sex1 | missing_sex2), 'g1_05'].fillna('Missing'), \n",
    "            df.loc[(missing_sex1 | missing_sex2), 'g5_02'].fillna('Missing'),\n",
    "            margins=True)"
   ]
  },
  {
   "cell_type": "code",
   "execution_count": 11,
   "metadata": {
    "collapsed": false
   },
   "outputs": [
    {
     "data": {
      "text/html": [
       "<div>\n",
       "<table border=\"1\" class=\"dataframe\">\n",
       "  <thead>\n",
       "    <tr style=\"text-align: right;\">\n",
       "      <th>g5_02</th>\n",
       "      <th>Female</th>\n",
       "      <th>Male</th>\n",
       "      <th>Missing</th>\n",
       "      <th>All</th>\n",
       "    </tr>\n",
       "    <tr>\n",
       "      <th>g1_05</th>\n",
       "      <th></th>\n",
       "      <th></th>\n",
       "      <th></th>\n",
       "      <th></th>\n",
       "    </tr>\n",
       "  </thead>\n",
       "  <tbody>\n",
       "    <tr>\n",
       "      <th>Female</th>\n",
       "      <td>0</td>\n",
       "      <td>2</td>\n",
       "      <td>6</td>\n",
       "      <td>8</td>\n",
       "    </tr>\n",
       "    <tr>\n",
       "      <th>Male</th>\n",
       "      <td>2</td>\n",
       "      <td>0</td>\n",
       "      <td>12</td>\n",
       "      <td>14</td>\n",
       "    </tr>\n",
       "    <tr>\n",
       "      <th>Missing</th>\n",
       "      <td>5</td>\n",
       "      <td>10</td>\n",
       "      <td>3</td>\n",
       "      <td>18</td>\n",
       "    </tr>\n",
       "    <tr>\n",
       "      <th>All</th>\n",
       "      <td>7</td>\n",
       "      <td>12</td>\n",
       "      <td>21</td>\n",
       "      <td>40</td>\n",
       "    </tr>\n",
       "  </tbody>\n",
       "</table>\n",
       "</div>"
      ],
      "text/plain": [
       "g5_02    Female  Male  Missing  All\n",
       "g1_05                              \n",
       "Female        0     2        6    8\n",
       "Male          2     0       12   14\n",
       "Missing       5    10        3   18\n",
       "All           7    12       21   40"
      ]
     },
     "execution_count": 11,
     "metadata": {},
     "output_type": "execute_result"
    }
   ],
   "source": [
    "# Observations where the two sex variables do not match\n",
    "# Only 4 observations have both male and female listed\n",
    "# Most of the mismatch is due to missingness\n",
    "pd.crosstab(df.loc[(df.g1_05 != df.g5_02), 'g1_05'].fillna('Missing'), \n",
    "            df.loc[(df.g1_05 != df.g5_02), 'g5_02'].fillna('Missing'),\n",
    "            margins=True)"
   ]
  },
  {
   "cell_type": "markdown",
   "metadata": {},
   "source": [
    "###### Age"
   ]
  },
  {
   "cell_type": "code",
   "execution_count": 12,
   "metadata": {
    "collapsed": true
   },
   "outputs": [],
   "source": [
    "# The two sets of age variable\n",
    "age_vars1 = ['g5_04a', 'g5_04b', 'g5_04c']\n",
    "age_vars2 = ['g1_07a', 'g1_07b', 'g1_07c']\n",
    "\n",
    "# The two sets of date variables\n",
    "dates1 = ['g1_01d', 'g1_01m', 'g1_01y', 'g1_06d', 'g1_06m', 'g1_06y']\n",
    "dates2 = ['g5_01d', 'g5_01m', 'g5_01y', 'g5_03d', 'g5_03m', 'g5_03y']"
   ]
  },
  {
   "cell_type": "code",
   "execution_count": 13,
   "metadata": {
    "collapsed": false
   },
   "outputs": [
    {
     "data": {
      "text/html": [
       "<div>\n",
       "<table border=\"1\" class=\"dataframe\">\n",
       "  <thead>\n",
       "    <tr style=\"text-align: right;\">\n",
       "      <th></th>\n",
       "      <th>question</th>\n",
       "      <th>module</th>\n",
       "      <th>health_care_experience</th>\n",
       "      <th>coding</th>\n",
       "    </tr>\n",
       "    <tr>\n",
       "      <th>variable</th>\n",
       "      <th></th>\n",
       "      <th></th>\n",
       "      <th></th>\n",
       "      <th></th>\n",
       "    </tr>\n",
       "  </thead>\n",
       "  <tbody>\n",
       "    <tr>\n",
       "      <th>g5_04a</th>\n",
       "      <td>What was the last known age of the deceased? [...</td>\n",
       "      <td>General</td>\n",
       "      <td>0</td>\n",
       "      <td>999 \"Don't Know\"</td>\n",
       "    </tr>\n",
       "    <tr>\n",
       "      <th>g5_04b</th>\n",
       "      <td>What was the last known age of the deceased? [...</td>\n",
       "      <td>General</td>\n",
       "      <td>0</td>\n",
       "      <td>99 \"Don't Know\"</td>\n",
       "    </tr>\n",
       "    <tr>\n",
       "      <th>g5_04c</th>\n",
       "      <td>What was the last known age of the deceased? [...</td>\n",
       "      <td>General</td>\n",
       "      <td>0</td>\n",
       "      <td>99 \"Don't Know\"</td>\n",
       "    </tr>\n",
       "    <tr>\n",
       "      <th>g1_07a</th>\n",
       "      <td>Last known age of the deceased [years]</td>\n",
       "      <td>General</td>\n",
       "      <td>0</td>\n",
       "      <td>999 \"Don't Know\"</td>\n",
       "    </tr>\n",
       "    <tr>\n",
       "      <th>g1_07b</th>\n",
       "      <td>Last known age of the deceased [months]</td>\n",
       "      <td>General</td>\n",
       "      <td>0</td>\n",
       "      <td>99 \"Don't Know\"</td>\n",
       "    </tr>\n",
       "    <tr>\n",
       "      <th>g1_07c</th>\n",
       "      <td>Last known age of the deceased [days]</td>\n",
       "      <td>General</td>\n",
       "      <td>0</td>\n",
       "      <td>99 \"Don't Know\"</td>\n",
       "    </tr>\n",
       "  </tbody>\n",
       "</table>\n",
       "</div>"
      ],
      "text/plain": [
       "                                                   question   module  \\\n",
       "variable                                                               \n",
       "g5_04a    What was the last known age of the deceased? [...  General   \n",
       "g5_04b    What was the last known age of the deceased? [...  General   \n",
       "g5_04c    What was the last known age of the deceased? [...  General   \n",
       "g1_07a               Last known age of the deceased [years]  General   \n",
       "g1_07b              Last known age of the deceased [months]  General   \n",
       "g1_07c                Last known age of the deceased [days]  General   \n",
       "\n",
       "          health_care_experience            coding  \n",
       "variable                                            \n",
       "g5_04a                         0  999 \"Don't Know\"  \n",
       "g5_04b                         0   99 \"Don't Know\"  \n",
       "g5_04c                         0   99 \"Don't Know\"  \n",
       "g1_07a                         0  999 \"Don't Know\"  \n",
       "g1_07b                         0   99 \"Don't Know\"  \n",
       "g1_07c                         0   99 \"Don't Know\"  "
      ]
     },
     "execution_count": 13,
     "metadata": {},
     "output_type": "execute_result"
    }
   ],
   "source": [
    "codebook.loc[age_vars1 + age_vars2]"
   ]
  },
  {
   "cell_type": "code",
   "execution_count": 14,
   "metadata": {
    "collapsed": false
   },
   "outputs": [
    {
     "data": {
      "text/html": [
       "<div>\n",
       "<table border=\"1\" class=\"dataframe\">\n",
       "  <thead>\n",
       "    <tr style=\"text-align: right;\">\n",
       "      <th></th>\n",
       "      <th>question</th>\n",
       "      <th>module</th>\n",
       "      <th>health_care_experience</th>\n",
       "      <th>coding</th>\n",
       "    </tr>\n",
       "    <tr>\n",
       "      <th>variable</th>\n",
       "      <th></th>\n",
       "      <th></th>\n",
       "      <th></th>\n",
       "      <th></th>\n",
       "    </tr>\n",
       "  </thead>\n",
       "  <tbody>\n",
       "    <tr>\n",
       "      <th>g1_01d</th>\n",
       "      <td>Date of birth [day]</td>\n",
       "      <td>General</td>\n",
       "      <td>0</td>\n",
       "      <td>99 \"Don't Know\"</td>\n",
       "    </tr>\n",
       "    <tr>\n",
       "      <th>g1_01m</th>\n",
       "      <td>Date of birth [month]</td>\n",
       "      <td>General</td>\n",
       "      <td>0</td>\n",
       "      <td>1 \"January\" 2 \"February\" 3 \"March\" 4 \"April\" 5...</td>\n",
       "    </tr>\n",
       "    <tr>\n",
       "      <th>g1_01y</th>\n",
       "      <td>Date of birth [year]</td>\n",
       "      <td>General</td>\n",
       "      <td>0</td>\n",
       "      <td>9999 \"Don't Know\"</td>\n",
       "    </tr>\n",
       "    <tr>\n",
       "      <th>g1_06d</th>\n",
       "      <td>Date of death [day]</td>\n",
       "      <td>General</td>\n",
       "      <td>0</td>\n",
       "      <td>99 \"Don't Know\"</td>\n",
       "    </tr>\n",
       "    <tr>\n",
       "      <th>g1_06m</th>\n",
       "      <td>Date of death [month]</td>\n",
       "      <td>General</td>\n",
       "      <td>0</td>\n",
       "      <td>1 \"January\" 2 \"February\" 3 \"March\" 4 \"April\" 5...</td>\n",
       "    </tr>\n",
       "    <tr>\n",
       "      <th>g1_06y</th>\n",
       "      <td>Date of death [year]</td>\n",
       "      <td>General</td>\n",
       "      <td>0</td>\n",
       "      <td>9999 \"Don't Know\"</td>\n",
       "    </tr>\n",
       "    <tr>\n",
       "      <th>g5_01d</th>\n",
       "      <td>When was the deceased born? [day]</td>\n",
       "      <td>General</td>\n",
       "      <td>0</td>\n",
       "      <td>99 \"Don't Know\"</td>\n",
       "    </tr>\n",
       "    <tr>\n",
       "      <th>g5_01m</th>\n",
       "      <td>When was the deceased born? [month]</td>\n",
       "      <td>General</td>\n",
       "      <td>0</td>\n",
       "      <td>1 \"January\" 2 \"February\" 3 \"March\" 4 \"April\" 5...</td>\n",
       "    </tr>\n",
       "    <tr>\n",
       "      <th>g5_01y</th>\n",
       "      <td>When was the deceased born? [year]</td>\n",
       "      <td>General</td>\n",
       "      <td>0</td>\n",
       "      <td>9999 \"Don't Know\"</td>\n",
       "    </tr>\n",
       "    <tr>\n",
       "      <th>g5_03d</th>\n",
       "      <td>When did he/she die? [day]</td>\n",
       "      <td>General</td>\n",
       "      <td>0</td>\n",
       "      <td>99 \"Don't Know\"</td>\n",
       "    </tr>\n",
       "    <tr>\n",
       "      <th>g5_03m</th>\n",
       "      <td>When did he/she die? [month]</td>\n",
       "      <td>General</td>\n",
       "      <td>0</td>\n",
       "      <td>1 \"January\" 2 \"February\" 3 \"March\" 4 \"April\" 5...</td>\n",
       "    </tr>\n",
       "    <tr>\n",
       "      <th>g5_03y</th>\n",
       "      <td>When did he/she die? [year]</td>\n",
       "      <td>General</td>\n",
       "      <td>0</td>\n",
       "      <td>9999 \"Don't Know\"</td>\n",
       "    </tr>\n",
       "  </tbody>\n",
       "</table>\n",
       "</div>"
      ],
      "text/plain": [
       "                                     question   module  \\\n",
       "variable                                                 \n",
       "g1_01d                    Date of birth [day]  General   \n",
       "g1_01m                  Date of birth [month]  General   \n",
       "g1_01y                   Date of birth [year]  General   \n",
       "g1_06d                    Date of death [day]  General   \n",
       "g1_06m                  Date of death [month]  General   \n",
       "g1_06y                   Date of death [year]  General   \n",
       "g5_01d      When was the deceased born? [day]  General   \n",
       "g5_01m    When was the deceased born? [month]  General   \n",
       "g5_01y     When was the deceased born? [year]  General   \n",
       "g5_03d             When did he/she die? [day]  General   \n",
       "g5_03m           When did he/she die? [month]  General   \n",
       "g5_03y            When did he/she die? [year]  General   \n",
       "\n",
       "          health_care_experience  \\\n",
       "variable                           \n",
       "g1_01d                         0   \n",
       "g1_01m                         0   \n",
       "g1_01y                         0   \n",
       "g1_06d                         0   \n",
       "g1_06m                         0   \n",
       "g1_06y                         0   \n",
       "g5_01d                         0   \n",
       "g5_01m                         0   \n",
       "g5_01y                         0   \n",
       "g5_03d                         0   \n",
       "g5_03m                         0   \n",
       "g5_03y                         0   \n",
       "\n",
       "                                                     coding  \n",
       "variable                                                     \n",
       "g1_01d                                      99 \"Don't Know\"  \n",
       "g1_01m    1 \"January\" 2 \"February\" 3 \"March\" 4 \"April\" 5...  \n",
       "g1_01y                                    9999 \"Don't Know\"  \n",
       "g1_06d                                      99 \"Don't Know\"  \n",
       "g1_06m    1 \"January\" 2 \"February\" 3 \"March\" 4 \"April\" 5...  \n",
       "g1_06y                                    9999 \"Don't Know\"  \n",
       "g5_01d                                      99 \"Don't Know\"  \n",
       "g5_01m    1 \"January\" 2 \"February\" 3 \"March\" 4 \"April\" 5...  \n",
       "g5_01y                                    9999 \"Don't Know\"  \n",
       "g5_03d                                      99 \"Don't Know\"  \n",
       "g5_03m    1 \"January\" 2 \"February\" 3 \"March\" 4 \"April\" 5...  \n",
       "g5_03y                                    9999 \"Don't Know\"  "
      ]
     },
     "execution_count": 14,
     "metadata": {},
     "output_type": "execute_result"
    }
   ],
   "source": [
    "codebook.loc[dates1 + dates2]"
   ]
  },
  {
   "cell_type": "code",
   "execution_count": 15,
   "metadata": {
    "collapsed": false
   },
   "outputs": [],
   "source": [
    "def calc_missing_age(series, age_vars):\n",
    "    ages = pd.to_numeric(series.loc[age_vars], errors='coerce')\n",
    "    return not ages.notnull().any()"
   ]
  },
  {
   "cell_type": "code",
   "execution_count": 16,
   "metadata": {
    "collapsed": true
   },
   "outputs": [],
   "source": [
    "def calc_agedays(series, age_vars):\n",
    "    \"\"\"Calculate age (in days) from three age vars\"\"\"\n",
    "    # Transform \"Don't Know\" into missing\n",
    "    series = pd.to_numeric(series.loc[age_vars], errors='coerce')\n",
    "    \n",
    "    if series.isnull().all():\n",
    "        # There is no age data\n",
    "        return np.nan\n",
    "    else:\n",
    "        # There is at least one non-missing age value\n",
    "        years, months, days = series.fillna(0)\n",
    "        return years * 365 + months * 30 + days"
   ]
  },
  {
   "cell_type": "code",
   "execution_count": 17,
   "metadata": {
    "collapsed": false
   },
   "outputs": [],
   "source": [
    "def calc_agedays_from_dates(series, date_vars):\n",
    "    series = series.replace({\"Don't Know\": np.nan})\n",
    "    birthdate = series.loc[date_vars[:3]]\n",
    "    deathdate = series.loc[date_vars[3:]]\n",
    "    \n",
    "    if birthdate.isnull().any() or deathdate.isnull().any():\n",
    "        return np.nan\n",
    "    \n",
    "    try:\n",
    "        birthday = pd.to_datetime('{} {} {}'.format(int(birthdate[0]), birthdate[1], int(birthdate[2])))\n",
    "        deathday = pd.to_datetime('{} {} {}'.format(int(deathdate[0]), deathdate[1], int(deathdate[2])))\n",
    "        agedays = (deathday - birthday).days\n",
    "        if agedays < 0:\n",
    "            return np.nan\n",
    "        else:\n",
    "            return agedays\n",
    "    except ValueError:\n",
    "        return np.nan"
   ]
  },
  {
   "cell_type": "code",
   "execution_count": 18,
   "metadata": {
    "collapsed": true
   },
   "outputs": [],
   "source": [
    "def calc_age_group(agedays):\n",
    "    \"\"\"Return the broad age group from age in days\"\"\"\n",
    "    if pd.isnull(agedays):\n",
    "        return np.nan\n",
    "    elif agedays <= 28:\n",
    "        return 'neonate'\n",
    "    elif agedays < 15 * 365:\n",
    "        return 'child'\n",
    "    else:\n",
    "        return 'adult'\n"
   ]
  },
  {
   "cell_type": "code",
   "execution_count": 19,
   "metadata": {
    "collapsed": true
   },
   "outputs": [],
   "source": [
    "def calc_age_group6(agedays):\n",
    "    if pd.isnull(agedays):\n",
    "        return np.nan\n",
    "    elif agedays <= 28:\n",
    "        return 'neonate'\n",
    "    elif agedays < 365:\n",
    "        return 'infant'\n",
    "    elif agedays < 5 * 365:\n",
    "        return 'under5'\n",
    "    elif agedays < 15 * 365:\n",
    "        return 'child'\n",
    "    elif agedays < 50 * 365:\n",
    "        return 'adult'\n",
    "    elif agedays < 65 * 365:\n",
    "        return 'midage'\n",
    "    else:\n",
    "        return 'elder'"
   ]
  },
  {
   "cell_type": "code",
   "execution_count": 20,
   "metadata": {
    "collapsed": true
   },
   "outputs": [],
   "source": [
    "def calc_inconsistent_age(series, vars1, vars2):\n",
    "    age1 = calc_agedays(series, vars1)\n",
    "    age2 = calc_agedays(series, vars2)\n",
    "    return age1 != age2"
   ]
  },
  {
   "cell_type": "code",
   "execution_count": 21,
   "metadata": {
    "collapsed": true
   },
   "outputs": [],
   "source": [
    "def calc_inconsistent_age_group(series, vars1, vars2):\n",
    "    age1 = calc_age_group(series, vars1)\n",
    "    age2 = calc_age_group(series, vars2)\n",
    "    return age1 != age2"
   ]
  },
  {
   "cell_type": "code",
   "execution_count": 22,
   "metadata": {
    "collapsed": true
   },
   "outputs": [],
   "source": [
    "def calc_inconsistent_age_group6(series, vars1, vars2):\n",
    "    age1 = calc_age_group6(series, vars1)\n",
    "    age2 = calc_age_group6(series, vars2)\n",
    "    return age1 != age2"
   ]
  },
  {
   "cell_type": "code",
   "execution_count": 23,
   "metadata": {
    "collapsed": true
   },
   "outputs": [],
   "source": [
    "def calc_years_from_days(agedays):\n",
    "    return agedays/365"
   ]
  },
  {
   "cell_type": "code",
   "execution_count": 24,
   "metadata": {
    "collapsed": false
   },
   "outputs": [],
   "source": [
    "# Calculate age in days from both sets age variables\n",
    "# and both sets of date variables\n",
    "ages = pd.concat([\n",
    "        df.apply(calc_agedays, axis=1, args=(age_vars1,)),\n",
    "        df.apply(calc_agedays, axis=1, args=(age_vars2,)),\n",
    "        df.apply(calc_agedays_from_dates, axis=1, args=(dates1,)),\n",
    "        df.apply(calc_agedays_from_dates, axis=1, args=(dates2,)),\n",
    "    ], axis=1)\n",
    "ages.columns = ['age_g5', 'age_g1', 'dates_g1', 'dates_g5']\n",
    "\n",
    "# Calculate age in years from the four previous age in days\n",
    "ages['age_g5y'] = ages['age_g5'].map(calc_years_from_days)\n",
    "ages['age_g1y'] = ages['age_g1'].map(calc_years_from_days)\n",
    "ages['dates_g1y'] = ages['dates_g1'].map(calc_years_from_days)\n",
    "ages['dates_g5y'] = ages['dates_g5'].map(calc_years_from_days)\n",
    "\n",
    "# Calculate both broad and specific age groups for each age\n",
    "ages['age_g5_3'] = ages['age_g5'].map(calc_age_group)\n",
    "ages['age_g5_6'] = ages['age_g5'].map(calc_age_group6)\n",
    "\n",
    "ages['age_g1_3'] = ages['age_g1'].map(calc_age_group)\n",
    "ages['age_g1_6'] = ages['age_g1'].map(calc_age_group6)\n",
    "\n",
    "ages['dates_g1_3'] = ages['dates_g1'].map(calc_age_group)\n",
    "ages['dates_g1_6'] = ages['dates_g1'].map(calc_age_group6)\n",
    "\n",
    "ages['dates_g5_3'] = ages['dates_g5'].map(calc_age_group)\n",
    "ages['dates_g5_6'] = ages['dates_g5'].map(calc_age_group6)"
   ]
  },
  {
   "cell_type": "code",
   "execution_count": 25,
   "metadata": {
    "collapsed": false
   },
   "outputs": [
    {
     "data": {
      "text/plain": [
       "124"
      ]
     },
     "execution_count": 25,
     "metadata": {},
     "output_type": "execute_result"
    }
   ],
   "source": [
    "ages[['age_g5', 'age_g1', 'dates_g1', 'dates_g5']].isnull().all(1).sum()"
   ]
  },
  {
   "cell_type": "code",
   "execution_count": 26,
   "metadata": {
    "collapsed": false
   },
   "outputs": [
    {
     "data": {
      "text/plain": [
       "522"
      ]
     },
     "execution_count": 26,
     "metadata": {},
     "output_type": "execute_result"
    }
   ],
   "source": [
    "inconsistent6 = ages[['age_g5_6', 'age_g1_6', 'dates_g1_6', 'dates_g5_6']].apply(lambda x: len(x.dropna().unique()) != 1, axis=1)\n",
    "inconsistent6.sum()"
   ]
  },
  {
   "cell_type": "code",
   "execution_count": 27,
   "metadata": {
    "collapsed": false
   },
   "outputs": [
    {
     "data": {
      "text/plain": [
       "210"
      ]
     },
     "execution_count": 27,
     "metadata": {},
     "output_type": "execute_result"
    }
   ],
   "source": [
    "inconsistent3 = ages[['age_g5_3', 'age_g1_3', 'dates_g1_3', 'dates_g5_3']].apply(lambda x: len(x.dropna().unique()) != 1, axis=1)\n",
    "inconsistent3.sum()"
   ]
  },
  {
   "cell_type": "code",
   "execution_count": 28,
   "metadata": {
    "collapsed": false
   },
   "outputs": [
    {
     "data": {
      "text/plain": [
       "526"
      ]
     },
     "execution_count": 28,
     "metadata": {},
     "output_type": "execute_result"
    }
   ],
   "source": [
    "(inconsistent6 | (missing_sex1 & missing_sex2)).sum()"
   ]
  },
  {
   "cell_type": "code",
   "execution_count": 29,
   "metadata": {
    "collapsed": false
   },
   "outputs": [
    {
     "data": {
      "text/plain": [
       "0"
      ]
     },
     "execution_count": 29,
     "metadata": {},
     "output_type": "execute_result"
    }
   ],
   "source": [
    "(ages[['age_g5y', 'age_g1y', 'dates_g1y', 'dates_g5y']] < 0).any(1).sum()"
   ]
  },
  {
   "cell_type": "code",
   "execution_count": 30,
   "metadata": {
    "collapsed": false
   },
   "outputs": [
    {
     "data": {
      "text/html": [
       "<div>\n",
       "<table border=\"1\" class=\"dataframe\">\n",
       "  <thead>\n",
       "    <tr style=\"text-align: right;\">\n",
       "      <th></th>\n",
       "      <th>age_g5</th>\n",
       "      <th>age_g1</th>\n",
       "      <th>dates_g1</th>\n",
       "      <th>dates_g5</th>\n",
       "      <th>age_g5_6</th>\n",
       "      <th>age_g1_6</th>\n",
       "      <th>dates_g1_6</th>\n",
       "      <th>dates_g5_6</th>\n",
       "    </tr>\n",
       "  </thead>\n",
       "  <tbody>\n",
       "    <tr>\n",
       "      <th>Neonate53</th>\n",
       "      <td>0</td>\n",
       "      <td>0</td>\n",
       "      <td>181</td>\n",
       "      <td>0</td>\n",
       "      <td>neonate</td>\n",
       "      <td>neonate</td>\n",
       "      <td>infant</td>\n",
       "      <td>neonate</td>\n",
       "    </tr>\n",
       "    <tr>\n",
       "      <th>Neonate65</th>\n",
       "      <td>0</td>\n",
       "      <td>0</td>\n",
       "      <td>1</td>\n",
       "      <td>90</td>\n",
       "      <td>neonate</td>\n",
       "      <td>neonate</td>\n",
       "      <td>neonate</td>\n",
       "      <td>infant</td>\n",
       "    </tr>\n",
       "    <tr>\n",
       "      <th>Neonate239</th>\n",
       "      <td>8</td>\n",
       "      <td>2920</td>\n",
       "      <td>8</td>\n",
       "      <td>8</td>\n",
       "      <td>neonate</td>\n",
       "      <td>child</td>\n",
       "      <td>neonate</td>\n",
       "      <td>neonate</td>\n",
       "    </tr>\n",
       "    <tr>\n",
       "      <th>Neonate347</th>\n",
       "      <td>8</td>\n",
       "      <td>365</td>\n",
       "      <td>375</td>\n",
       "      <td>8</td>\n",
       "      <td>neonate</td>\n",
       "      <td>under5</td>\n",
       "      <td>under5</td>\n",
       "      <td>neonate</td>\n",
       "    </tr>\n",
       "    <tr>\n",
       "      <th>Neonate361</th>\n",
       "      <td>23</td>\n",
       "      <td>23</td>\n",
       "      <td>30</td>\n",
       "      <td>30</td>\n",
       "      <td>neonate</td>\n",
       "      <td>neonate</td>\n",
       "      <td>infant</td>\n",
       "      <td>infant</td>\n",
       "    </tr>\n",
       "    <tr>\n",
       "      <th>Neonate407</th>\n",
       "      <td>7</td>\n",
       "      <td>7</td>\n",
       "      <td>7</td>\n",
       "      <td>37</td>\n",
       "      <td>neonate</td>\n",
       "      <td>neonate</td>\n",
       "      <td>neonate</td>\n",
       "      <td>infant</td>\n",
       "    </tr>\n",
       "    <tr>\n",
       "      <th>Neonate505</th>\n",
       "      <td>8</td>\n",
       "      <td></td>\n",
       "      <td>311</td>\n",
       "      <td>8</td>\n",
       "      <td>neonate</td>\n",
       "      <td></td>\n",
       "      <td>infant</td>\n",
       "      <td>neonate</td>\n",
       "    </tr>\n",
       "    <tr>\n",
       "      <th>Neonate545</th>\n",
       "      <td>1825</td>\n",
       "      <td>5</td>\n",
       "      <td>5</td>\n",
       "      <td>5</td>\n",
       "      <td>child</td>\n",
       "      <td>neonate</td>\n",
       "      <td>neonate</td>\n",
       "      <td>neonate</td>\n",
       "    </tr>\n",
       "    <tr>\n",
       "      <th>Neonate590</th>\n",
       "      <td>3</td>\n",
       "      <td>3</td>\n",
       "      <td>2</td>\n",
       "      <td>125</td>\n",
       "      <td>neonate</td>\n",
       "      <td>neonate</td>\n",
       "      <td>neonate</td>\n",
       "      <td>infant</td>\n",
       "    </tr>\n",
       "    <tr>\n",
       "      <th>Neonate841</th>\n",
       "      <td>5</td>\n",
       "      <td>1825</td>\n",
       "      <td>5</td>\n",
       "      <td>5</td>\n",
       "      <td>neonate</td>\n",
       "      <td>child</td>\n",
       "      <td>neonate</td>\n",
       "      <td>neonate</td>\n",
       "    </tr>\n",
       "    <tr>\n",
       "      <th>Neonate924</th>\n",
       "      <td>3</td>\n",
       "      <td>30</td>\n",
       "      <td>3</td>\n",
       "      <td>3</td>\n",
       "      <td>neonate</td>\n",
       "      <td>infant</td>\n",
       "      <td>neonate</td>\n",
       "      <td>neonate</td>\n",
       "    </tr>\n",
       "    <tr>\n",
       "      <th>Neonate945</th>\n",
       "      <td>0</td>\n",
       "      <td>0</td>\n",
       "      <td>0</td>\n",
       "      <td>2922</td>\n",
       "      <td>neonate</td>\n",
       "      <td>neonate</td>\n",
       "      <td>neonate</td>\n",
       "      <td>child</td>\n",
       "    </tr>\n",
       "    <tr>\n",
       "      <th>Neonate977</th>\n",
       "      <td>1</td>\n",
       "      <td>1</td>\n",
       "      <td>31</td>\n",
       "      <td>1</td>\n",
       "      <td>neonate</td>\n",
       "      <td>neonate</td>\n",
       "      <td>infant</td>\n",
       "      <td>neonate</td>\n",
       "    </tr>\n",
       "    <tr>\n",
       "      <th>Neonate1076</th>\n",
       "      <td>4</td>\n",
       "      <td>4</td>\n",
       "      <td>4</td>\n",
       "      <td>1100</td>\n",
       "      <td>neonate</td>\n",
       "      <td>neonate</td>\n",
       "      <td>neonate</td>\n",
       "      <td>under5</td>\n",
       "    </tr>\n",
       "    <tr>\n",
       "      <th>Neonate1116</th>\n",
       "      <td></td>\n",
       "      <td></td>\n",
       "      <td></td>\n",
       "      <td></td>\n",
       "      <td></td>\n",
       "      <td></td>\n",
       "      <td></td>\n",
       "      <td></td>\n",
       "    </tr>\n",
       "    <tr>\n",
       "      <th>Neonate1160</th>\n",
       "      <td></td>\n",
       "      <td>1</td>\n",
       "      <td>1</td>\n",
       "      <td>30</td>\n",
       "      <td></td>\n",
       "      <td>neonate</td>\n",
       "      <td>neonate</td>\n",
       "      <td>infant</td>\n",
       "    </tr>\n",
       "    <tr>\n",
       "      <th>Neonate1192</th>\n",
       "      <td>120</td>\n",
       "      <td></td>\n",
       "      <td>4</td>\n",
       "      <td>4</td>\n",
       "      <td>infant</td>\n",
       "      <td></td>\n",
       "      <td>neonate</td>\n",
       "      <td>neonate</td>\n",
       "    </tr>\n",
       "    <tr>\n",
       "      <th>Neonate1289</th>\n",
       "      <td>7</td>\n",
       "      <td>2555</td>\n",
       "      <td>7</td>\n",
       "      <td>7</td>\n",
       "      <td>neonate</td>\n",
       "      <td>child</td>\n",
       "      <td>neonate</td>\n",
       "      <td>neonate</td>\n",
       "    </tr>\n",
       "    <tr>\n",
       "      <th>Neonate1377</th>\n",
       "      <td>300</td>\n",
       "      <td>10</td>\n",
       "      <td>9</td>\n",
       "      <td>9</td>\n",
       "      <td>infant</td>\n",
       "      <td>neonate</td>\n",
       "      <td>neonate</td>\n",
       "      <td>neonate</td>\n",
       "    </tr>\n",
       "    <tr>\n",
       "      <th>Neonate1634</th>\n",
       "      <td>0</td>\n",
       "      <td>0</td>\n",
       "      <td>0</td>\n",
       "      <td>729</td>\n",
       "      <td>neonate</td>\n",
       "      <td>neonate</td>\n",
       "      <td>neonate</td>\n",
       "      <td>under5</td>\n",
       "    </tr>\n",
       "    <tr>\n",
       "      <th>Neonate1794</th>\n",
       "      <td>0</td>\n",
       "      <td>0</td>\n",
       "      <td></td>\n",
       "      <td>2922</td>\n",
       "      <td>neonate</td>\n",
       "      <td>neonate</td>\n",
       "      <td></td>\n",
       "      <td>child</td>\n",
       "    </tr>\n",
       "    <tr>\n",
       "      <th>Neonate1990</th>\n",
       "      <td>4</td>\n",
       "      <td>6</td>\n",
       "      <td>217</td>\n",
       "      <td></td>\n",
       "      <td>neonate</td>\n",
       "      <td>neonate</td>\n",
       "      <td>infant</td>\n",
       "      <td></td>\n",
       "    </tr>\n",
       "    <tr>\n",
       "      <th>Neonate2044</th>\n",
       "      <td>27</td>\n",
       "      <td>27</td>\n",
       "      <td>27</td>\n",
       "      <td>34</td>\n",
       "      <td>neonate</td>\n",
       "      <td>neonate</td>\n",
       "      <td>neonate</td>\n",
       "      <td>infant</td>\n",
       "    </tr>\n",
       "    <tr>\n",
       "      <th>Neonate2152</th>\n",
       "      <td>730</td>\n",
       "      <td>2</td>\n",
       "      <td>2</td>\n",
       "      <td>2</td>\n",
       "      <td>under5</td>\n",
       "      <td>neonate</td>\n",
       "      <td>neonate</td>\n",
       "      <td>neonate</td>\n",
       "    </tr>\n",
       "    <tr>\n",
       "      <th>Neonate2171</th>\n",
       "      <td>2</td>\n",
       "      <td>2</td>\n",
       "      <td>61</td>\n",
       "      <td>2</td>\n",
       "      <td>neonate</td>\n",
       "      <td>neonate</td>\n",
       "      <td>infant</td>\n",
       "      <td>neonate</td>\n",
       "    </tr>\n",
       "    <tr>\n",
       "      <th>Neonate2229</th>\n",
       "      <td>3</td>\n",
       "      <td>3</td>\n",
       "      <td>368</td>\n",
       "      <td>3</td>\n",
       "      <td>neonate</td>\n",
       "      <td>neonate</td>\n",
       "      <td>under5</td>\n",
       "      <td>neonate</td>\n",
       "    </tr>\n",
       "    <tr>\n",
       "      <th>Neonate2237</th>\n",
       "      <td>5</td>\n",
       "      <td>5</td>\n",
       "      <td>4</td>\n",
       "      <td>34</td>\n",
       "      <td>neonate</td>\n",
       "      <td>neonate</td>\n",
       "      <td>neonate</td>\n",
       "      <td>infant</td>\n",
       "    </tr>\n",
       "    <tr>\n",
       "      <th>Neonate2244</th>\n",
       "      <td>2</td>\n",
       "      <td>2</td>\n",
       "      <td>367</td>\n",
       "      <td>2</td>\n",
       "      <td>neonate</td>\n",
       "      <td>neonate</td>\n",
       "      <td>under5</td>\n",
       "      <td>neonate</td>\n",
       "    </tr>\n",
       "    <tr>\n",
       "      <th>Neonate2310</th>\n",
       "      <td>0</td>\n",
       "      <td>730</td>\n",
       "      <td>0</td>\n",
       "      <td>0</td>\n",
       "      <td>neonate</td>\n",
       "      <td>under5</td>\n",
       "      <td>neonate</td>\n",
       "      <td>neonate</td>\n",
       "    </tr>\n",
       "    <tr>\n",
       "      <th>Neonate2477</th>\n",
       "      <td>27</td>\n",
       "      <td>27</td>\n",
       "      <td>31</td>\n",
       "      <td>28</td>\n",
       "      <td>neonate</td>\n",
       "      <td>neonate</td>\n",
       "      <td>infant</td>\n",
       "      <td>neonate</td>\n",
       "    </tr>\n",
       "    <tr>\n",
       "      <th>Neonate2490</th>\n",
       "      <td>6</td>\n",
       "      <td>2190</td>\n",
       "      <td>5</td>\n",
       "      <td>5</td>\n",
       "      <td>neonate</td>\n",
       "      <td>child</td>\n",
       "      <td>neonate</td>\n",
       "      <td>neonate</td>\n",
       "    </tr>\n",
       "    <tr>\n",
       "      <th>Neonate2589</th>\n",
       "      <td>2</td>\n",
       "      <td>730</td>\n",
       "      <td>2</td>\n",
       "      <td>2</td>\n",
       "      <td>neonate</td>\n",
       "      <td>under5</td>\n",
       "      <td>neonate</td>\n",
       "      <td>neonate</td>\n",
       "    </tr>\n",
       "  </tbody>\n",
       "</table>\n",
       "</div>"
      ],
      "text/plain": [
       "            age_g5 age_g1 dates_g1 dates_g5 age_g5_6 age_g1_6 dates_g1_6  \\\n",
       "Neonate53        0      0      181        0  neonate  neonate     infant   \n",
       "Neonate65        0      0        1       90  neonate  neonate    neonate   \n",
       "Neonate239       8   2920        8        8  neonate    child    neonate   \n",
       "Neonate347       8    365      375        8  neonate   under5     under5   \n",
       "Neonate361      23     23       30       30  neonate  neonate     infant   \n",
       "Neonate407       7      7        7       37  neonate  neonate    neonate   \n",
       "Neonate505       8             311        8  neonate              infant   \n",
       "Neonate545    1825      5        5        5    child  neonate    neonate   \n",
       "Neonate590       3      3        2      125  neonate  neonate    neonate   \n",
       "Neonate841       5   1825        5        5  neonate    child    neonate   \n",
       "Neonate924       3     30        3        3  neonate   infant    neonate   \n",
       "Neonate945       0      0        0     2922  neonate  neonate    neonate   \n",
       "Neonate977       1      1       31        1  neonate  neonate     infant   \n",
       "Neonate1076      4      4        4     1100  neonate  neonate    neonate   \n",
       "Neonate1116                                                                \n",
       "Neonate1160             1        1       30           neonate    neonate   \n",
       "Neonate1192    120               4        4   infant             neonate   \n",
       "Neonate1289      7   2555        7        7  neonate    child    neonate   \n",
       "Neonate1377    300     10        9        9   infant  neonate    neonate   \n",
       "Neonate1634      0      0        0      729  neonate  neonate    neonate   \n",
       "Neonate1794      0      0              2922  neonate  neonate              \n",
       "Neonate1990      4      6      217           neonate  neonate     infant   \n",
       "Neonate2044     27     27       27       34  neonate  neonate    neonate   \n",
       "Neonate2152    730      2        2        2   under5  neonate    neonate   \n",
       "Neonate2171      2      2       61        2  neonate  neonate     infant   \n",
       "Neonate2229      3      3      368        3  neonate  neonate     under5   \n",
       "Neonate2237      5      5        4       34  neonate  neonate    neonate   \n",
       "Neonate2244      2      2      367        2  neonate  neonate     under5   \n",
       "Neonate2310      0    730        0        0  neonate   under5    neonate   \n",
       "Neonate2477     27     27       31       28  neonate  neonate     infant   \n",
       "Neonate2490      6   2190        5        5  neonate    child    neonate   \n",
       "Neonate2589      2    730        2        2  neonate   under5    neonate   \n",
       "\n",
       "            dates_g5_6  \n",
       "Neonate53      neonate  \n",
       "Neonate65       infant  \n",
       "Neonate239     neonate  \n",
       "Neonate347     neonate  \n",
       "Neonate361      infant  \n",
       "Neonate407      infant  \n",
       "Neonate505     neonate  \n",
       "Neonate545     neonate  \n",
       "Neonate590      infant  \n",
       "Neonate841     neonate  \n",
       "Neonate924     neonate  \n",
       "Neonate945       child  \n",
       "Neonate977     neonate  \n",
       "Neonate1076     under5  \n",
       "Neonate1116             \n",
       "Neonate1160     infant  \n",
       "Neonate1192    neonate  \n",
       "Neonate1289    neonate  \n",
       "Neonate1377    neonate  \n",
       "Neonate1634     under5  \n",
       "Neonate1794      child  \n",
       "Neonate1990             \n",
       "Neonate2044     infant  \n",
       "Neonate2152    neonate  \n",
       "Neonate2171    neonate  \n",
       "Neonate2229    neonate  \n",
       "Neonate2237     infant  \n",
       "Neonate2244    neonate  \n",
       "Neonate2310    neonate  \n",
       "Neonate2477    neonate  \n",
       "Neonate2490    neonate  \n",
       "Neonate2589    neonate  "
      ]
     },
     "execution_count": 30,
     "metadata": {},
     "output_type": "execute_result"
    }
   ],
   "source": [
    "ages.loc[inconsistent6 & ages.index.str.startswith('Neonate'), \n",
    "         ['age_g5', 'age_g1', 'dates_g1', 'dates_g5', 'age_g5_6', 'age_g1_6', 'dates_g1_6', 'dates_g5_6']].fillna('')"
   ]
  },
  {
   "cell_type": "code",
   "execution_count": 31,
   "metadata": {
    "collapsed": false
   },
   "outputs": [
    {
     "data": {
      "text/html": [
       "<div>\n",
       "<table border=\"1\" class=\"dataframe\">\n",
       "  <thead>\n",
       "    <tr style=\"text-align: right;\">\n",
       "      <th></th>\n",
       "      <th>age_g5y</th>\n",
       "      <th>age_g1y</th>\n",
       "      <th>dates_g1y</th>\n",
       "      <th>dates_g5y</th>\n",
       "      <th>age_g5_6</th>\n",
       "      <th>age_g1_6</th>\n",
       "      <th>dates_g1_6</th>\n",
       "      <th>dates_g5_6</th>\n",
       "    </tr>\n",
       "  </thead>\n",
       "  <tbody>\n",
       "    <tr>\n",
       "      <th>Child5</th>\n",
       "      <td>6</td>\n",
       "      <td>6</td>\n",
       "      <td>0.136986</td>\n",
       "      <td>0.136986</td>\n",
       "      <td>child</td>\n",
       "      <td>child</td>\n",
       "      <td>infant</td>\n",
       "      <td>infant</td>\n",
       "    </tr>\n",
       "    <tr>\n",
       "      <th>Child64</th>\n",
       "      <td>0.821918</td>\n",
       "      <td>10</td>\n",
       "      <td>0.863014</td>\n",
       "      <td>0.863014</td>\n",
       "      <td>infant</td>\n",
       "      <td>child</td>\n",
       "      <td>infant</td>\n",
       "      <td>infant</td>\n",
       "    </tr>\n",
       "    <tr>\n",
       "      <th>Child70</th>\n",
       "      <td>0.739726</td>\n",
       "      <td>9</td>\n",
       "      <td>0.780822</td>\n",
       "      <td>0.780822</td>\n",
       "      <td>infant</td>\n",
       "      <td>child</td>\n",
       "      <td>infant</td>\n",
       "      <td>infant</td>\n",
       "    </tr>\n",
       "    <tr>\n",
       "      <th>Child113</th>\n",
       "      <td>0.493151</td>\n",
       "      <td>0.493151</td>\n",
       "      <td></td>\n",
       "      <td>1.56438</td>\n",
       "      <td>infant</td>\n",
       "      <td>infant</td>\n",
       "      <td></td>\n",
       "      <td>under5</td>\n",
       "    </tr>\n",
       "    <tr>\n",
       "      <th>Child143</th>\n",
       "      <td>1</td>\n",
       "      <td>1</td>\n",
       "      <td>1.1726</td>\n",
       "      <td>0.169863</td>\n",
       "      <td>under5</td>\n",
       "      <td>under5</td>\n",
       "      <td>under5</td>\n",
       "      <td>infant</td>\n",
       "    </tr>\n",
       "    <tr>\n",
       "      <th>Child163</th>\n",
       "      <td>1</td>\n",
       "      <td>1</td>\n",
       "      <td>0.857534</td>\n",
       "      <td>0.857534</td>\n",
       "      <td>under5</td>\n",
       "      <td>under5</td>\n",
       "      <td>infant</td>\n",
       "      <td>infant</td>\n",
       "    </tr>\n",
       "    <tr>\n",
       "      <th>Child193</th>\n",
       "      <td>1</td>\n",
       "      <td>1</td>\n",
       "      <td>0.956164</td>\n",
       "      <td>0.956164</td>\n",
       "      <td>under5</td>\n",
       "      <td>under5</td>\n",
       "      <td>infant</td>\n",
       "      <td>infant</td>\n",
       "    </tr>\n",
       "    <tr>\n",
       "      <th>Child194</th>\n",
       "      <td>11</td>\n",
       "      <td>11</td>\n",
       "      <td>0.090411</td>\n",
       "      <td>11.6795</td>\n",
       "      <td>child</td>\n",
       "      <td>child</td>\n",
       "      <td>infant</td>\n",
       "      <td>child</td>\n",
       "    </tr>\n",
       "    <tr>\n",
       "      <th>Child196</th>\n",
       "      <td>0.0821918</td>\n",
       "      <td>0.0821918</td>\n",
       "      <td>0.0328767</td>\n",
       "      <td>0.0328767</td>\n",
       "      <td>infant</td>\n",
       "      <td>infant</td>\n",
       "      <td>neonate</td>\n",
       "      <td>neonate</td>\n",
       "    </tr>\n",
       "    <tr>\n",
       "      <th>Child201</th>\n",
       "      <td>0.575342</td>\n",
       "      <td>7</td>\n",
       "      <td>0.583562</td>\n",
       "      <td>0.583562</td>\n",
       "      <td>infant</td>\n",
       "      <td>child</td>\n",
       "      <td>infant</td>\n",
       "      <td>infant</td>\n",
       "    </tr>\n",
       "    <tr>\n",
       "      <th>Child256</th>\n",
       "      <td>4</td>\n",
       "      <td>4</td>\n",
       "      <td>5.01644</td>\n",
       "      <td>5.01644</td>\n",
       "      <td>under5</td>\n",
       "      <td>under5</td>\n",
       "      <td>child</td>\n",
       "      <td>child</td>\n",
       "    </tr>\n",
       "    <tr>\n",
       "      <th>Child296</th>\n",
       "      <td>0.90411</td>\n",
       "      <td>1</td>\n",
       "      <td></td>\n",
       "      <td></td>\n",
       "      <td>infant</td>\n",
       "      <td>under5</td>\n",
       "      <td></td>\n",
       "      <td></td>\n",
       "    </tr>\n",
       "    <tr>\n",
       "      <th>Child300</th>\n",
       "      <td>0.739726</td>\n",
       "      <td>9</td>\n",
       "      <td>0.742466</td>\n",
       "      <td>0.742466</td>\n",
       "      <td>infant</td>\n",
       "      <td>child</td>\n",
       "      <td>infant</td>\n",
       "      <td>infant</td>\n",
       "    </tr>\n",
       "    <tr>\n",
       "      <th>Child323</th>\n",
       "      <td>1</td>\n",
       "      <td>1</td>\n",
       "      <td>0.0630137</td>\n",
       "      <td>1.06301</td>\n",
       "      <td>under5</td>\n",
       "      <td>under5</td>\n",
       "      <td>neonate</td>\n",
       "      <td>under5</td>\n",
       "    </tr>\n",
       "    <tr>\n",
       "      <th>Child347</th>\n",
       "      <td>3</td>\n",
       "      <td>5</td>\n",
       "      <td></td>\n",
       "      <td>3.53151</td>\n",
       "      <td>under5</td>\n",
       "      <td>child</td>\n",
       "      <td></td>\n",
       "      <td>under5</td>\n",
       "    </tr>\n",
       "    <tr>\n",
       "      <th>Child371</th>\n",
       "      <td>5</td>\n",
       "      <td>5</td>\n",
       "      <td>4.90411</td>\n",
       "      <td>4.90411</td>\n",
       "      <td>child</td>\n",
       "      <td>child</td>\n",
       "      <td>under5</td>\n",
       "      <td>under5</td>\n",
       "    </tr>\n",
       "    <tr>\n",
       "      <th>Child410</th>\n",
       "      <td>5</td>\n",
       "      <td>5</td>\n",
       "      <td>4.9863</td>\n",
       "      <td>4.9863</td>\n",
       "      <td>child</td>\n",
       "      <td>child</td>\n",
       "      <td>under5</td>\n",
       "      <td>under5</td>\n",
       "    </tr>\n",
       "    <tr>\n",
       "      <th>Child438</th>\n",
       "      <td>3</td>\n",
       "      <td>6</td>\n",
       "      <td></td>\n",
       "      <td></td>\n",
       "      <td>under5</td>\n",
       "      <td>child</td>\n",
       "      <td></td>\n",
       "      <td></td>\n",
       "    </tr>\n",
       "    <tr>\n",
       "      <th>Child522</th>\n",
       "      <td>0.657534</td>\n",
       "      <td>8</td>\n",
       "      <td>0.682192</td>\n",
       "      <td>0.682192</td>\n",
       "      <td>infant</td>\n",
       "      <td>child</td>\n",
       "      <td>infant</td>\n",
       "      <td>infant</td>\n",
       "    </tr>\n",
       "    <tr>\n",
       "      <th>Child539</th>\n",
       "      <td>7</td>\n",
       "      <td>3</td>\n",
       "      <td></td>\n",
       "      <td>7.52055</td>\n",
       "      <td>child</td>\n",
       "      <td>under5</td>\n",
       "      <td></td>\n",
       "      <td>child</td>\n",
       "    </tr>\n",
       "    <tr>\n",
       "      <th>Child585</th>\n",
       "      <td>3</td>\n",
       "      <td>5</td>\n",
       "      <td></td>\n",
       "      <td>3.92329</td>\n",
       "      <td>under5</td>\n",
       "      <td>child</td>\n",
       "      <td></td>\n",
       "      <td>under5</td>\n",
       "    </tr>\n",
       "    <tr>\n",
       "      <th>Child615</th>\n",
       "      <td>4</td>\n",
       "      <td>5</td>\n",
       "      <td></td>\n",
       "      <td>4.70685</td>\n",
       "      <td>under5</td>\n",
       "      <td>child</td>\n",
       "      <td></td>\n",
       "      <td>under5</td>\n",
       "    </tr>\n",
       "    <tr>\n",
       "      <th>Child634</th>\n",
       "      <td>4</td>\n",
       "      <td>5</td>\n",
       "      <td></td>\n",
       "      <td></td>\n",
       "      <td>under5</td>\n",
       "      <td>child</td>\n",
       "      <td></td>\n",
       "      <td></td>\n",
       "    </tr>\n",
       "    <tr>\n",
       "      <th>Child637</th>\n",
       "      <td>0.246575</td>\n",
       "      <td>0.246575</td>\n",
       "      <td></td>\n",
       "      <td>0.0164384</td>\n",
       "      <td>infant</td>\n",
       "      <td>infant</td>\n",
       "      <td></td>\n",
       "      <td>neonate</td>\n",
       "    </tr>\n",
       "    <tr>\n",
       "      <th>Child672</th>\n",
       "      <td>4</td>\n",
       "      <td>5</td>\n",
       "      <td></td>\n",
       "      <td>4.78082</td>\n",
       "      <td>under5</td>\n",
       "      <td>child</td>\n",
       "      <td></td>\n",
       "      <td>under5</td>\n",
       "    </tr>\n",
       "    <tr>\n",
       "      <th>Child689</th>\n",
       "      <td>1</td>\n",
       "      <td>1</td>\n",
       "      <td>0.983562</td>\n",
       "      <td>0.983562</td>\n",
       "      <td>under5</td>\n",
       "      <td>under5</td>\n",
       "      <td>infant</td>\n",
       "      <td>infant</td>\n",
       "    </tr>\n",
       "    <tr>\n",
       "      <th>Child706</th>\n",
       "      <td>0.575342</td>\n",
       "      <td>0.575342</td>\n",
       "      <td>1.22466</td>\n",
       "      <td>0.665753</td>\n",
       "      <td>infant</td>\n",
       "      <td>infant</td>\n",
       "      <td>under5</td>\n",
       "      <td>infant</td>\n",
       "    </tr>\n",
       "    <tr>\n",
       "      <th>Child735</th>\n",
       "      <td>5</td>\n",
       "      <td>5</td>\n",
       "      <td>4.72055</td>\n",
       "      <td>4.72055</td>\n",
       "      <td>child</td>\n",
       "      <td>child</td>\n",
       "      <td>under5</td>\n",
       "      <td>under5</td>\n",
       "    </tr>\n",
       "    <tr>\n",
       "      <th>Child764</th>\n",
       "      <td>5</td>\n",
       "      <td>5</td>\n",
       "      <td>4.33699</td>\n",
       "      <td>4.33699</td>\n",
       "      <td>child</td>\n",
       "      <td>child</td>\n",
       "      <td>under5</td>\n",
       "      <td>under5</td>\n",
       "    </tr>\n",
       "    <tr>\n",
       "      <th>Child783</th>\n",
       "      <td>0.739726</td>\n",
       "      <td>0.739726</td>\n",
       "      <td>0.750685</td>\n",
       "      <td>1.75068</td>\n",
       "      <td>infant</td>\n",
       "      <td>infant</td>\n",
       "      <td>infant</td>\n",
       "      <td>under5</td>\n",
       "    </tr>\n",
       "    <tr>\n",
       "      <th>...</th>\n",
       "      <td>...</td>\n",
       "      <td>...</td>\n",
       "      <td>...</td>\n",
       "      <td>...</td>\n",
       "      <td>...</td>\n",
       "      <td>...</td>\n",
       "      <td>...</td>\n",
       "      <td>...</td>\n",
       "    </tr>\n",
       "    <tr>\n",
       "      <th>Child1120</th>\n",
       "      <td>1</td>\n",
       "      <td>10</td>\n",
       "      <td></td>\n",
       "      <td></td>\n",
       "      <td>under5</td>\n",
       "      <td>child</td>\n",
       "      <td></td>\n",
       "      <td></td>\n",
       "    </tr>\n",
       "    <tr>\n",
       "      <th>Child1140</th>\n",
       "      <td>4</td>\n",
       "      <td>5</td>\n",
       "      <td></td>\n",
       "      <td>4.36986</td>\n",
       "      <td>under5</td>\n",
       "      <td>child</td>\n",
       "      <td></td>\n",
       "      <td>under5</td>\n",
       "    </tr>\n",
       "    <tr>\n",
       "      <th>Child1155</th>\n",
       "      <td>10</td>\n",
       "      <td>4</td>\n",
       "      <td></td>\n",
       "      <td></td>\n",
       "      <td>child</td>\n",
       "      <td>under5</td>\n",
       "      <td></td>\n",
       "      <td></td>\n",
       "    </tr>\n",
       "    <tr>\n",
       "      <th>Child1173</th>\n",
       "      <td>0.90411</td>\n",
       "      <td>0.90411</td>\n",
       "      <td>0.0575342</td>\n",
       "      <td>0.980822</td>\n",
       "      <td>infant</td>\n",
       "      <td>infant</td>\n",
       "      <td>neonate</td>\n",
       "      <td>infant</td>\n",
       "    </tr>\n",
       "    <tr>\n",
       "      <th>Child1253</th>\n",
       "      <td>4</td>\n",
       "      <td>5</td>\n",
       "      <td></td>\n",
       "      <td>4.49589</td>\n",
       "      <td>under5</td>\n",
       "      <td>child</td>\n",
       "      <td></td>\n",
       "      <td>under5</td>\n",
       "    </tr>\n",
       "    <tr>\n",
       "      <th>Child1260</th>\n",
       "      <td>3</td>\n",
       "      <td>3</td>\n",
       "      <td>2.27123</td>\n",
       "      <td>0.268493</td>\n",
       "      <td>under5</td>\n",
       "      <td>under5</td>\n",
       "      <td>under5</td>\n",
       "      <td>infant</td>\n",
       "    </tr>\n",
       "    <tr>\n",
       "      <th>Child1301</th>\n",
       "      <td>19</td>\n",
       "      <td>2</td>\n",
       "      <td>1.7589</td>\n",
       "      <td>1.7589</td>\n",
       "      <td>adult</td>\n",
       "      <td>under5</td>\n",
       "      <td>under5</td>\n",
       "      <td>under5</td>\n",
       "    </tr>\n",
       "    <tr>\n",
       "      <th>Child1319</th>\n",
       "      <td>7</td>\n",
       "      <td>8</td>\n",
       "      <td></td>\n",
       "      <td>0.030137</td>\n",
       "      <td>child</td>\n",
       "      <td>child</td>\n",
       "      <td></td>\n",
       "      <td>neonate</td>\n",
       "    </tr>\n",
       "    <tr>\n",
       "      <th>Child1321</th>\n",
       "      <td>11</td>\n",
       "      <td>11</td>\n",
       "      <td></td>\n",
       "      <td>0.345205</td>\n",
       "      <td>child</td>\n",
       "      <td>child</td>\n",
       "      <td></td>\n",
       "      <td>infant</td>\n",
       "    </tr>\n",
       "    <tr>\n",
       "      <th>Child1329</th>\n",
       "      <td>15</td>\n",
       "      <td>2</td>\n",
       "      <td>1.43562</td>\n",
       "      <td>1.43562</td>\n",
       "      <td>adult</td>\n",
       "      <td>under5</td>\n",
       "      <td>under5</td>\n",
       "      <td>under5</td>\n",
       "    </tr>\n",
       "    <tr>\n",
       "      <th>Child1331</th>\n",
       "      <td>7</td>\n",
       "      <td>0.575342</td>\n",
       "      <td>0.635616</td>\n",
       "      <td>0.635616</td>\n",
       "      <td>child</td>\n",
       "      <td>infant</td>\n",
       "      <td>infant</td>\n",
       "      <td>infant</td>\n",
       "    </tr>\n",
       "    <tr>\n",
       "      <th>Child1358</th>\n",
       "      <td>5</td>\n",
       "      <td>5</td>\n",
       "      <td>4.52329</td>\n",
       "      <td>4.52329</td>\n",
       "      <td>child</td>\n",
       "      <td>child</td>\n",
       "      <td>under5</td>\n",
       "      <td>under5</td>\n",
       "    </tr>\n",
       "    <tr>\n",
       "      <th>Child1372</th>\n",
       "      <td>0.0767123</td>\n",
       "      <td>0.0767123</td>\n",
       "      <td>0.0794521</td>\n",
       "      <td>0.0794521</td>\n",
       "      <td>neonate</td>\n",
       "      <td>neonate</td>\n",
       "      <td>infant</td>\n",
       "      <td>infant</td>\n",
       "    </tr>\n",
       "    <tr>\n",
       "      <th>Child1400</th>\n",
       "      <td>5</td>\n",
       "      <td>6</td>\n",
       "      <td></td>\n",
       "      <td>4.97808</td>\n",
       "      <td>child</td>\n",
       "      <td>child</td>\n",
       "      <td></td>\n",
       "      <td>under5</td>\n",
       "    </tr>\n",
       "    <tr>\n",
       "      <th>Child1466</th>\n",
       "      <td>0.739726</td>\n",
       "      <td>0.739726</td>\n",
       "      <td>0.0164384</td>\n",
       "      <td>0.0164384</td>\n",
       "      <td>infant</td>\n",
       "      <td>infant</td>\n",
       "      <td>neonate</td>\n",
       "      <td>neonate</td>\n",
       "    </tr>\n",
       "    <tr>\n",
       "      <th>Child1606</th>\n",
       "      <td>0.246575</td>\n",
       "      <td>0.00821918</td>\n",
       "      <td>0.287671</td>\n",
       "      <td>0.287671</td>\n",
       "      <td>infant</td>\n",
       "      <td>neonate</td>\n",
       "      <td>infant</td>\n",
       "      <td>infant</td>\n",
       "    </tr>\n",
       "    <tr>\n",
       "      <th>Child1615</th>\n",
       "      <td>1</td>\n",
       "      <td>1</td>\n",
       "      <td>1.47945</td>\n",
       "      <td>0.479452</td>\n",
       "      <td>under5</td>\n",
       "      <td>under5</td>\n",
       "      <td>under5</td>\n",
       "      <td>infant</td>\n",
       "    </tr>\n",
       "    <tr>\n",
       "      <th>Child1617</th>\n",
       "      <td>0.739726</td>\n",
       "      <td>0.657534</td>\n",
       "      <td>1.23836</td>\n",
       "      <td>0.764384</td>\n",
       "      <td>infant</td>\n",
       "      <td>infant</td>\n",
       "      <td>under5</td>\n",
       "      <td>infant</td>\n",
       "    </tr>\n",
       "    <tr>\n",
       "      <th>Child1758</th>\n",
       "      <td>1</td>\n",
       "      <td>0.90411</td>\n",
       "      <td></td>\n",
       "      <td></td>\n",
       "      <td>under5</td>\n",
       "      <td>infant</td>\n",
       "      <td></td>\n",
       "      <td></td>\n",
       "    </tr>\n",
       "    <tr>\n",
       "      <th>Child1831</th>\n",
       "      <td>9</td>\n",
       "      <td>8</td>\n",
       "      <td></td>\n",
       "      <td>0.454795</td>\n",
       "      <td>child</td>\n",
       "      <td>child</td>\n",
       "      <td></td>\n",
       "      <td>infant</td>\n",
       "    </tr>\n",
       "    <tr>\n",
       "      <th>Child1832</th>\n",
       "      <td>1</td>\n",
       "      <td>1</td>\n",
       "      <td>0.991781</td>\n",
       "      <td></td>\n",
       "      <td>under5</td>\n",
       "      <td>under5</td>\n",
       "      <td>infant</td>\n",
       "      <td></td>\n",
       "    </tr>\n",
       "    <tr>\n",
       "      <th>Child1871</th>\n",
       "      <td>1</td>\n",
       "      <td>1</td>\n",
       "      <td>0.117808</td>\n",
       "      <td>1.11781</td>\n",
       "      <td>under5</td>\n",
       "      <td>under5</td>\n",
       "      <td>infant</td>\n",
       "      <td>under5</td>\n",
       "    </tr>\n",
       "    <tr>\n",
       "      <th>Child1875</th>\n",
       "      <td>0.493151</td>\n",
       "      <td>6</td>\n",
       "      <td>0.517808</td>\n",
       "      <td>0.517808</td>\n",
       "      <td>infant</td>\n",
       "      <td>child</td>\n",
       "      <td>infant</td>\n",
       "      <td>infant</td>\n",
       "    </tr>\n",
       "    <tr>\n",
       "      <th>Child1900</th>\n",
       "      <td>1</td>\n",
       "      <td>1</td>\n",
       "      <td></td>\n",
       "      <td>0.99726</td>\n",
       "      <td>under5</td>\n",
       "      <td>under5</td>\n",
       "      <td></td>\n",
       "      <td>infant</td>\n",
       "    </tr>\n",
       "    <tr>\n",
       "      <th>Child1919</th>\n",
       "      <td>5</td>\n",
       "      <td>5</td>\n",
       "      <td>4.2</td>\n",
       "      <td>4.2</td>\n",
       "      <td>child</td>\n",
       "      <td>child</td>\n",
       "      <td>under5</td>\n",
       "      <td>under5</td>\n",
       "    </tr>\n",
       "    <tr>\n",
       "      <th>Child1971</th>\n",
       "      <td>4</td>\n",
       "      <td>5</td>\n",
       "      <td></td>\n",
       "      <td>4.98356</td>\n",
       "      <td>under5</td>\n",
       "      <td>child</td>\n",
       "      <td></td>\n",
       "      <td>under5</td>\n",
       "    </tr>\n",
       "    <tr>\n",
       "      <th>Child1988</th>\n",
       "      <td>4</td>\n",
       "      <td>4</td>\n",
       "      <td>0.0191781</td>\n",
       "      <td>4.09315</td>\n",
       "      <td>under5</td>\n",
       "      <td>under5</td>\n",
       "      <td>neonate</td>\n",
       "      <td>under5</td>\n",
       "    </tr>\n",
       "    <tr>\n",
       "      <th>Child1993</th>\n",
       "      <td></td>\n",
       "      <td></td>\n",
       "      <td></td>\n",
       "      <td></td>\n",
       "      <td></td>\n",
       "      <td></td>\n",
       "      <td></td>\n",
       "      <td></td>\n",
       "    </tr>\n",
       "    <tr>\n",
       "      <th>Child2017</th>\n",
       "      <td>6</td>\n",
       "      <td>6</td>\n",
       "      <td>6.59178</td>\n",
       "      <td>1.58904</td>\n",
       "      <td>child</td>\n",
       "      <td>child</td>\n",
       "      <td>child</td>\n",
       "      <td>under5</td>\n",
       "    </tr>\n",
       "    <tr>\n",
       "      <th>Child2021</th>\n",
       "      <td>4</td>\n",
       "      <td>6</td>\n",
       "      <td></td>\n",
       "      <td></td>\n",
       "      <td>under5</td>\n",
       "      <td>child</td>\n",
       "      <td></td>\n",
       "      <td></td>\n",
       "    </tr>\n",
       "  </tbody>\n",
       "</table>\n",
       "<p>69 rows × 8 columns</p>\n",
       "</div>"
      ],
      "text/plain": [
       "             age_g5y     age_g1y  dates_g1y  dates_g5y age_g5_6 age_g1_6  \\\n",
       "Child5             6           6   0.136986   0.136986    child    child   \n",
       "Child64     0.821918          10   0.863014   0.863014   infant    child   \n",
       "Child70     0.739726           9   0.780822   0.780822   infant    child   \n",
       "Child113    0.493151    0.493151               1.56438   infant   infant   \n",
       "Child143           1           1     1.1726   0.169863   under5   under5   \n",
       "Child163           1           1   0.857534   0.857534   under5   under5   \n",
       "Child193           1           1   0.956164   0.956164   under5   under5   \n",
       "Child194          11          11   0.090411    11.6795    child    child   \n",
       "Child196   0.0821918   0.0821918  0.0328767  0.0328767   infant   infant   \n",
       "Child201    0.575342           7   0.583562   0.583562   infant    child   \n",
       "Child256           4           4    5.01644    5.01644   under5   under5   \n",
       "Child296     0.90411           1                         infant   under5   \n",
       "Child300    0.739726           9   0.742466   0.742466   infant    child   \n",
       "Child323           1           1  0.0630137    1.06301   under5   under5   \n",
       "Child347           3           5               3.53151   under5    child   \n",
       "Child371           5           5    4.90411    4.90411    child    child   \n",
       "Child410           5           5     4.9863     4.9863    child    child   \n",
       "Child438           3           6                         under5    child   \n",
       "Child522    0.657534           8   0.682192   0.682192   infant    child   \n",
       "Child539           7           3               7.52055    child   under5   \n",
       "Child585           3           5               3.92329   under5    child   \n",
       "Child615           4           5               4.70685   under5    child   \n",
       "Child634           4           5                         under5    child   \n",
       "Child637    0.246575    0.246575             0.0164384   infant   infant   \n",
       "Child672           4           5               4.78082   under5    child   \n",
       "Child689           1           1   0.983562   0.983562   under5   under5   \n",
       "Child706    0.575342    0.575342    1.22466   0.665753   infant   infant   \n",
       "Child735           5           5    4.72055    4.72055    child    child   \n",
       "Child764           5           5    4.33699    4.33699    child    child   \n",
       "Child783    0.739726    0.739726   0.750685    1.75068   infant   infant   \n",
       "...              ...         ...        ...        ...      ...      ...   \n",
       "Child1120          1          10                         under5    child   \n",
       "Child1140          4           5               4.36986   under5    child   \n",
       "Child1155         10           4                          child   under5   \n",
       "Child1173    0.90411     0.90411  0.0575342   0.980822   infant   infant   \n",
       "Child1253          4           5               4.49589   under5    child   \n",
       "Child1260          3           3    2.27123   0.268493   under5   under5   \n",
       "Child1301         19           2     1.7589     1.7589    adult   under5   \n",
       "Child1319          7           8              0.030137    child    child   \n",
       "Child1321         11          11              0.345205    child    child   \n",
       "Child1329         15           2    1.43562    1.43562    adult   under5   \n",
       "Child1331          7    0.575342   0.635616   0.635616    child   infant   \n",
       "Child1358          5           5    4.52329    4.52329    child    child   \n",
       "Child1372  0.0767123   0.0767123  0.0794521  0.0794521  neonate  neonate   \n",
       "Child1400          5           6               4.97808    child    child   \n",
       "Child1466   0.739726    0.739726  0.0164384  0.0164384   infant   infant   \n",
       "Child1606   0.246575  0.00821918   0.287671   0.287671   infant  neonate   \n",
       "Child1615          1           1    1.47945   0.479452   under5   under5   \n",
       "Child1617   0.739726    0.657534    1.23836   0.764384   infant   infant   \n",
       "Child1758          1     0.90411                         under5   infant   \n",
       "Child1831          9           8              0.454795    child    child   \n",
       "Child1832          1           1   0.991781              under5   under5   \n",
       "Child1871          1           1   0.117808    1.11781   under5   under5   \n",
       "Child1875   0.493151           6   0.517808   0.517808   infant    child   \n",
       "Child1900          1           1               0.99726   under5   under5   \n",
       "Child1919          5           5        4.2        4.2    child    child   \n",
       "Child1971          4           5               4.98356   under5    child   \n",
       "Child1988          4           4  0.0191781    4.09315   under5   under5   \n",
       "Child1993                                                                  \n",
       "Child2017          6           6    6.59178    1.58904    child    child   \n",
       "Child2021          4           6                         under5    child   \n",
       "\n",
       "          dates_g1_6 dates_g5_6  \n",
       "Child5        infant     infant  \n",
       "Child64       infant     infant  \n",
       "Child70       infant     infant  \n",
       "Child113                 under5  \n",
       "Child143      under5     infant  \n",
       "Child163      infant     infant  \n",
       "Child193      infant     infant  \n",
       "Child194      infant      child  \n",
       "Child196     neonate    neonate  \n",
       "Child201      infant     infant  \n",
       "Child256       child      child  \n",
       "Child296                         \n",
       "Child300      infant     infant  \n",
       "Child323     neonate     under5  \n",
       "Child347                 under5  \n",
       "Child371      under5     under5  \n",
       "Child410      under5     under5  \n",
       "Child438                         \n",
       "Child522      infant     infant  \n",
       "Child539                  child  \n",
       "Child585                 under5  \n",
       "Child615                 under5  \n",
       "Child634                         \n",
       "Child637                neonate  \n",
       "Child672                 under5  \n",
       "Child689      infant     infant  \n",
       "Child706      under5     infant  \n",
       "Child735      under5     under5  \n",
       "Child764      under5     under5  \n",
       "Child783      infant     under5  \n",
       "...              ...        ...  \n",
       "Child1120                        \n",
       "Child1140                under5  \n",
       "Child1155                        \n",
       "Child1173    neonate     infant  \n",
       "Child1253                under5  \n",
       "Child1260     under5     infant  \n",
       "Child1301     under5     under5  \n",
       "Child1319               neonate  \n",
       "Child1321                infant  \n",
       "Child1329     under5     under5  \n",
       "Child1331     infant     infant  \n",
       "Child1358     under5     under5  \n",
       "Child1372     infant     infant  \n",
       "Child1400                under5  \n",
       "Child1466    neonate    neonate  \n",
       "Child1606     infant     infant  \n",
       "Child1615     under5     infant  \n",
       "Child1617     under5     infant  \n",
       "Child1758                        \n",
       "Child1831                infant  \n",
       "Child1832     infant             \n",
       "Child1871     infant     under5  \n",
       "Child1875     infant     infant  \n",
       "Child1900                infant  \n",
       "Child1919     under5     under5  \n",
       "Child1971                under5  \n",
       "Child1988    neonate     under5  \n",
       "Child1993                        \n",
       "Child2017      child     under5  \n",
       "Child2021                        \n",
       "\n",
       "[69 rows x 8 columns]"
      ]
     },
     "execution_count": 31,
     "metadata": {},
     "output_type": "execute_result"
    }
   ],
   "source": [
    "ages.loc[inconsistent6 & ages.index.str.startswith('Child'), \n",
    "         ['age_g5y', 'age_g1y', 'dates_g1y', 'dates_g5y', 'age_g5_6', 'age_g1_6', 'dates_g1_6', 'dates_g5_6']].fillna('')"
   ]
  },
  {
   "cell_type": "code",
   "execution_count": 32,
   "metadata": {
    "collapsed": false
   },
   "outputs": [],
   "source": [
    "missing_age1 = ages.age_g5y.isnull()\n",
    "missing_age2 = ages.age_g1y.isnull()\n",
    "missing_age3 = ages.dates_g1y.isnull()\n",
    "missing_age4 = ages.dates_g5y.isnull()"
   ]
  },
  {
   "cell_type": "code",
   "execution_count": 33,
   "metadata": {
    "collapsed": false
   },
   "outputs": [
    {
     "data": {
      "text/plain": [
       "141"
      ]
     },
     "execution_count": 33,
     "metadata": {},
     "output_type": "execute_result"
    }
   ],
   "source": [
    "missing_age1.sum()"
   ]
  },
  {
   "cell_type": "code",
   "execution_count": 34,
   "metadata": {
    "collapsed": false
   },
   "outputs": [
    {
     "data": {
      "text/plain": [
       "398"
      ]
     },
     "execution_count": 34,
     "metadata": {},
     "output_type": "execute_result"
    }
   ],
   "source": [
    "missing_age2.sum()"
   ]
  },
  {
   "cell_type": "code",
   "execution_count": 35,
   "metadata": {
    "collapsed": false
   },
   "outputs": [
    {
     "data": {
      "text/plain": [
       "5282"
      ]
     },
     "execution_count": 35,
     "metadata": {},
     "output_type": "execute_result"
    }
   ],
   "source": [
    "missing_age3.sum()"
   ]
  },
  {
   "cell_type": "code",
   "execution_count": 36,
   "metadata": {
    "collapsed": false
   },
   "outputs": [
    {
     "data": {
      "text/plain": [
       "3746"
      ]
     },
     "execution_count": 36,
     "metadata": {},
     "output_type": "execute_result"
    }
   ],
   "source": [
    "missing_age4.sum()"
   ]
  },
  {
   "cell_type": "code",
   "execution_count": 37,
   "metadata": {
    "collapsed": false
   },
   "outputs": [
    {
     "data": {
      "text/plain": [
       "124"
      ]
     },
     "execution_count": 37,
     "metadata": {},
     "output_type": "execute_result"
    }
   ],
   "source": [
    "(missing_age1 & missing_age2).sum()"
   ]
  },
  {
   "cell_type": "code",
   "execution_count": 38,
   "metadata": {
    "collapsed": false
   },
   "outputs": [
    {
     "data": {
      "text/plain": [
       "2219"
      ]
     },
     "execution_count": 38,
     "metadata": {},
     "output_type": "execute_result"
    }
   ],
   "source": [
    "(ages.age_g5y != ages.age_g1y).sum()"
   ]
  },
  {
   "cell_type": "code",
   "execution_count": 39,
   "metadata": {
    "collapsed": false
   },
   "outputs": [
    {
     "data": {
      "text/plain": [
       "408"
      ]
     },
     "execution_count": 39,
     "metadata": {},
     "output_type": "execute_result"
    }
   ],
   "source": [
    "(((ages.age_g5_6 != ages.age_g1_6) & ages.age_g5_6.notnull() & ages.age_g1_6.notnull()) | \n",
    " (missing_age1 & missing_age2) |\n",
    " (missing_sex1 | missing_sex2)).sum()"
   ]
  },
  {
   "cell_type": "code",
   "execution_count": 40,
   "metadata": {
    "collapsed": false
   },
   "outputs": [
    {
     "data": {
      "text/plain": [
       "380"
      ]
     },
     "execution_count": 40,
     "metadata": {},
     "output_type": "execute_result"
    }
   ],
   "source": [
    "(((ages.age_g5_6 != ages.age_g1_6) & ages.age_g5_6.notnull() & ages.age_g1_6.notnull()) | \n",
    " (missing_age1 & missing_age2) |\n",
    " (missing_sex1 & missing_sex2)).sum()"
   ]
  },
  {
   "cell_type": "code",
   "execution_count": null,
   "metadata": {
    "collapsed": true
   },
   "outputs": [],
   "source": []
  },
  {
   "cell_type": "code",
   "execution_count": 41,
   "metadata": {
    "collapsed": false
   },
   "outputs": [
    {
     "data": {
      "text/plain": [
       "415"
      ]
     },
     "execution_count": 41,
     "metadata": {},
     "output_type": "execute_result"
    }
   ],
   "source": [
    "(missing_age1 | missing_age2).sum()"
   ]
  },
  {
   "cell_type": "code",
   "execution_count": 42,
   "metadata": {
    "collapsed": false
   },
   "outputs": [
    {
     "data": {
      "text/plain": [
       "2219"
      ]
     },
     "execution_count": 42,
     "metadata": {},
     "output_type": "execute_result"
    }
   ],
   "source": [
    "inconsistent_age = df.apply(calc_inconsistent_age, axis=1, args=(age_vars1, age_vars2))\n",
    "inconsistent_age.sum()"
   ]
  },
  {
   "cell_type": "raw",
   "metadata": {
    "collapsed": false
   },
   "source": [
    "inconsistent_age_groups = df.apply(calc_inconsistent_age_group, axis=1, args=(age_vars1, age_vars2))\n",
    "inconsistent_age_groups.sum()"
   ]
  },
  {
   "cell_type": "raw",
   "metadata": {
    "collapsed": false
   },
   "source": [
    "inconsistent_age_groups6 = df.apply(calc_inconsistent_age_group6, axis=1, args=(age_vars1, age_vars2))\n",
    "inconsistent_age_groups6.sum()"
   ]
  },
  {
   "cell_type": "raw",
   "metadata": {
    "collapsed": false
   },
   "source": [
    "(missing_sex1 | (missing_age1 & missing_age2) | inconsistent_age_groups).sum()"
   ]
  },
  {
   "cell_type": "raw",
   "metadata": {
    "collapsed": false
   },
   "source": [
    "(missing_sex1 | missing_age1 | missing_age2 | inconsistent_age_groups6).sum()"
   ]
  },
  {
   "cell_type": "raw",
   "metadata": {
    "collapsed": false
   },
   "source": [
    "(missing_sex1 | missing_age2 | inconsistent_age_groups6).sum()"
   ]
  },
  {
   "cell_type": "raw",
   "metadata": {
    "collapsed": false
   },
   "source": [
    "(missing_sex1 | missing_age1 | inconsistent_age_groups6).sum()"
   ]
  },
  {
   "cell_type": "raw",
   "metadata": {
    "collapsed": false
   },
   "source": [
    "(missing_sex1 | (missing_age1 & missing_age2) | inconsistent_age_groups6).sum()"
   ]
  },
  {
   "cell_type": "raw",
   "metadata": {
    "collapsed": false
   },
   "source": [
    "(missing_sex1 | missing_age1 | missing_age2 | inconsistent_age_groups).sum()"
   ]
  },
  {
   "cell_type": "raw",
   "metadata": {
    "collapsed": false
   },
   "source": [
    "(missing_sex1 | missing_sex2 | missing_age1 | missing_age2 | inconsistent_age_groups | contradictory_sex).sum()"
   ]
  },
  {
   "cell_type": "raw",
   "metadata": {
    "collapsed": false
   },
   "source": [
    "df.loc[inconsistent_age_groups6, age_vars]"
   ]
  },
  {
   "cell_type": "markdown",
   "metadata": {},
   "source": [
    "## Contradictory Pregnancy Status\n",
    "Deaths among women aged 12 to 49 accounted for\n",
    "1,884/11,984 (15.7%) of the cases, and 458 (24.3%) of these\n",
    "deaths were classified as ‘Maternal’ in the PHMRC dataset.\n",
    "However, 17/1,884 (0.9%) of these deaths had contradictory\n",
    "pregnancy status information in the VA data (for example,\n",
    "both pregnant and recently delivered at death).\n",
    "\n",
    "#### Response:\n",
    "Byass's concern about 17 observations with contradictory pregnancy status refer to observations where the respondent said 'Yes' to `a3_10`: 'Was [name] pregnant at the time of death?' and also said 'Yes' to `a3_18`: 'Did she die within 6 weeks of childbirth?'. Byass clearly interpretted this question as with six weeks AFTER childbirth. Some respondents clearly interpreted this question as \"Would she have given birth in the next six weeks if she had not died?\"\n",
    "\n",
    "This can be shown by by examining the question `a3_11`: 'For how many months was she pregnant?' The survey question asked in units of months, although the database stored the results in days. (All the responses are multiples of 30.) It's valid to assume that seven months pregnant can be interpretted as AT LEAST seven months. 15 of the 17 observations were at least seven months pregnant. It was reasonable and consistent for the respondent to say the decedent was within six weeks of childbirth."
   ]
  },
  {
   "cell_type": "code",
   "execution_count": 46,
   "metadata": {
    "collapsed": false
   },
   "outputs": [
    {
     "data": {
      "text/html": [
       "<div>\n",
       "<table border=\"1\" class=\"dataframe\">\n",
       "  <thead>\n",
       "    <tr style=\"text-align: right;\">\n",
       "      <th></th>\n",
       "      <th>question</th>\n",
       "      <th>module</th>\n",
       "      <th>health_care_experience</th>\n",
       "      <th>coding</th>\n",
       "    </tr>\n",
       "    <tr>\n",
       "      <th>variable</th>\n",
       "      <th></th>\n",
       "      <th></th>\n",
       "      <th></th>\n",
       "      <th></th>\n",
       "    </tr>\n",
       "  </thead>\n",
       "  <tbody>\n",
       "    <tr>\n",
       "      <th>a3_07</th>\n",
       "      <td>At the time of death was her period overdue?</td>\n",
       "      <td>Adult</td>\n",
       "      <td>0</td>\n",
       "      <td>0 \"No\" 1 \"Yes\" 8 \"Refused to Answer\" 9 \"Don't ...</td>\n",
       "    </tr>\n",
       "    <tr>\n",
       "      <th>a3_08a</th>\n",
       "      <td>For how many weeks was her period overdue? [sp...</td>\n",
       "      <td>Adult</td>\n",
       "      <td>0</td>\n",
       "      <td>1 \"Years\" 2 \"Months\" 3 \"Weeks\" 4 \"Days\" 5 \"Hou...</td>\n",
       "    </tr>\n",
       "    <tr>\n",
       "      <th>a3_08b</th>\n",
       "      <td>For how many weeks was her period overdue?</td>\n",
       "      <td>Adult</td>\n",
       "      <td>0</td>\n",
       "      <td></td>\n",
       "    </tr>\n",
       "    <tr>\n",
       "      <th>a3_10</th>\n",
       "      <td>Was [name] pregnant at the time of death?</td>\n",
       "      <td>Adult</td>\n",
       "      <td>0</td>\n",
       "      <td>0 \"No\" 1 \"Yes\" 8 \"Refused to Answer\" 9 \"Don't ...</td>\n",
       "    </tr>\n",
       "    <tr>\n",
       "      <th>a3_11a</th>\n",
       "      <td>For how many months was she pregnant? [specify...</td>\n",
       "      <td>Adult</td>\n",
       "      <td>0</td>\n",
       "      <td>1 \"Years\" 2 \"Months\" 3 \"Weeks\" 4 \"Days\" 5 \"Hou...</td>\n",
       "    </tr>\n",
       "    <tr>\n",
       "      <th>a3_11b</th>\n",
       "      <td>For how many months was she pregnant?</td>\n",
       "      <td>Adult</td>\n",
       "      <td>0</td>\n",
       "      <td></td>\n",
       "    </tr>\n",
       "    <tr>\n",
       "      <th>a3_12</th>\n",
       "      <td>Did [name] die during an abortion?</td>\n",
       "      <td>Adult</td>\n",
       "      <td>0</td>\n",
       "      <td>0 \"No\" 1 \"Yes\" 8 \"Refused to Answer\" 9 \"Don't ...</td>\n",
       "    </tr>\n",
       "    <tr>\n",
       "      <th>a3_15</th>\n",
       "      <td>Did she die during labor or delivery?</td>\n",
       "      <td>Adult</td>\n",
       "      <td>0</td>\n",
       "      <td>0 \"No\" 1 \"Yes\" 8 \"Refused to Answer\" 9 \"Don't ...</td>\n",
       "    </tr>\n",
       "    <tr>\n",
       "      <th>a3_17</th>\n",
       "      <td>Did she die within 6 weeks after having an abo...</td>\n",
       "      <td>Adult</td>\n",
       "      <td>0</td>\n",
       "      <td>0 \"No\" 1 \"Yes\" 8 \"Refused to Answer\" 9 \"Don't ...</td>\n",
       "    </tr>\n",
       "    <tr>\n",
       "      <th>a3_18</th>\n",
       "      <td>Did she die within 6 weeks of childbirth?</td>\n",
       "      <td>Adult</td>\n",
       "      <td>0</td>\n",
       "      <td>0 \"No\" 1 \"Yes\" 8 \"Refused to Answer\" 9 \"Don't ...</td>\n",
       "    </tr>\n",
       "  </tbody>\n",
       "</table>\n",
       "</div>"
      ],
      "text/plain": [
       "                                                   question module  \\\n",
       "variable                                                             \n",
       "a3_07          At the time of death was her period overdue?  Adult   \n",
       "a3_08a    For how many weeks was her period overdue? [sp...  Adult   \n",
       "a3_08b           For how many weeks was her period overdue?  Adult   \n",
       "a3_10             Was [name] pregnant at the time of death?  Adult   \n",
       "a3_11a    For how many months was she pregnant? [specify...  Adult   \n",
       "a3_11b                For how many months was she pregnant?  Adult   \n",
       "a3_12                    Did [name] die during an abortion?  Adult   \n",
       "a3_15                 Did she die during labor or delivery?  Adult   \n",
       "a3_17     Did she die within 6 weeks after having an abo...  Adult   \n",
       "a3_18             Did she die within 6 weeks of childbirth?  Adult   \n",
       "\n",
       "          health_care_experience  \\\n",
       "variable                           \n",
       "a3_07                          0   \n",
       "a3_08a                         0   \n",
       "a3_08b                         0   \n",
       "a3_10                          0   \n",
       "a3_11a                         0   \n",
       "a3_11b                         0   \n",
       "a3_12                          0   \n",
       "a3_15                          0   \n",
       "a3_17                          0   \n",
       "a3_18                          0   \n",
       "\n",
       "                                                     coding  \n",
       "variable                                                     \n",
       "a3_07     0 \"No\" 1 \"Yes\" 8 \"Refused to Answer\" 9 \"Don't ...  \n",
       "a3_08a    1 \"Years\" 2 \"Months\" 3 \"Weeks\" 4 \"Days\" 5 \"Hou...  \n",
       "a3_08b                                                       \n",
       "a3_10     0 \"No\" 1 \"Yes\" 8 \"Refused to Answer\" 9 \"Don't ...  \n",
       "a3_11a    1 \"Years\" 2 \"Months\" 3 \"Weeks\" 4 \"Days\" 5 \"Hou...  \n",
       "a3_11b                                                       \n",
       "a3_12     0 \"No\" 1 \"Yes\" 8 \"Refused to Answer\" 9 \"Don't ...  \n",
       "a3_15     0 \"No\" 1 \"Yes\" 8 \"Refused to Answer\" 9 \"Don't ...  \n",
       "a3_17     0 \"No\" 1 \"Yes\" 8 \"Refused to Answer\" 9 \"Don't ...  \n",
       "a3_18     0 \"No\" 1 \"Yes\" 8 \"Refused to Answer\" 9 \"Don't ...  "
      ]
     },
     "execution_count": 46,
     "metadata": {},
     "output_type": "execute_result"
    }
   ],
   "source": [
    "codebook.loc[['a3_07','a3_08a','a3_08b','a3_10','a3_11a','a3_11b', 'a3_12', 'a3_15', 'a3_17', 'a3_18']].fillna('')"
   ]
  },
  {
   "cell_type": "code",
   "execution_count": 47,
   "metadata": {
    "collapsed": false
   },
   "outputs": [
    {
     "data": {
      "text/plain": [
       "468"
      ]
     },
     "execution_count": 47,
     "metadata": {},
     "output_type": "execute_result"
    }
   ],
   "source": [
    "# Byass sites 458 maternal deaths. He's probably dropped\n",
    "# observations without valid age/sex data\n",
    "(df.gs_text34 == 'Maternal').sum()"
   ]
  },
  {
   "cell_type": "code",
   "execution_count": 48,
   "metadata": {
    "collapsed": false
   },
   "outputs": [
    {
     "data": {
      "text/plain": [
       "1923"
      ]
     },
     "execution_count": 48,
     "metadata": {},
     "output_type": "execute_result"
    }
   ],
   "source": [
    "# I'm not sure what age/sex variable he's using and\n",
    "# which observations he's dropped\n",
    "((df.g5_02 == 'Female') &\n",
    " (pd.to_numeric(df.g5_04a, errors='coerce') >= 12) &\n",
    " (pd.to_numeric(df.g5_04a, errors='coerce') <= 49)).sum()"
   ]
  },
  {
   "cell_type": "code",
   "execution_count": 49,
   "metadata": {
    "collapsed": false
   },
   "outputs": [
    {
     "data": {
      "text/plain": [
       "17"
      ]
     },
     "execution_count": 49,
     "metadata": {},
     "output_type": "execute_result"
    }
   ],
   "source": [
    "# These are the 17 observations Byass claims have contradictory\n",
    "# pregnancy status\n",
    "preg_and_6_weeks = (df.a3_10 == 'Yes') & (df.a3_18 == 'Yes')\n",
    "preg_and_6_weeks.sum()"
   ]
  },
  {
   "cell_type": "code",
   "execution_count": 50,
   "metadata": {
    "collapsed": false
   },
   "outputs": [
    {
     "data": {
      "text/plain": [
       "180.0    2\n",
       "210.0    5\n",
       "240.0    2\n",
       "270.0    8\n",
       "Name: a3_11, dtype: int64"
      ]
     },
     "execution_count": 50,
     "metadata": {},
     "output_type": "execute_result"
    }
   ],
   "source": [
    "df.loc[preg_and_6_weeks, 'a3_11'].value_counts().sort_index()"
   ]
  },
  {
   "cell_type": "markdown",
   "metadata": {},
   "source": [
    "## Unreported Pregnancy Status\n",
    "Of the 458\n",
    "PHMRC ‘Maternal’ deaths, 90 (19.7%) were not reported in\n",
    "the VA interview to have been pregnant at or within six\n",
    "weeks of death.\n",
    "\n",
    "##### Response:\n",
    "These 90 observations where the gold standard cause is \n",
    "'Maternal', and the respondent did not respond 'Yes' \n",
    "to any of the following questions:\n",
    "* a3_10: Was [name] pregnant at the time of death?\n",
    "* a3_17: Did she die within 6 weeks after having an abortion?\n",
    "* a3_18: Did she die within 6 weeks of childbirth?\n",
    "\n",
    "Of these one respondent, a friend (not a family member) \n",
    "did not know if the decedent was pregnant. This death \n",
    "is listed as \"Other Pregnancy-Related Death\".\n",
    "\n",
    "Of the 90 observations, 8 (8.9%) said the decedent's \n",
    "period was overdue, and 5 (5.6%) either didn't know or \n",
    "refused to answer whether the decedents period was \n",
    "overdue. 37 of the 90 (41.1%) endorsed either \n",
    "intermenstrual vaginal bleeding or excessive vaginal \n",
    "bleeding within a week prior to death. An additional \n",
    "3 observations would not rule out sharp belly pain \n",
    "just before death ('Yes' or \"Don't Know\").\n",
    "\n",
    "This is real data. Family and friends may not know if\n",
    "the woman is pregnant."
   ]
  },
  {
   "cell_type": "code",
   "execution_count": 51,
   "metadata": {
    "collapsed": false
   },
   "outputs": [
    {
     "data": {
      "text/html": [
       "<div>\n",
       "<table border=\"1\" class=\"dataframe\">\n",
       "  <thead>\n",
       "    <tr style=\"text-align: right;\">\n",
       "      <th></th>\n",
       "      <th>question</th>\n",
       "      <th>module</th>\n",
       "      <th>health_care_experience</th>\n",
       "      <th>coding</th>\n",
       "    </tr>\n",
       "    <tr>\n",
       "      <th>variable</th>\n",
       "      <th></th>\n",
       "      <th></th>\n",
       "      <th></th>\n",
       "      <th></th>\n",
       "    </tr>\n",
       "  </thead>\n",
       "  <tbody>\n",
       "    <tr>\n",
       "      <th>a3_05</th>\n",
       "      <td>Did [name] have vaginal bleeding other than he...</td>\n",
       "      <td>Adult</td>\n",
       "      <td>0</td>\n",
       "      <td>0 \"No\" 1 \"Yes\" 8 \"Refused to Answer\" 9 \"Don't ...</td>\n",
       "    </tr>\n",
       "    <tr>\n",
       "      <th>a3_06</th>\n",
       "      <td>Was there excessive vaginal bleeding in the we...</td>\n",
       "      <td>Adult</td>\n",
       "      <td>0</td>\n",
       "      <td>0 \"No\" 1 \"Yes\" 8 \"Refused to Answer\" 9 \"Don't ...</td>\n",
       "    </tr>\n",
       "    <tr>\n",
       "      <th>a3_07</th>\n",
       "      <td>At the time of death was her period overdue?</td>\n",
       "      <td>Adult</td>\n",
       "      <td>0</td>\n",
       "      <td>0 \"No\" 1 \"Yes\" 8 \"Refused to Answer\" 9 \"Don't ...</td>\n",
       "    </tr>\n",
       "    <tr>\n",
       "      <th>a3_09</th>\n",
       "      <td>Did [name] have a sharp pain in the belly shor...</td>\n",
       "      <td>Adult</td>\n",
       "      <td>0</td>\n",
       "      <td>0 \"No\" 1 \"Yes\" 8 \"Refused to Answer\" 9 \"Don't ...</td>\n",
       "    </tr>\n",
       "    <tr>\n",
       "      <th>a3_10</th>\n",
       "      <td>Was [name] pregnant at the time of death?</td>\n",
       "      <td>Adult</td>\n",
       "      <td>0</td>\n",
       "      <td>0 \"No\" 1 \"Yes\" 8 \"Refused to Answer\" 9 \"Don't ...</td>\n",
       "    </tr>\n",
       "    <tr>\n",
       "      <th>a3_17</th>\n",
       "      <td>Did she die within 6 weeks after having an abo...</td>\n",
       "      <td>Adult</td>\n",
       "      <td>0</td>\n",
       "      <td>0 \"No\" 1 \"Yes\" 8 \"Refused to Answer\" 9 \"Don't ...</td>\n",
       "    </tr>\n",
       "    <tr>\n",
       "      <th>a3_18</th>\n",
       "      <td>Did she die within 6 weeks of childbirth?</td>\n",
       "      <td>Adult</td>\n",
       "      <td>0</td>\n",
       "      <td>0 \"No\" 1 \"Yes\" 8 \"Refused to Answer\" 9 \"Don't ...</td>\n",
       "    </tr>\n",
       "  </tbody>\n",
       "</table>\n",
       "</div>"
      ],
      "text/plain": [
       "                                                   question module  \\\n",
       "variable                                                             \n",
       "a3_05     Did [name] have vaginal bleeding other than he...  Adult   \n",
       "a3_06     Was there excessive vaginal bleeding in the we...  Adult   \n",
       "a3_07          At the time of death was her period overdue?  Adult   \n",
       "a3_09     Did [name] have a sharp pain in the belly shor...  Adult   \n",
       "a3_10             Was [name] pregnant at the time of death?  Adult   \n",
       "a3_17     Did she die within 6 weeks after having an abo...  Adult   \n",
       "a3_18             Did she die within 6 weeks of childbirth?  Adult   \n",
       "\n",
       "          health_care_experience  \\\n",
       "variable                           \n",
       "a3_05                          0   \n",
       "a3_06                          0   \n",
       "a3_07                          0   \n",
       "a3_09                          0   \n",
       "a3_10                          0   \n",
       "a3_17                          0   \n",
       "a3_18                          0   \n",
       "\n",
       "                                                     coding  \n",
       "variable                                                     \n",
       "a3_05     0 \"No\" 1 \"Yes\" 8 \"Refused to Answer\" 9 \"Don't ...  \n",
       "a3_06     0 \"No\" 1 \"Yes\" 8 \"Refused to Answer\" 9 \"Don't ...  \n",
       "a3_07     0 \"No\" 1 \"Yes\" 8 \"Refused to Answer\" 9 \"Don't ...  \n",
       "a3_09     0 \"No\" 1 \"Yes\" 8 \"Refused to Answer\" 9 \"Don't ...  \n",
       "a3_10     0 \"No\" 1 \"Yes\" 8 \"Refused to Answer\" 9 \"Don't ...  \n",
       "a3_17     0 \"No\" 1 \"Yes\" 8 \"Refused to Answer\" 9 \"Don't ...  \n",
       "a3_18     0 \"No\" 1 \"Yes\" 8 \"Refused to Answer\" 9 \"Don't ...  "
      ]
     },
     "execution_count": 51,
     "metadata": {},
     "output_type": "execute_result"
    }
   ],
   "source": [
    "unreported_pregnancy_vars = ['a3_05', 'a3_06', 'a3_07', 'a3_09', 'a3_10', 'a3_17', 'a3_18']\n",
    "codebook.loc[unreported_pregnancy_vars]"
   ]
  },
  {
   "cell_type": "code",
   "execution_count": 52,
   "metadata": {
    "collapsed": false
   },
   "outputs": [
    {
     "data": {
      "text/plain": [
       "468"
      ]
     },
     "execution_count": 52,
     "metadata": {},
     "output_type": "execute_result"
    }
   ],
   "source": [
    "# Byass has properly dropped some observations \n",
    "# that didn't have enough age/sex data\n",
    "(df.gs_text34 == 'Maternal').sum()"
   ]
  },
  {
   "cell_type": "code",
   "execution_count": 53,
   "metadata": {
    "collapsed": false
   },
   "outputs": [
    {
     "data": {
      "text/plain": [
       "90"
      ]
     },
     "execution_count": 53,
     "metadata": {},
     "output_type": "execute_result"
    }
   ],
   "source": [
    "# These are the 90 observation to which Byass is refering\n",
    "unreported_maternal = ((df.gs_text34 == 'Maternal') & \n",
    "                       (df.a3_10 != 'Yes') & \n",
    "                       (df.a3_17 != 'Yes') & \n",
    "                       (df.a3_18 != 'Yes'))\n",
    "unreported_maternal.sum()"
   ]
  },
  {
   "cell_type": "code",
   "execution_count": 54,
   "metadata": {
    "collapsed": false
   },
   "outputs": [
    {
     "data": {
      "text/plain": [
       "No            89\n",
       "Don't Know     1\n",
       "Name: a3_10, dtype: int64"
      ]
     },
     "execution_count": 54,
     "metadata": {},
     "output_type": "execute_result"
    }
   ],
   "source": [
    "df.loc[unreported_maternal, 'a3_10'].value_counts()"
   ]
  },
  {
   "cell_type": "code",
   "execution_count": 55,
   "metadata": {
    "collapsed": false
   },
   "outputs": [
    {
     "data": {
      "text/html": [
       "<div>\n",
       "<table border=\"1\" class=\"dataframe\">\n",
       "  <thead>\n",
       "    <tr style=\"text-align: right;\">\n",
       "      <th></th>\n",
       "      <th>gs_text55</th>\n",
       "      <th>g4_03a</th>\n",
       "      <th>g4_03b</th>\n",
       "      <th>a3_07</th>\n",
       "      <th>a3_10</th>\n",
       "    </tr>\n",
       "  </thead>\n",
       "  <tbody>\n",
       "    <tr>\n",
       "      <th>Adult3166</th>\n",
       "      <td>Other Pregnancy-Related Deaths</td>\n",
       "      <td>Other Female</td>\n",
       "      <td>FRIEND</td>\n",
       "      <td>Don't Know</td>\n",
       "      <td>Don't Know</td>\n",
       "    </tr>\n",
       "  </tbody>\n",
       "</table>\n",
       "</div>"
      ],
      "text/plain": [
       "                                gs_text55        g4_03a  g4_03b       a3_07  \\\n",
       "Adult3166  Other Pregnancy-Related Deaths  Other Female  FRIEND  Don't Know   \n",
       "\n",
       "                a3_10  \n",
       "Adult3166  Don't Know  "
      ]
     },
     "execution_count": 55,
     "metadata": {},
     "output_type": "execute_result"
    }
   ],
   "source": [
    "df.loc[unreported_maternal & (df.a3_10 == \"Don't Know\"), ['gs_text55', 'g4_03a', 'g4_03b', 'a3_07', 'a3_10']]"
   ]
  },
  {
   "cell_type": "code",
   "execution_count": 56,
   "metadata": {
    "collapsed": false
   },
   "outputs": [
    {
     "data": {
      "text/plain": [
       "No    90\n",
       "Name: a3_17, dtype: int64"
      ]
     },
     "execution_count": 56,
     "metadata": {},
     "output_type": "execute_result"
    }
   ],
   "source": [
    "df.loc[unreported_maternal, 'a3_17'].value_counts()"
   ]
  },
  {
   "cell_type": "code",
   "execution_count": 57,
   "metadata": {
    "collapsed": false
   },
   "outputs": [
    {
     "data": {
      "text/plain": [
       "No    90\n",
       "Name: a3_18, dtype: int64"
      ]
     },
     "execution_count": 57,
     "metadata": {},
     "output_type": "execute_result"
    }
   ],
   "source": [
    "df.loc[unreported_maternal, 'a3_18'].value_counts()"
   ]
  },
  {
   "cell_type": "code",
   "execution_count": 58,
   "metadata": {
    "collapsed": false
   },
   "outputs": [
    {
     "data": {
      "text/plain": [
       "No    90\n",
       "Name: a3_19, dtype: int64"
      ]
     },
     "execution_count": 58,
     "metadata": {},
     "output_type": "execute_result"
    }
   ],
   "source": [
    "df.loc[unreported_maternal, 'a3_19'].value_counts()"
   ]
  },
  {
   "cell_type": "code",
   "execution_count": 59,
   "metadata": {
    "collapsed": false
   },
   "outputs": [
    {
     "data": {
      "text/plain": [
       "No    90\n",
       "Name: a3_20, dtype: int64"
      ]
     },
     "execution_count": 59,
     "metadata": {},
     "output_type": "execute_result"
    }
   ],
   "source": [
    "df.loc[unreported_maternal, 'a3_20'].value_counts()"
   ]
  },
  {
   "cell_type": "code",
   "execution_count": 60,
   "metadata": {
    "collapsed": false
   },
   "outputs": [
    {
     "data": {
      "text/plain": [
       "No            62\n",
       "Yes           26\n",
       "Don't Know     2\n",
       "Name: a3_05, dtype: int64"
      ]
     },
     "execution_count": 60,
     "metadata": {},
     "output_type": "execute_result"
    }
   ],
   "source": [
    "df.loc[unreported_maternal, 'a3_05'].value_counts()"
   ]
  },
  {
   "cell_type": "code",
   "execution_count": 61,
   "metadata": {
    "collapsed": false
   },
   "outputs": [
    {
     "data": {
      "text/plain": [
       "No            61\n",
       "Yes           23\n",
       "Don't Know     6\n",
       "Name: a3_06, dtype: int64"
      ]
     },
     "execution_count": 61,
     "metadata": {},
     "output_type": "execute_result"
    }
   ],
   "source": [
    "df.loc[unreported_maternal, 'a3_06'].value_counts()"
   ]
  },
  {
   "cell_type": "code",
   "execution_count": 62,
   "metadata": {
    "collapsed": false
   },
   "outputs": [
    {
     "data": {
      "text/plain": [
       "37"
      ]
     },
     "execution_count": 62,
     "metadata": {},
     "output_type": "execute_result"
    }
   ],
   "source": [
    "hemorrage_signs = ((df.loc[unreported_maternal, 'a3_05'] == 'Yes') | \n",
    "                   (df.loc[unreported_maternal, 'a3_06'] == 'Yes'))\n",
    "hemorrage_signs.sum()"
   ]
  },
  {
   "cell_type": "code",
   "execution_count": 63,
   "metadata": {
    "collapsed": false
   },
   "outputs": [
    {
     "data": {
      "text/plain": [
       "40"
      ]
     },
     "execution_count": 63,
     "metadata": {},
     "output_type": "execute_result"
    }
   ],
   "source": [
    "any_maternal_signs = hemorrage_signs | (df.loc[unreported_maternal, 'a3_09'] != 'No')\n",
    "any_maternal_signs.sum()"
   ]
  },
  {
   "cell_type": "code",
   "execution_count": 64,
   "metadata": {
    "collapsed": false
   },
   "outputs": [
    {
     "data": {
      "text/plain": [
       "Hemorrhage                        16\n",
       "Other Pregnancy-Related Deaths     9\n",
       "Anemia                             5\n",
       "Hypertensive Disorder              5\n",
       "Sepsis                             2\n",
       "Name: gs_text55, dtype: int64"
      ]
     },
     "execution_count": 64,
     "metadata": {},
     "output_type": "execute_result"
    }
   ],
   "source": [
    "df.loc[unreported_maternal].loc[hemorrage_signs, 'gs_text55'].value_counts()"
   ]
  },
  {
   "cell_type": "code",
   "execution_count": 65,
   "metadata": {
    "collapsed": false
   },
   "outputs": [
    {
     "data": {
      "text/plain": [
       "No                   77\n",
       "Yes                   8\n",
       "Don't Know            4\n",
       "Refused to Answer     1\n",
       "Name: a3_07, dtype: int64"
      ]
     },
     "execution_count": 65,
     "metadata": {},
     "output_type": "execute_result"
    }
   ],
   "source": [
    "df.loc[unreported_maternal, 'a3_07'].value_counts()"
   ]
  },
  {
   "cell_type": "code",
   "execution_count": 66,
   "metadata": {
    "collapsed": false
   },
   "outputs": [
    {
     "data": {
      "text/html": [
       "<div>\n",
       "<table border=\"1\" class=\"dataframe\">\n",
       "  <thead>\n",
       "    <tr style=\"text-align: right;\">\n",
       "      <th></th>\n",
       "      <th>g4_03a</th>\n",
       "      <th>g4_03b</th>\n",
       "      <th>a3_07</th>\n",
       "      <th>a3_10</th>\n",
       "    </tr>\n",
       "  </thead>\n",
       "  <tbody>\n",
       "    <tr>\n",
       "      <th>Adult55</th>\n",
       "      <td>Mother</td>\n",
       "      <td>NaN</td>\n",
       "      <td>Yes</td>\n",
       "      <td>No</td>\n",
       "    </tr>\n",
       "    <tr>\n",
       "      <th>Adult1096</th>\n",
       "      <td>Husband</td>\n",
       "      <td>NaN</td>\n",
       "      <td>Yes</td>\n",
       "      <td>No</td>\n",
       "    </tr>\n",
       "    <tr>\n",
       "      <th>Adult1195</th>\n",
       "      <td>Husband</td>\n",
       "      <td>NaN</td>\n",
       "      <td>Yes</td>\n",
       "      <td>No</td>\n",
       "    </tr>\n",
       "    <tr>\n",
       "      <th>Adult1295</th>\n",
       "      <td>Sister</td>\n",
       "      <td>NaN</td>\n",
       "      <td>Yes</td>\n",
       "      <td>No</td>\n",
       "    </tr>\n",
       "    <tr>\n",
       "      <th>Adult2318</th>\n",
       "      <td>Mother</td>\n",
       "      <td>NaN</td>\n",
       "      <td>Yes</td>\n",
       "      <td>No</td>\n",
       "    </tr>\n",
       "    <tr>\n",
       "      <th>Adult2337</th>\n",
       "      <td>Other Male</td>\n",
       "      <td>Neighbour</td>\n",
       "      <td>Don't Know</td>\n",
       "      <td>No</td>\n",
       "    </tr>\n",
       "    <tr>\n",
       "      <th>Adult3166</th>\n",
       "      <td>Other Female</td>\n",
       "      <td>FRIEND</td>\n",
       "      <td>Don't Know</td>\n",
       "      <td>Don't Know</td>\n",
       "    </tr>\n",
       "    <tr>\n",
       "      <th>Adult4787</th>\n",
       "      <td>Mother</td>\n",
       "      <td>NaN</td>\n",
       "      <td>Yes</td>\n",
       "      <td>No</td>\n",
       "    </tr>\n",
       "    <tr>\n",
       "      <th>Adult5172</th>\n",
       "      <td>Other Female</td>\n",
       "      <td>STEP-MOTHER</td>\n",
       "      <td>Yes</td>\n",
       "      <td>No</td>\n",
       "    </tr>\n",
       "    <tr>\n",
       "      <th>Adult5890</th>\n",
       "      <td>Sister</td>\n",
       "      <td>NaN</td>\n",
       "      <td>Don't Know</td>\n",
       "      <td>No</td>\n",
       "    </tr>\n",
       "    <tr>\n",
       "      <th>Adult5947</th>\n",
       "      <td>Other Female</td>\n",
       "      <td>Neighbour</td>\n",
       "      <td>Refused to Answer</td>\n",
       "      <td>No</td>\n",
       "    </tr>\n",
       "    <tr>\n",
       "      <th>Adult6576</th>\n",
       "      <td>Sister</td>\n",
       "      <td>NaN</td>\n",
       "      <td>Don't Know</td>\n",
       "      <td>No</td>\n",
       "    </tr>\n",
       "    <tr>\n",
       "      <th>Adult7609</th>\n",
       "      <td>Husband</td>\n",
       "      <td>NaN</td>\n",
       "      <td>Yes</td>\n",
       "      <td>No</td>\n",
       "    </tr>\n",
       "  </tbody>\n",
       "</table>\n",
       "</div>"
      ],
      "text/plain": [
       "                 g4_03a       g4_03b              a3_07       a3_10\n",
       "Adult55          Mother          NaN                Yes          No\n",
       "Adult1096       Husband          NaN                Yes          No\n",
       "Adult1195       Husband          NaN                Yes          No\n",
       "Adult1295        Sister          NaN                Yes          No\n",
       "Adult2318        Mother          NaN                Yes          No\n",
       "Adult2337    Other Male    Neighbour         Don't Know          No\n",
       "Adult3166  Other Female       FRIEND         Don't Know  Don't Know\n",
       "Adult4787        Mother          NaN                Yes          No\n",
       "Adult5172  Other Female  STEP-MOTHER                Yes          No\n",
       "Adult5890        Sister          NaN         Don't Know          No\n",
       "Adult5947  Other Female    Neighbour  Refused to Answer          No\n",
       "Adult6576        Sister          NaN         Don't Know          No\n",
       "Adult7609       Husband          NaN                Yes          No"
      ]
     },
     "execution_count": 66,
     "metadata": {},
     "output_type": "execute_result"
    }
   ],
   "source": [
    "df.loc[unreported_maternal & (df.a3_07 != 'No'), ['g4_03a',  'g4_03b', 'a3_07', 'a3_10']]"
   ]
  },
  {
   "cell_type": "code",
   "execution_count": 67,
   "metadata": {
    "collapsed": false
   },
   "outputs": [
    {
     "data": {
      "text/plain": [
       "No            87\n",
       "Don't Know     2\n",
       "Yes            1\n",
       "Name: a3_09, dtype: int64"
      ]
     },
     "execution_count": 67,
     "metadata": {},
     "output_type": "execute_result"
    }
   ],
   "source": [
    "df.loc[unreported_maternal, 'a3_09'].value_counts()"
   ]
  },
  {
   "cell_type": "code",
   "execution_count": 68,
   "metadata": {
    "collapsed": false
   },
   "outputs": [
    {
     "data": {
      "text/plain": [
       "Hemorrhage                        28\n",
       "Other Pregnancy-Related Deaths    26\n",
       "Hypertensive Disorder             14\n",
       "Sepsis                            11\n",
       "Anemia                             8\n",
       "Obstructed Labor                   3\n",
       "Name: gs_text55, dtype: int64"
      ]
     },
     "execution_count": 68,
     "metadata": {},
     "output_type": "execute_result"
    }
   ],
   "source": [
    "df.loc[unreported_maternal, 'gs_text55'].value_counts()"
   ]
  },
  {
   "cell_type": "code",
   "execution_count": 69,
   "metadata": {
    "collapsed": false
   },
   "outputs": [
    {
     "data": {
      "text/plain": [
       "Husband            27\n",
       "Other Female       17\n",
       "Mother             16\n",
       "Sister             12\n",
       "Other Male          7\n",
       "Aunt                5\n",
       "Brother             3\n",
       "Birth Attendant     1\n",
       "Wife                1\n",
       "Grandmother         1\n",
       "Name: g4_03a, dtype: int64"
      ]
     },
     "execution_count": 69,
     "metadata": {},
     "output_type": "execute_result"
    }
   ],
   "source": [
    "df.loc[unreported_maternal, 'g4_03a'].value_counts()"
   ]
  },
  {
   "cell_type": "markdown",
   "metadata": {},
   "source": [
    "## Stillbirths with symptoms\n",
    "In 147/1,001 (14.7%) deaths which were recorded as stillbirths in hospitals, the circumstances were recorded as neonatal deaths in VA interviews, mostly during the first day of life. However, the symptoms reported in many of these discrepant cases were contradictory, leading to many being categorized as indeterminate in cause by InterVA-4."
   ]
  },
  {
   "cell_type": "code",
   "execution_count": 70,
   "metadata": {
    "collapsed": true
   },
   "outputs": [],
   "source": [
    "neonate_symptoms = ['c1_12', 'c1_13', 'c1_14',\n",
    "                    'c3_04', 'c3_05', 'c3_07', 'c3_09', 'c3_11', 'c3_13',\n",
    "                    'c3_16', 'c3_17', 'c3_20', 'c3_23', 'c3_24', 'c3_25',\n",
    "                    'c3_26', 'c3_29', 'c3_32', 'c3_33', 'c3_34', 'c3_35',\n",
    "                    'c3_36', 'c3_37', 'c3_38', 'c3_39', 'c3_40', 'c3_41',\n",
    "                    'c3_42', 'c3_44', 'c3_46', 'c3_47', 'c3_48', 'c3_49']"
   ]
  },
  {
   "cell_type": "code",
   "execution_count": 71,
   "metadata": {
    "collapsed": false
   },
   "outputs": [
    {
     "data": {
      "text/html": [
       "<div>\n",
       "<table border=\"1\" class=\"dataframe\">\n",
       "  <thead>\n",
       "    <tr style=\"text-align: right;\">\n",
       "      <th></th>\n",
       "      <th>question</th>\n",
       "      <th>module</th>\n",
       "      <th>health_care_experience</th>\n",
       "      <th>coding</th>\n",
       "    </tr>\n",
       "    <tr>\n",
       "      <th>variable</th>\n",
       "      <th></th>\n",
       "      <th></th>\n",
       "      <th></th>\n",
       "      <th></th>\n",
       "    </tr>\n",
       "  </thead>\n",
       "  <tbody>\n",
       "    <tr>\n",
       "      <th>c1_12</th>\n",
       "      <td>Did the baby ever cry?</td>\n",
       "      <td>Child</td>\n",
       "      <td>0</td>\n",
       "      <td>0 \"No\" 1 \"Yes\" 8 \"Refused to Answer\" 9 \"Don't ...</td>\n",
       "    </tr>\n",
       "    <tr>\n",
       "      <th>c1_13</th>\n",
       "      <td>Did the baby ever move?</td>\n",
       "      <td>Child</td>\n",
       "      <td>0</td>\n",
       "      <td>0 \"No\" 1 \"Yes\" 8 \"Refused to Answer\" 9 \"Don't ...</td>\n",
       "    </tr>\n",
       "    <tr>\n",
       "      <th>c1_14</th>\n",
       "      <td>Did the baby ever breathe?</td>\n",
       "      <td>Child</td>\n",
       "      <td>0</td>\n",
       "      <td>0 \"No\" 1 \"Yes\" 8 \"Refused to Answer\" 9 \"Don't ...</td>\n",
       "    </tr>\n",
       "    <tr>\n",
       "      <th>c3_04</th>\n",
       "      <td>Did the baby breathe immediately after birth?</td>\n",
       "      <td>Child</td>\n",
       "      <td>0</td>\n",
       "      <td>0 \"No\" 1 \"Yes\" 8 \"Refused to Answer\" 9 \"Don't ...</td>\n",
       "    </tr>\n",
       "    <tr>\n",
       "      <th>c3_05</th>\n",
       "      <td>Did the baby have difficulty breathing?</td>\n",
       "      <td>Child</td>\n",
       "      <td>0</td>\n",
       "      <td>0 \"No\" 1 \"Yes\" 8 \"Refused to Answer\" 9 \"Don't ...</td>\n",
       "    </tr>\n",
       "    <tr>\n",
       "      <th>c3_07</th>\n",
       "      <td>Did the baby cry immediately after birth?</td>\n",
       "      <td>Child</td>\n",
       "      <td>0</td>\n",
       "      <td>0 \"No\" 1 \"Yes\" 8 \"Refused to Answer\" 9 \"Don't ...</td>\n",
       "    </tr>\n",
       "    <tr>\n",
       "      <th>c3_09</th>\n",
       "      <td>Did the baby stop being able to cry?</td>\n",
       "      <td>Child</td>\n",
       "      <td>0</td>\n",
       "      <td>0 \"No\" 1 \"Yes\" 8 \"Refused to Answer\" 9 \"Don't ...</td>\n",
       "    </tr>\n",
       "    <tr>\n",
       "      <th>c3_11</th>\n",
       "      <td>Was the baby able to suckle in a normal way du...</td>\n",
       "      <td>Child</td>\n",
       "      <td>0</td>\n",
       "      <td>0 \"No\" 1 \"Yes\" 8 \"Refused to Answer\" 9 \"Don't ...</td>\n",
       "    </tr>\n",
       "    <tr>\n",
       "      <th>c3_13</th>\n",
       "      <td>Did the baby stop being able to suckle in a no...</td>\n",
       "      <td>Child</td>\n",
       "      <td>0</td>\n",
       "      <td>0 \"No\" 1 \"Yes\" 8 \"Refused to Answer\" 9 \"Don't ...</td>\n",
       "    </tr>\n",
       "    <tr>\n",
       "      <th>c3_16</th>\n",
       "      <td>Was the baby able to open his/her mouth at the...</td>\n",
       "      <td>Child</td>\n",
       "      <td>0</td>\n",
       "      <td>0 \"No\" 1 \"Yes\" 8 \"Refused to Answer\" 9 \"Don't ...</td>\n",
       "    </tr>\n",
       "    <tr>\n",
       "      <th>c3_17</th>\n",
       "      <td>During the illness that led to death, did the ...</td>\n",
       "      <td>Child</td>\n",
       "      <td>0</td>\n",
       "      <td>0 \"No\" 1 \"Yes\" 8 \"Refused to Answer\" 9 \"Don't ...</td>\n",
       "    </tr>\n",
       "    <tr>\n",
       "      <th>c3_20</th>\n",
       "      <td>During the illness that led to death, did the ...</td>\n",
       "      <td>Child</td>\n",
       "      <td>0</td>\n",
       "      <td>0 \"No\" 1 \"Yes\" 8 \"Refused to Answer\" 9 \"Don't ...</td>\n",
       "    </tr>\n",
       "    <tr>\n",
       "      <th>c3_23</th>\n",
       "      <td>During the illness that led to death, did the ...</td>\n",
       "      <td>Child</td>\n",
       "      <td>0</td>\n",
       "      <td>0 \"No\" 1 \"Yes\" 8 \"Refused to Answer\" 9 \"Don't ...</td>\n",
       "    </tr>\n",
       "    <tr>\n",
       "      <th>c3_24</th>\n",
       "      <td>During the illness that led to death, did the ...</td>\n",
       "      <td>Child</td>\n",
       "      <td>0</td>\n",
       "      <td>0 \"No\" 1 \"Yes\" 8 \"Refused to Answer\" 9 \"Don't ...</td>\n",
       "    </tr>\n",
       "    <tr>\n",
       "      <th>c3_25</th>\n",
       "      <td>During the illness that led to death did the b...</td>\n",
       "      <td>Child</td>\n",
       "      <td>0</td>\n",
       "      <td>0 \"No\" 1 \"Yes\" 8 \"Refused to Answer\" 9 \"Don't ...</td>\n",
       "    </tr>\n",
       "    <tr>\n",
       "      <th>c3_26</th>\n",
       "      <td>During the illness that led to death, did the ...</td>\n",
       "      <td>Child</td>\n",
       "      <td>0</td>\n",
       "      <td>0 \"No\" 1 \"Yes\" 8 \"Refused to Answer\" 9 \"Don't ...</td>\n",
       "    </tr>\n",
       "    <tr>\n",
       "      <th>c3_29</th>\n",
       "      <td>During the illness that led to death, did the ...</td>\n",
       "      <td>Child</td>\n",
       "      <td>0</td>\n",
       "      <td>0 \"No\" 1 \"Yes\" 8 \"Refused to Answer\" 9 \"Don't ...</td>\n",
       "    </tr>\n",
       "    <tr>\n",
       "      <th>c3_32</th>\n",
       "      <td>During the illness that led to death, did the ...</td>\n",
       "      <td>Child</td>\n",
       "      <td>0</td>\n",
       "      <td>0 \"No\" 1 \"Yes\" 8 \"Refused to Answer\" 9 \"Don't ...</td>\n",
       "    </tr>\n",
       "    <tr>\n",
       "      <th>c3_33</th>\n",
       "      <td>During the illness that led to death, did the ...</td>\n",
       "      <td>Child</td>\n",
       "      <td>0</td>\n",
       "      <td>0 \"No\" 1 \"Yes\" 8 \"Refused to Answer\" 9 \"Don't ...</td>\n",
       "    </tr>\n",
       "    <tr>\n",
       "      <th>c3_34</th>\n",
       "      <td>During the illness that led to death, did the ...</td>\n",
       "      <td>Child</td>\n",
       "      <td>0</td>\n",
       "      <td>0 \"No\" 1 \"Yes\" 8 \"Refused to Answer\" 9 \"Don't ...</td>\n",
       "    </tr>\n",
       "    <tr>\n",
       "      <th>c3_35</th>\n",
       "      <td>During the illness that led to death, did the ...</td>\n",
       "      <td>Child</td>\n",
       "      <td>0</td>\n",
       "      <td>0 \"No\" 1 \"Yes\" 8 \"Refused to Answer\" 9 \"Don't ...</td>\n",
       "    </tr>\n",
       "    <tr>\n",
       "      <th>c3_36</th>\n",
       "      <td>During the illness that led to death, did the ...</td>\n",
       "      <td>Child</td>\n",
       "      <td>0</td>\n",
       "      <td>0 \"No\" 1 \"Yes\" 8 \"Refused to Answer\" 9 \"Don't ...</td>\n",
       "    </tr>\n",
       "    <tr>\n",
       "      <th>c3_37</th>\n",
       "      <td>Did the redness of the umbilical cord stump ex...</td>\n",
       "      <td>Child</td>\n",
       "      <td>0</td>\n",
       "      <td>0 \"No\" 1 \"Yes\" 8 \"Refused to Answer\" 9 \"Don't ...</td>\n",
       "    </tr>\n",
       "    <tr>\n",
       "      <th>c3_38</th>\n",
       "      <td>During the illness that led to death, did the ...</td>\n",
       "      <td>Child</td>\n",
       "      <td>0</td>\n",
       "      <td>0 \"No\" 1 \"Yes\" 8 \"Refused to Answer\" 9 \"Don't ...</td>\n",
       "    </tr>\n",
       "    <tr>\n",
       "      <th>c3_39</th>\n",
       "      <td>During the illness that led to death, did the ...</td>\n",
       "      <td>Child</td>\n",
       "      <td>0</td>\n",
       "      <td>0 \"No\" 1 \"Yes\" 8 \"Refused to Answer\" 9 \"Don't ...</td>\n",
       "    </tr>\n",
       "    <tr>\n",
       "      <th>c3_40</th>\n",
       "      <td>During the illness that led to death, did the ...</td>\n",
       "      <td>Child</td>\n",
       "      <td>0</td>\n",
       "      <td>0 \"No\" 1 \"Yes\" 8 \"Refused to Answer\" 9 \"Don't ...</td>\n",
       "    </tr>\n",
       "    <tr>\n",
       "      <th>c3_41</th>\n",
       "      <td>During the illness that led to death, did he/s...</td>\n",
       "      <td>Child</td>\n",
       "      <td>0</td>\n",
       "      <td>0 \"No\" 1 \"Yes\" 8 \"Refused to Answer\" 9 \"Don't ...</td>\n",
       "    </tr>\n",
       "    <tr>\n",
       "      <th>c3_42</th>\n",
       "      <td>During the illness that led to death, did the ...</td>\n",
       "      <td>Child</td>\n",
       "      <td>0</td>\n",
       "      <td>0 \"No\" 1 \"Yes\" 8 \"Refused to Answer\" 9 \"Don't ...</td>\n",
       "    </tr>\n",
       "    <tr>\n",
       "      <th>c3_44</th>\n",
       "      <td>During the illness that led to death, did he/s...</td>\n",
       "      <td>Child</td>\n",
       "      <td>0</td>\n",
       "      <td>0 \"No\" 1 \"Yes\" 8 \"Refused to Answer\" 9 \"Don't ...</td>\n",
       "    </tr>\n",
       "    <tr>\n",
       "      <th>c3_46</th>\n",
       "      <td>During the illness that led to death, did he/s...</td>\n",
       "      <td>Child</td>\n",
       "      <td>0</td>\n",
       "      <td>0 \"No\" 1 \"Yes\" 8 \"Refused to Answer\" 9 \"Don't ...</td>\n",
       "    </tr>\n",
       "    <tr>\n",
       "      <th>c3_47</th>\n",
       "      <td>During the illness that led to death, did he/s...</td>\n",
       "      <td>Child</td>\n",
       "      <td>0</td>\n",
       "      <td>0 \"No\" 1 \"Yes\" 8 \"Refused to Answer\" 9 \"Don't ...</td>\n",
       "    </tr>\n",
       "    <tr>\n",
       "      <th>c3_48</th>\n",
       "      <td>During the illness that led to death, did the ...</td>\n",
       "      <td>Child</td>\n",
       "      <td>0</td>\n",
       "      <td>0 \"No\" 1 \"Yes\" 8 \"Refused to Answer\" 9 \"Don't ...</td>\n",
       "    </tr>\n",
       "    <tr>\n",
       "      <th>c3_49</th>\n",
       "      <td>Did the infant appear to be healthy and then j...</td>\n",
       "      <td>Child</td>\n",
       "      <td>0</td>\n",
       "      <td>0 \"No\" 1 \"Yes\" 8 \"Refused to Answer\" 9 \"Don't ...</td>\n",
       "    </tr>\n",
       "  </tbody>\n",
       "</table>\n",
       "</div>"
      ],
      "text/plain": [
       "                                                   question module  \\\n",
       "variable                                                             \n",
       "c1_12                                Did the baby ever cry?  Child   \n",
       "c1_13                               Did the baby ever move?  Child   \n",
       "c1_14                            Did the baby ever breathe?  Child   \n",
       "c3_04         Did the baby breathe immediately after birth?  Child   \n",
       "c3_05               Did the baby have difficulty breathing?  Child   \n",
       "c3_07             Did the baby cry immediately after birth?  Child   \n",
       "c3_09                  Did the baby stop being able to cry?  Child   \n",
       "c3_11     Was the baby able to suckle in a normal way du...  Child   \n",
       "c3_13     Did the baby stop being able to suckle in a no...  Child   \n",
       "c3_16     Was the baby able to open his/her mouth at the...  Child   \n",
       "c3_17     During the illness that led to death, did the ...  Child   \n",
       "c3_20     During the illness that led to death, did the ...  Child   \n",
       "c3_23     During the illness that led to death, did the ...  Child   \n",
       "c3_24     During the illness that led to death, did the ...  Child   \n",
       "c3_25     During the illness that led to death did the b...  Child   \n",
       "c3_26     During the illness that led to death, did the ...  Child   \n",
       "c3_29     During the illness that led to death, did the ...  Child   \n",
       "c3_32     During the illness that led to death, did the ...  Child   \n",
       "c3_33     During the illness that led to death, did the ...  Child   \n",
       "c3_34     During the illness that led to death, did the ...  Child   \n",
       "c3_35     During the illness that led to death, did the ...  Child   \n",
       "c3_36     During the illness that led to death, did the ...  Child   \n",
       "c3_37     Did the redness of the umbilical cord stump ex...  Child   \n",
       "c3_38     During the illness that led to death, did the ...  Child   \n",
       "c3_39     During the illness that led to death, did the ...  Child   \n",
       "c3_40     During the illness that led to death, did the ...  Child   \n",
       "c3_41     During the illness that led to death, did he/s...  Child   \n",
       "c3_42     During the illness that led to death, did the ...  Child   \n",
       "c3_44     During the illness that led to death, did he/s...  Child   \n",
       "c3_46     During the illness that led to death, did he/s...  Child   \n",
       "c3_47     During the illness that led to death, did he/s...  Child   \n",
       "c3_48     During the illness that led to death, did the ...  Child   \n",
       "c3_49     Did the infant appear to be healthy and then j...  Child   \n",
       "\n",
       "          health_care_experience  \\\n",
       "variable                           \n",
       "c1_12                          0   \n",
       "c1_13                          0   \n",
       "c1_14                          0   \n",
       "c3_04                          0   \n",
       "c3_05                          0   \n",
       "c3_07                          0   \n",
       "c3_09                          0   \n",
       "c3_11                          0   \n",
       "c3_13                          0   \n",
       "c3_16                          0   \n",
       "c3_17                          0   \n",
       "c3_20                          0   \n",
       "c3_23                          0   \n",
       "c3_24                          0   \n",
       "c3_25                          0   \n",
       "c3_26                          0   \n",
       "c3_29                          0   \n",
       "c3_32                          0   \n",
       "c3_33                          0   \n",
       "c3_34                          0   \n",
       "c3_35                          0   \n",
       "c3_36                          0   \n",
       "c3_37                          0   \n",
       "c3_38                          0   \n",
       "c3_39                          0   \n",
       "c3_40                          0   \n",
       "c3_41                          0   \n",
       "c3_42                          0   \n",
       "c3_44                          0   \n",
       "c3_46                          0   \n",
       "c3_47                          0   \n",
       "c3_48                          0   \n",
       "c3_49                          0   \n",
       "\n",
       "                                                     coding  \n",
       "variable                                                     \n",
       "c1_12     0 \"No\" 1 \"Yes\" 8 \"Refused to Answer\" 9 \"Don't ...  \n",
       "c1_13     0 \"No\" 1 \"Yes\" 8 \"Refused to Answer\" 9 \"Don't ...  \n",
       "c1_14     0 \"No\" 1 \"Yes\" 8 \"Refused to Answer\" 9 \"Don't ...  \n",
       "c3_04     0 \"No\" 1 \"Yes\" 8 \"Refused to Answer\" 9 \"Don't ...  \n",
       "c3_05     0 \"No\" 1 \"Yes\" 8 \"Refused to Answer\" 9 \"Don't ...  \n",
       "c3_07     0 \"No\" 1 \"Yes\" 8 \"Refused to Answer\" 9 \"Don't ...  \n",
       "c3_09     0 \"No\" 1 \"Yes\" 8 \"Refused to Answer\" 9 \"Don't ...  \n",
       "c3_11     0 \"No\" 1 \"Yes\" 8 \"Refused to Answer\" 9 \"Don't ...  \n",
       "c3_13     0 \"No\" 1 \"Yes\" 8 \"Refused to Answer\" 9 \"Don't ...  \n",
       "c3_16     0 \"No\" 1 \"Yes\" 8 \"Refused to Answer\" 9 \"Don't ...  \n",
       "c3_17     0 \"No\" 1 \"Yes\" 8 \"Refused to Answer\" 9 \"Don't ...  \n",
       "c3_20     0 \"No\" 1 \"Yes\" 8 \"Refused to Answer\" 9 \"Don't ...  \n",
       "c3_23     0 \"No\" 1 \"Yes\" 8 \"Refused to Answer\" 9 \"Don't ...  \n",
       "c3_24     0 \"No\" 1 \"Yes\" 8 \"Refused to Answer\" 9 \"Don't ...  \n",
       "c3_25     0 \"No\" 1 \"Yes\" 8 \"Refused to Answer\" 9 \"Don't ...  \n",
       "c3_26     0 \"No\" 1 \"Yes\" 8 \"Refused to Answer\" 9 \"Don't ...  \n",
       "c3_29     0 \"No\" 1 \"Yes\" 8 \"Refused to Answer\" 9 \"Don't ...  \n",
       "c3_32     0 \"No\" 1 \"Yes\" 8 \"Refused to Answer\" 9 \"Don't ...  \n",
       "c3_33     0 \"No\" 1 \"Yes\" 8 \"Refused to Answer\" 9 \"Don't ...  \n",
       "c3_34     0 \"No\" 1 \"Yes\" 8 \"Refused to Answer\" 9 \"Don't ...  \n",
       "c3_35     0 \"No\" 1 \"Yes\" 8 \"Refused to Answer\" 9 \"Don't ...  \n",
       "c3_36     0 \"No\" 1 \"Yes\" 8 \"Refused to Answer\" 9 \"Don't ...  \n",
       "c3_37     0 \"No\" 1 \"Yes\" 8 \"Refused to Answer\" 9 \"Don't ...  \n",
       "c3_38     0 \"No\" 1 \"Yes\" 8 \"Refused to Answer\" 9 \"Don't ...  \n",
       "c3_39     0 \"No\" 1 \"Yes\" 8 \"Refused to Answer\" 9 \"Don't ...  \n",
       "c3_40     0 \"No\" 1 \"Yes\" 8 \"Refused to Answer\" 9 \"Don't ...  \n",
       "c3_41     0 \"No\" 1 \"Yes\" 8 \"Refused to Answer\" 9 \"Don't ...  \n",
       "c3_42     0 \"No\" 1 \"Yes\" 8 \"Refused to Answer\" 9 \"Don't ...  \n",
       "c3_44     0 \"No\" 1 \"Yes\" 8 \"Refused to Answer\" 9 \"Don't ...  \n",
       "c3_46     0 \"No\" 1 \"Yes\" 8 \"Refused to Answer\" 9 \"Don't ...  \n",
       "c3_47     0 \"No\" 1 \"Yes\" 8 \"Refused to Answer\" 9 \"Don't ...  \n",
       "c3_48     0 \"No\" 1 \"Yes\" 8 \"Refused to Answer\" 9 \"Don't ...  \n",
       "c3_49     0 \"No\" 1 \"Yes\" 8 \"Refused to Answer\" 9 \"Don't ...  "
      ]
     },
     "execution_count": 71,
     "metadata": {},
     "output_type": "execute_result"
    }
   ],
   "source": [
    "codebook.loc[neonate_symptoms]"
   ]
  },
  {
   "cell_type": "code",
   "execution_count": 72,
   "metadata": {
    "collapsed": false
   },
   "outputs": [
    {
     "data": {
      "text/plain": [
       "33"
      ]
     },
     "execution_count": 72,
     "metadata": {},
     "output_type": "execute_result"
    }
   ],
   "source": [
    "len(neonate_symptoms)"
   ]
  },
  {
   "cell_type": "code",
   "execution_count": 73,
   "metadata": {
    "collapsed": false
   },
   "outputs": [
    {
     "data": {
      "text/plain": [
       "Dead                 913\n",
       "Alive                 84\n",
       "Don't Know             7\n",
       "Refused to Answer      1\n",
       "Name: c1_11, dtype: int64"
      ]
     },
     "execution_count": 73,
     "metadata": {},
     "output_type": "execute_result"
    }
   ],
   "source": [
    "stillbirth = df.gs_text34 == 'Stillbirth'\n",
    "df.loc[stillbirth].c1_11.value_counts()"
   ]
  },
  {
   "cell_type": "code",
   "execution_count": 75,
   "metadata": {
    "collapsed": false
   },
   "outputs": [
    {
     "data": {
      "text/plain": [
       "81"
      ]
     },
     "execution_count": 75,
     "metadata": {},
     "output_type": "execute_result"
    }
   ],
   "source": [
    "stillbirth_symptoms = df.loc[stillbirth, neonate_symptoms].applymap(lambda x: True if x == \"Yes\" else False)\n",
    "stillbirth_symptoms.any(1).sum()"
   ]
  },
  {
   "cell_type": "code",
   "execution_count": 76,
   "metadata": {
    "collapsed": false
   },
   "outputs": [
    {
     "data": {
      "text/html": [
       "<div>\n",
       "<table border=\"1\" class=\"dataframe\">\n",
       "  <thead>\n",
       "    <tr style=\"text-align: right;\">\n",
       "      <th>c1_11</th>\n",
       "      <th>Alive</th>\n",
       "      <th>Dead</th>\n",
       "      <th>Don't Know</th>\n",
       "      <th>Refused to Answer</th>\n",
       "    </tr>\n",
       "    <tr>\n",
       "      <th>row_0</th>\n",
       "      <th></th>\n",
       "      <th></th>\n",
       "      <th></th>\n",
       "      <th></th>\n",
       "    </tr>\n",
       "  </thead>\n",
       "  <tbody>\n",
       "    <tr>\n",
       "      <th>False</th>\n",
       "      <td>7</td>\n",
       "      <td>910</td>\n",
       "      <td>6</td>\n",
       "      <td>1</td>\n",
       "    </tr>\n",
       "    <tr>\n",
       "      <th>True</th>\n",
       "      <td>77</td>\n",
       "      <td>3</td>\n",
       "      <td>1</td>\n",
       "      <td>0</td>\n",
       "    </tr>\n",
       "  </tbody>\n",
       "</table>\n",
       "</div>"
      ],
      "text/plain": [
       "c1_11  Alive  Dead  Don't Know  Refused to Answer\n",
       "row_0                                            \n",
       "False      7   910           6                  1\n",
       "True      77     3           1                  0"
      ]
     },
     "execution_count": 76,
     "metadata": {},
     "output_type": "execute_result"
    }
   ],
   "source": [
    "pd.crosstab(stillbirth_symptoms.any(1), df.loc[stillbirth, 'c1_11'])"
   ]
  },
  {
   "cell_type": "code",
   "execution_count": 77,
   "metadata": {
    "collapsed": false
   },
   "outputs": [
    {
     "data": {
      "text/plain": [
       "c1_12    36\n",
       "c1_13    61\n",
       "c1_14    72\n",
       "c3_04    69\n",
       "c3_05    35\n",
       "c3_07    34\n",
       "c3_09    26\n",
       "c3_11     3\n",
       "c3_13     3\n",
       "c3_16     1\n",
       "c3_17    46\n",
       "c3_20     6\n",
       "c3_23     3\n",
       "c3_24     6\n",
       "c3_25     0\n",
       "c3_26     5\n",
       "c3_29    10\n",
       "c3_32    16\n",
       "c3_33    11\n",
       "c3_34     2\n",
       "c3_35     1\n",
       "c3_36     2\n",
       "c3_37     0\n",
       "c3_38     0\n",
       "c3_39     1\n",
       "c3_40     2\n",
       "c3_41     2\n",
       "c3_42     2\n",
       "c3_44     0\n",
       "c3_46     1\n",
       "c3_47    21\n",
       "c3_48     2\n",
       "c3_49    25\n",
       "dtype: int64"
      ]
     },
     "execution_count": 77,
     "metadata": {},
     "output_type": "execute_result"
    }
   ],
   "source": [
    "stillbirth_symptoms.sum()"
   ]
  },
  {
   "cell_type": "code",
   "execution_count": 78,
   "metadata": {
    "collapsed": false
   },
   "outputs": [
    {
     "data": {
      "text/plain": [
       "Dar       40\n",
       "Pemba     20\n",
       "Mexico     8\n",
       "AP         7\n",
       "Bohol      6\n",
       "Name: site, dtype: int64"
      ]
     },
     "execution_count": 78,
     "metadata": {},
     "output_type": "execute_result"
    }
   ],
   "source": [
    "df.loc[stillbirth & stillbirth_symptoms.any(1), 'site'].value_counts()"
   ]
  },
  {
   "cell_type": "markdown",
   "metadata": {},
   "source": [
    "## High Rates of Respiratory Symptoms\n",
    "A high proportion of cases (7,898/11,984; 65.9%) were reported as having respiratory symptoms in the VA interviews, although 2,134/11,984 (17.8%) had respiratory-related PHMRC causes of death assigned."
   ]
  },
  {
   "cell_type": "code",
   "execution_count": 79,
   "metadata": {
    "collapsed": false
   },
   "outputs": [
    {
     "data": {
      "text/plain": [
       "module\n",
       "Adult      1140\n",
       "Child       532\n",
       "Neonate     545\n",
       "dtype: int64"
      ]
     },
     "execution_count": 79,
     "metadata": {},
     "output_type": "execute_result"
    }
   ],
   "source": [
    "resp_cod = ['Asthma', 'Birth asphyxia', 'COPD', 'Lung Cancer', 'Pneumonia', 'TB']\n",
    "df.loc[df.gs_text34.isin(resp_cod)].groupby('module').size()"
   ]
  },
  {
   "cell_type": "code",
   "execution_count": 80,
   "metadata": {
    "collapsed": false
   },
   "outputs": [],
   "source": [
    "resp_symptoms = pd.DataFrame(index=df.index)\n",
    "resp_symptoms['module'] = df.module\n",
    "resp_symptoms['cause'] = df.gs_text34.map(lambda x: 'resp' if x in resp_cod else 'other')\n",
    "resp_symptoms['rapid_breathing'] = (df.a2_40 == 'Yes') | (df.c3_20 == 'Yes')\n",
    "resp_symptoms['on_exertion'] = (df.a2_39_1 == 'Walking/Exertion') | (df.a2_39_2 == 'Walking/Exertion')\n",
    "resp_symptoms['lying_down'] = (df.a2_39_1 == 'Lying') | (df.a2_39_2 == 'Lying')\n",
    "resp_symptoms['indrawing'] = (df.c3_23 == 'Yes') | (df.c4_20 == 'Yes')\n",
    "resp_symptoms['wheezing'] = (df.a2_42 == 'Yes') | (df.c4_23 == 'Yes') | (df.c4_23 == 'Yes') | (df.c3_24)"
   ]
  },
  {
   "cell_type": "code",
   "execution_count": 81,
   "metadata": {
    "collapsed": false
   },
   "outputs": [
    {
     "data": {
      "text/html": [
       "<div>\n",
       "<table border=\"1\" class=\"dataframe\">\n",
       "  <thead>\n",
       "    <tr>\n",
       "      <th>cause</th>\n",
       "      <th colspan=\"3\" halign=\"left\">resp</th>\n",
       "      <th colspan=\"3\" halign=\"left\">other</th>\n",
       "    </tr>\n",
       "    <tr>\n",
       "      <th>module</th>\n",
       "      <th>Adult</th>\n",
       "      <th>Child</th>\n",
       "      <th>Neonate</th>\n",
       "      <th>Adult</th>\n",
       "      <th>Child</th>\n",
       "      <th>Neonate</th>\n",
       "    </tr>\n",
       "  </thead>\n",
       "  <tbody>\n",
       "    <tr>\n",
       "      <th>rapid_breathing</th>\n",
       "      <td>608.0</td>\n",
       "      <td>0.0</td>\n",
       "      <td>123.0</td>\n",
       "      <td>2419.0</td>\n",
       "      <td>0.0</td>\n",
       "      <td>285.0</td>\n",
       "    </tr>\n",
       "    <tr>\n",
       "      <th>on_exertion</th>\n",
       "      <td>103.0</td>\n",
       "      <td>0.0</td>\n",
       "      <td>0.0</td>\n",
       "      <td>351.0</td>\n",
       "      <td>0.0</td>\n",
       "      <td>0.0</td>\n",
       "    </tr>\n",
       "    <tr>\n",
       "      <th>lying_down</th>\n",
       "      <td>340.0</td>\n",
       "      <td>0.0</td>\n",
       "      <td>0.0</td>\n",
       "      <td>1729.0</td>\n",
       "      <td>0.0</td>\n",
       "      <td>0.0</td>\n",
       "    </tr>\n",
       "    <tr>\n",
       "      <th>indrawing</th>\n",
       "      <td>0.0</td>\n",
       "      <td>274.0</td>\n",
       "      <td>102.0</td>\n",
       "      <td>0.0</td>\n",
       "      <td>359.0</td>\n",
       "      <td>269.0</td>\n",
       "    </tr>\n",
       "    <tr>\n",
       "      <th>wheezing</th>\n",
       "      <td>345.0</td>\n",
       "      <td>164.0</td>\n",
       "      <td>545.0</td>\n",
       "      <td>1077.0</td>\n",
       "      <td>275.0</td>\n",
       "      <td>2080.0</td>\n",
       "    </tr>\n",
       "  </tbody>\n",
       "</table>\n",
       "</div>"
      ],
      "text/plain": [
       "cause             resp                  other               \n",
       "module           Adult  Child Neonate   Adult  Child Neonate\n",
       "rapid_breathing  608.0    0.0   123.0  2419.0    0.0   285.0\n",
       "on_exertion      103.0    0.0     0.0   351.0    0.0     0.0\n",
       "lying_down       340.0    0.0     0.0  1729.0    0.0     0.0\n",
       "indrawing          0.0  274.0   102.0     0.0  359.0   269.0\n",
       "wheezing         345.0  164.0   545.0  1077.0  275.0  2080.0"
      ]
     },
     "execution_count": 81,
     "metadata": {},
     "output_type": "execute_result"
    }
   ],
   "source": [
    "resp_symptoms.groupby(['module', 'cause']).sum().stack().unstack(1).sortlevel(0,1,False).unstack(0)"
   ]
  },
  {
   "cell_type": "code",
   "execution_count": 82,
   "metadata": {
    "collapsed": false
   },
   "outputs": [
    {
     "data": {
      "text/plain": [
       "other    10313\n",
       "resp      2217\n",
       "Name: cause, dtype: int64"
      ]
     },
     "execution_count": 82,
     "metadata": {},
     "output_type": "execute_result"
    }
   ],
   "source": [
    "resp_symptoms.cause.value_counts()"
   ]
  },
  {
   "cell_type": "markdown",
   "metadata": {},
   "source": [
    "## Preterm\n",
    "Nevertheless, there are some differences both of principle\n",
    "and detail that cannot be totally reconciled between the\n",
    "PHMRC and WHO 2012 approaches. The PHMRC study\n",
    "set out to rigorously define causes of death, but this involved\n",
    "imposing some hierarchies which may not be\n",
    "universally recognized and are not always consistent with\n",
    "ICD-10 coding. For example, prematurity as cause of death\n",
    "can be applied according to the PHMRC definitions if a\n",
    "baby is born at <33 weeks gestational age and experienced\n",
    "‘death from another medically documented neonatal\n",
    "condition’ irrespective of that condition [7]. This differs\n",
    "appreciably from ICD-10 coding: ‘The mode of death, e.g.\n",
    "heart failure, asphyxia or anoxia, should not be entered…\n",
    "[as the most important cause] …unless it was the only\n",
    "fetal or infant condition known. This also holds true for\n",
    "prematurity’. [18]. As can be seen from the PHMRC causes\n",
    "of death in Figure 1, prematurity is consequently the dominant\n",
    "component of mortality throughout the neonatal\n",
    "period. InterVA-4, on the other hand, ascribes more of\n",
    "these later neonatal deaths among premature babies to\n",
    "infectious causes, based on their subsequently reported\n",
    "symptoms. Neither of these two approaches is necessarily\n",
    "right or wrong, and both may actually be different views\n",
    "of the same reality; but the differences are very important\n",
    "in statistical descriptions of neonatal mortality and in\n",
    "assessing the comparability of different methods of cause\n",
    "of death ascertainment.\n",
    "\n",
    "##### Response:\n",
    "Here's a slightly different mapping from the detailed list to\n",
    "a the categories Byass reports in Figure 1. Preterm with infections\n",
    "have been categorized as infections instead of preterm which\n",
    "starts to show the pattern Byass found with Interva, though not\n",
    "too strongly."
   ]
  },
  {
   "cell_type": "code",
   "execution_count": 83,
   "metadata": {
    "collapsed": true
   },
   "outputs": [],
   "source": [
    "def calc_neonate_ages(series, age_vars):\n",
    "    agedays = calc_agedays(series, age_vars)\n",
    "    if agedays == 0:\n",
    "        return '0'\n",
    "    elif agedays == 1:\n",
    "        return '1'\n",
    "    elif 2 <= agedays <= 6:\n",
    "        return '2-6'\n",
    "    elif 7 <= agedays <= 28:\n",
    "        return '7-28'\n",
    "    else:\n",
    "        return np.nan"
   ]
  },
  {
   "cell_type": "code",
   "execution_count": 84,
   "metadata": {
    "collapsed": true
   },
   "outputs": [],
   "source": [
    "neonate_map = {\n",
    "    'Birth asphyxia': 'Birth asphyxia',\n",
    "    'Congenital malformation': 'Congenital malformation',\n",
    "    \n",
    "    'Preterm Delivery (<33 weeks GA) without Respiratory Distress Syndrome': 'Prematurity',\n",
    "    'Respiratory distress syndrome (<33 wks GA)': 'Prematurity',\n",
    "    'Preterm Delivery (without RDS) and Birth Asphyxia': 'Prematurity',\n",
    "    'Respiratory distress syndrome (33-36 wks GA)': 'Prematurity',\n",
    "    \n",
    "    'Sepsis (Serious Infection)': 'Infections',\n",
    "    'Pneumonia (Serious Infection)': 'Infections',\n",
    "    'Preterm Delivery (with or without RDS) and Sepsis': 'Infections',\n",
    "    'Preterm Delivery (without RDS) and Sepsis and Birth Asphyxia': 'Infections',\n",
    "    'Sepsis with Local Bacterial Infection': 'Infections',\n",
    "    'Meningitis (Serious Infection)': 'Infections',\n",
    "}"
   ]
  },
  {
   "cell_type": "code",
   "execution_count": 85,
   "metadata": {
    "collapsed": false
   },
   "outputs": [
    {
     "name": "stderr",
     "output_type": "stream",
     "text": [
      "C:\\Users\\josephj7\\AppData\\Local\\Continuum\\Anaconda3\\envs\\py27\\lib\\site-packages\\ipykernel\\__main__.py:2: SettingWithCopyWarning: \n",
      "A value is trying to be set on a copy of a slice from a DataFrame.\n",
      "Try using .loc[row_indexer,col_indexer] = value instead\n",
      "\n",
      "See the caveats in the documentation: http://pandas.pydata.org/pandas-docs/stable/indexing.html#indexing-view-versus-copy\n",
      "  from ipykernel import kernelapp as app\n",
      "C:\\Users\\josephj7\\AppData\\Local\\Continuum\\Anaconda3\\envs\\py27\\lib\\site-packages\\ipykernel\\__main__.py:3: SettingWithCopyWarning: \n",
      "A value is trying to be set on a copy of a slice from a DataFrame.\n",
      "Try using .loc[row_indexer,col_indexer] = value instead\n",
      "\n",
      "See the caveats in the documentation: http://pandas.pydata.org/pandas-docs/stable/indexing.html#indexing-view-versus-copy\n",
      "  app.launch_new_instance()\n"
     ]
    }
   ],
   "source": [
    "neonate = df.loc[(df.module == 'Neonate') & (df.gs_text34 != 'Stillbirth')]\n",
    "neonate['days from birth'] = neonate.apply(calc_neonate_ages, axis=1, args=(age_vars1,))\n",
    "neonate['gold standard'] = df.gs_text55.replace(neonate_map)\n",
    "neonate_data = neonate.groupby(['days from birth', 'gold standard']).size().reset_index()\n",
    "neonate_data = neonate_data.rename(columns={0: 'count'})\n",
    "order =['Birth asphyxia', 'Prematurity', 'Infections', 'Congenital malformation']\n",
    "neonate_data = neonate_data.pivot(index='days from birth', columns='gold standard', values='count')[order]"
   ]
  },
  {
   "cell_type": "code",
   "execution_count": 86,
   "metadata": {
    "collapsed": false
   },
   "outputs": [
    {
     "data": {
      "text/plain": [
       "<matplotlib.legend.Legend at 0xf9678d0>"
      ]
     },
     "execution_count": 86,
     "metadata": {},
     "output_type": "execute_result"
    },
    {
     "data": {
      "image/png": "[encoded data removed]",
      "text/plain": [
       "<matplotlib.figure.Figure at 0xf9677b8>"
      ]
     },
     "metadata": {},
     "output_type": "display_data"
    }
   ],
   "source": [
    "fig = plt.figure()\n",
    "neonate_data.plot.bar(stacked=True, rot=0, ax=fig.gca(), title='PHMRC', legend='reverse')\n",
    "plt.legend(loc='center left', bbox_to_anchor=(1.0, 0.5))"
   ]
  },
  {
   "cell_type": "markdown",
   "metadata": {},
   "source": [
    "## Oxygen therapy during end of life\n",
    "The very high proportion of VA interviews reporting respiratory symptoms in the PHMRC dataset is also worth noting. Table 3 shows rather non-specific relationships between respiratory symptoms and respiratory causes of death in the PHMRC data, which need further investigation and explanation. One possibility is that many patients in tertiary facilities may receive oxygen therapy in the final stages of an illness leading to death, which may be interpreted as respiratory difficulties by family and friends when later responding to a VA interview."
   ]
  },
  {
   "cell_type": "code",
   "execution_count": 87,
   "metadata": {
    "collapsed": true
   },
   "outputs": [],
   "source": [
    "adults = df.loc[df.module == 'Adult']"
   ]
  },
  {
   "cell_type": "code",
   "execution_count": 88,
   "metadata": {
    "collapsed": true
   },
   "outputs": [],
   "source": [
    "resp = ['a2_36', 'a2_40', 'a2_42']\n",
    "hospital_care = ['a6_02_4', 'a6_02_6']"
   ]
  },
  {
   "cell_type": "code",
   "execution_count": 89,
   "metadata": {
    "collapsed": false
   },
   "outputs": [
    {
     "data": {
      "text/html": [
       "<div>\n",
       "<table border=\"1\" class=\"dataframe\">\n",
       "  <thead>\n",
       "    <tr style=\"text-align: right;\">\n",
       "      <th></th>\n",
       "      <th>question</th>\n",
       "      <th>module</th>\n",
       "      <th>health_care_experience</th>\n",
       "      <th>coding</th>\n",
       "    </tr>\n",
       "    <tr>\n",
       "      <th>variable</th>\n",
       "      <th></th>\n",
       "      <th></th>\n",
       "      <th></th>\n",
       "      <th></th>\n",
       "    </tr>\n",
       "  </thead>\n",
       "  <tbody>\n",
       "    <tr>\n",
       "      <th>a2_36</th>\n",
       "      <td>Did [name] have difficulty breathing?</td>\n",
       "      <td>Adult</td>\n",
       "      <td>0</td>\n",
       "      <td>0 \"No\" 1 \"Yes\" 8 \"Refused to Answer\" 9 \"Don't ...</td>\n",
       "    </tr>\n",
       "    <tr>\n",
       "      <th>a2_40</th>\n",
       "      <td>Did [name] have fast breathing?</td>\n",
       "      <td>Adult</td>\n",
       "      <td>0</td>\n",
       "      <td>0 \"No\" 1 \"Yes\" 8 \"Refused to Answer\" 9 \"Don't ...</td>\n",
       "    </tr>\n",
       "    <tr>\n",
       "      <th>a2_42</th>\n",
       "      <td>Did [name] wheeze?</td>\n",
       "      <td>Adult</td>\n",
       "      <td>0</td>\n",
       "      <td>0 \"No\" 1 \"Yes\" 8 \"Refused to Answer\" 9 \"Don't ...</td>\n",
       "    </tr>\n",
       "    <tr>\n",
       "      <th>a6_02_4</th>\n",
       "      <td>Care sought - government hospital</td>\n",
       "      <td>Adult</td>\n",
       "      <td>0</td>\n",
       "      <td>0 \"No\" 1 \"Yes\" 8 \"Refused to Answer\" 9 \"Don't ...</td>\n",
       "    </tr>\n",
       "    <tr>\n",
       "      <th>a6_02_6</th>\n",
       "      <td>Care sought - private hospital</td>\n",
       "      <td>Adult</td>\n",
       "      <td>0</td>\n",
       "      <td>0 \"No\" 1 \"Yes\" 8 \"Refused to Answer\" 9 \"Don't ...</td>\n",
       "    </tr>\n",
       "  </tbody>\n",
       "</table>\n",
       "</div>"
      ],
      "text/plain": [
       "                                       question module  \\\n",
       "variable                                                 \n",
       "a2_36     Did [name] have difficulty breathing?  Adult   \n",
       "a2_40           Did [name] have fast breathing?  Adult   \n",
       "a2_42                        Did [name] wheeze?  Adult   \n",
       "a6_02_4       Care sought - government hospital  Adult   \n",
       "a6_02_6          Care sought - private hospital  Adult   \n",
       "\n",
       "          health_care_experience  \\\n",
       "variable                           \n",
       "a2_36                          0   \n",
       "a2_40                          0   \n",
       "a2_42                          0   \n",
       "a6_02_4                        0   \n",
       "a6_02_6                        0   \n",
       "\n",
       "                                                     coding  \n",
       "variable                                                     \n",
       "a2_36     0 \"No\" 1 \"Yes\" 8 \"Refused to Answer\" 9 \"Don't ...  \n",
       "a2_40     0 \"No\" 1 \"Yes\" 8 \"Refused to Answer\" 9 \"Don't ...  \n",
       "a2_42     0 \"No\" 1 \"Yes\" 8 \"Refused to Answer\" 9 \"Don't ...  \n",
       "a6_02_4   0 \"No\" 1 \"Yes\" 8 \"Refused to Answer\" 9 \"Don't ...  \n",
       "a6_02_6   0 \"No\" 1 \"Yes\" 8 \"Refused to Answer\" 9 \"Don't ...  "
      ]
     },
     "execution_count": 89,
     "metadata": {},
     "output_type": "execute_result"
    }
   ],
   "source": [
    "codebook.loc[resp + hospital_care]"
   ]
  },
  {
   "cell_type": "code",
   "execution_count": 90,
   "metadata": {
    "collapsed": false
   },
   "outputs": [
    {
     "data": {
      "text/plain": [
       "Yes           7478\n",
       "No             361\n",
       "Don't Know       1\n",
       "Name: a6_01, dtype: int64"
      ]
     },
     "execution_count": 90,
     "metadata": {},
     "output_type": "execute_result"
    }
   ],
   "source": [
    "adults.a6_01.value_counts()"
   ]
  },
  {
   "cell_type": "code",
   "execution_count": 91,
   "metadata": {
    "collapsed": false
   },
   "outputs": [
    {
     "data": {
      "text/plain": [
       "Yes    6993\n",
       "No      848\n",
       "Name: a6_02_4, dtype: int64"
      ]
     },
     "execution_count": 91,
     "metadata": {},
     "output_type": "execute_result"
    }
   ],
   "source": [
    "adults.a6_02_4.value_counts()"
   ]
  },
  {
   "cell_type": "code",
   "execution_count": 92,
   "metadata": {
    "collapsed": false
   },
   "outputs": [
    {
     "data": {
      "text/plain": [
       "No                   5973\n",
       "Yes                  1866\n",
       "Refused to Answer       2\n",
       "Name: a6_02_6, dtype: int64"
      ]
     },
     "execution_count": 92,
     "metadata": {},
     "output_type": "execute_result"
    }
   ],
   "source": [
    "adults.a6_02_6.value_counts()"
   ]
  },
  {
   "cell_type": "code",
   "execution_count": 93,
   "metadata": {
    "collapsed": false
   },
   "outputs": [
    {
     "data": {
      "text/plain": [
       "5467"
      ]
     },
     "execution_count": 93,
     "metadata": {},
     "output_type": "execute_result"
    }
   ],
   "source": [
    "resp_symptoms = adults[resp].applymap(lambda x: True if x == 'Yes' else False).any(1)\n",
    "resp_symptoms.name = 'resp'\n",
    "resp_symptoms.sum()"
   ]
  },
  {
   "cell_type": "code",
   "execution_count": 94,
   "metadata": {
    "collapsed": true
   },
   "outputs": [],
   "source": [
    "hosp = adults[hospital_care].applymap(lambda x: True if x == 'Yes' else False).any(1)\n",
    "hosp.name = 'hosp'"
   ]
  },
  {
   "cell_type": "code",
   "execution_count": 95,
   "metadata": {
    "collapsed": false
   },
   "outputs": [
    {
     "data": {
      "text/html": [
       "<div>\n",
       "<table border=\"1\" class=\"dataframe\">\n",
       "  <thead>\n",
       "    <tr style=\"text-align: right;\">\n",
       "      <th>hosp</th>\n",
       "      <th>False</th>\n",
       "      <th>True</th>\n",
       "      <th>All</th>\n",
       "    </tr>\n",
       "    <tr>\n",
       "      <th>resp</th>\n",
       "      <th></th>\n",
       "      <th></th>\n",
       "      <th></th>\n",
       "    </tr>\n",
       "  </thead>\n",
       "  <tbody>\n",
       "    <tr>\n",
       "      <th>False</th>\n",
       "      <td>481</td>\n",
       "      <td>1893</td>\n",
       "      <td>2374</td>\n",
       "    </tr>\n",
       "    <tr>\n",
       "      <th>True</th>\n",
       "      <td>219</td>\n",
       "      <td>5248</td>\n",
       "      <td>5467</td>\n",
       "    </tr>\n",
       "    <tr>\n",
       "      <th>All</th>\n",
       "      <td>700</td>\n",
       "      <td>7141</td>\n",
       "      <td>7841</td>\n",
       "    </tr>\n",
       "  </tbody>\n",
       "</table>\n",
       "</div>"
      ],
      "text/plain": [
       "hosp   False  True   All\n",
       "resp                    \n",
       "False    481  1893  2374\n",
       "True     219  5248  5467\n",
       "All      700  7141  7841"
      ]
     },
     "execution_count": 95,
     "metadata": {},
     "output_type": "execute_result"
    }
   ],
   "source": [
    "pd.crosstab(resp_symptoms, hosp, margins=True)"
   ]
  },
  {
   "cell_type": "markdown",
   "metadata": {},
   "source": [
    "## Injuries with unrelated symptoms\n",
    "By extension, this and similar issues also raise questions of the validity of using tertiary facility deaths as the evidence base for VA methods. For example, since all the injury cases in the PHMRC data were hospitalized, clearly none of them could have been instantaneous or near-instantaneous fatalities. On closer examination, many of the VAs for injury cases also reported a range of symptoms not obviously associated with their injuries by the time they died in hospital; but, according to the PHMRC protocols, any ‘third-party written account’ of an injury makes that injury the cause of death, irrespective of further clinical details [7]."
   ]
  },
  {
   "cell_type": "code",
   "execution_count": 96,
   "metadata": {
    "collapsed": false
   },
   "outputs": [],
   "source": [
    "yesno = codebook.loc[codebook.index.str.startswith('a2_') &\n",
    "                     (codebook.coding == '0 \"No\" 1 \"Yes\" 8 \"Refused to Answer\" 9 \"Don\\'t Know\"')]"
   ]
  },
  {
   "cell_type": "code",
   "execution_count": 97,
   "metadata": {
    "collapsed": false
   },
   "outputs": [],
   "source": [
    "injury_causes = [\n",
    "    'Fires',\n",
    "    'Drowning',\n",
    "    'Falls',\n",
    "    'Road Traffic',\n",
    "    'Bite of Venomous Animal',\n",
    "    'Suicide',\n",
    "    'Other Injuries',\n",
    "    'Homicide',\n",
    "    'Poisonings',\n",
    "    'Violent Death',\n",
    "]\n",
    "inj = df.loc[(df.module == 'Adult') & df.gs_text34.isin(injury_causes)]"
   ]
  },
  {
   "cell_type": "code",
   "execution_count": 98,
   "metadata": {
    "collapsed": false
   },
   "outputs": [],
   "source": [
    "inj_yesno = inj.loc[:, yesno.index].applymap(lambda x: True if x == 'Yes' else False)"
   ]
  },
  {
   "cell_type": "code",
   "execution_count": 99,
   "metadata": {
    "collapsed": false
   },
   "outputs": [
    {
     "data": {
      "text/html": [
       "<div>\n",
       "<table border=\"1\" class=\"dataframe\">\n",
       "  <thead>\n",
       "    <tr style=\"text-align: right;\">\n",
       "      <th></th>\n",
       "      <th>question</th>\n",
       "      <th>All Injuries</th>\n",
       "      <th>Bite of Venomous Animal</th>\n",
       "      <th>Drowning</th>\n",
       "      <th>Falls</th>\n",
       "      <th>Fires</th>\n",
       "      <th>Homicide</th>\n",
       "      <th>Other Injuries</th>\n",
       "      <th>Poisonings</th>\n",
       "      <th>Road Traffic</th>\n",
       "      <th>Suicide</th>\n",
       "    </tr>\n",
       "  </thead>\n",
       "  <tbody>\n",
       "    <tr>\n",
       "      <th>a2_36</th>\n",
       "      <td>Did [name] have difficulty breathing?</td>\n",
       "      <td>0.396867</td>\n",
       "      <td>0.606061</td>\n",
       "      <td>0.018868</td>\n",
       "      <td>0.456647</td>\n",
       "      <td>0.344262</td>\n",
       "      <td>0.508982</td>\n",
       "      <td>0.223301</td>\n",
       "      <td>0.500000</td>\n",
       "      <td>0.465347</td>\n",
       "      <td>0.387097</td>\n",
       "    </tr>\n",
       "    <tr>\n",
       "      <th>a2_74</th>\n",
       "      <td>Did [name] experience a period of loss of cons...</td>\n",
       "      <td>0.352480</td>\n",
       "      <td>0.515152</td>\n",
       "      <td>0.037736</td>\n",
       "      <td>0.456647</td>\n",
       "      <td>0.213115</td>\n",
       "      <td>0.431138</td>\n",
       "      <td>0.213592</td>\n",
       "      <td>0.430233</td>\n",
       "      <td>0.500000</td>\n",
       "      <td>0.241935</td>\n",
       "    </tr>\n",
       "    <tr>\n",
       "      <th>a2_77</th>\n",
       "      <td>Did it continue until death?</td>\n",
       "      <td>0.295039</td>\n",
       "      <td>0.469697</td>\n",
       "      <td>0.028302</td>\n",
       "      <td>0.358382</td>\n",
       "      <td>0.139344</td>\n",
       "      <td>0.383234</td>\n",
       "      <td>0.174757</td>\n",
       "      <td>0.360465</td>\n",
       "      <td>0.450495</td>\n",
       "      <td>0.177419</td>\n",
       "    </tr>\n",
       "    <tr>\n",
       "      <th>a2_40</th>\n",
       "      <td>Did [name] have fast breathing?</td>\n",
       "      <td>0.208877</td>\n",
       "      <td>0.196970</td>\n",
       "      <td>0.018868</td>\n",
       "      <td>0.277457</td>\n",
       "      <td>0.196721</td>\n",
       "      <td>0.281437</td>\n",
       "      <td>0.087379</td>\n",
       "      <td>0.325581</td>\n",
       "      <td>0.217822</td>\n",
       "      <td>0.201613</td>\n",
       "    </tr>\n",
       "    <tr>\n",
       "      <th>a2_02</th>\n",
       "      <td>Did [name] have a fever?</td>\n",
       "      <td>0.188860</td>\n",
       "      <td>0.060606</td>\n",
       "      <td>0.028302</td>\n",
       "      <td>0.306358</td>\n",
       "      <td>0.229508</td>\n",
       "      <td>0.203593</td>\n",
       "      <td>0.087379</td>\n",
       "      <td>0.220930</td>\n",
       "      <td>0.267327</td>\n",
       "      <td>0.104839</td>\n",
       "    </tr>\n",
       "    <tr>\n",
       "      <th>a2_20</th>\n",
       "      <td>Did [name] look pale?</td>\n",
       "      <td>0.187119</td>\n",
       "      <td>0.030303</td>\n",
       "      <td>0.009434</td>\n",
       "      <td>0.196532</td>\n",
       "      <td>0.254098</td>\n",
       "      <td>0.239521</td>\n",
       "      <td>0.135922</td>\n",
       "      <td>0.232558</td>\n",
       "      <td>0.247525</td>\n",
       "      <td>0.185484</td>\n",
       "    </tr>\n",
       "    <tr>\n",
       "      <th>a2_49</th>\n",
       "      <td>Did [name] have a change in bowel habits?</td>\n",
       "      <td>0.154917</td>\n",
       "      <td>0.242424</td>\n",
       "      <td>0.018868</td>\n",
       "      <td>0.179191</td>\n",
       "      <td>0.254098</td>\n",
       "      <td>0.149701</td>\n",
       "      <td>0.029126</td>\n",
       "      <td>0.220930</td>\n",
       "      <td>0.143564</td>\n",
       "      <td>0.177419</td>\n",
       "    </tr>\n",
       "    <tr>\n",
       "      <th>a2_53</th>\n",
       "      <td>Did [name] vomit in the week preceding the death?</td>\n",
       "      <td>0.140992</td>\n",
       "      <td>0.212121</td>\n",
       "      <td>0.009434</td>\n",
       "      <td>0.179191</td>\n",
       "      <td>0.098361</td>\n",
       "      <td>0.083832</td>\n",
       "      <td>0.029126</td>\n",
       "      <td>0.488372</td>\n",
       "      <td>0.089109</td>\n",
       "      <td>0.217742</td>\n",
       "    </tr>\n",
       "    <tr>\n",
       "      <th>a2_25</th>\n",
       "      <td>Did [name] have puffiness of the face?</td>\n",
       "      <td>0.138381</td>\n",
       "      <td>0.227273</td>\n",
       "      <td>0.009434</td>\n",
       "      <td>0.156069</td>\n",
       "      <td>0.221311</td>\n",
       "      <td>0.161677</td>\n",
       "      <td>0.009709</td>\n",
       "      <td>0.162791</td>\n",
       "      <td>0.153465</td>\n",
       "      <td>0.129032</td>\n",
       "    </tr>\n",
       "    <tr>\n",
       "      <th>a2_18</th>\n",
       "      <td>Had [name] lost weight in the three months pri...</td>\n",
       "      <td>0.129678</td>\n",
       "      <td>0.015152</td>\n",
       "      <td>0.009434</td>\n",
       "      <td>0.208092</td>\n",
       "      <td>0.172131</td>\n",
       "      <td>0.095808</td>\n",
       "      <td>0.077670</td>\n",
       "      <td>0.255814</td>\n",
       "      <td>0.108911</td>\n",
       "      <td>0.177419</td>\n",
       "    </tr>\n",
       "    <tr>\n",
       "      <th>a2_57</th>\n",
       "      <td>Did [name] have difficulty swallowing?</td>\n",
       "      <td>0.128808</td>\n",
       "      <td>0.196970</td>\n",
       "      <td>0.009434</td>\n",
       "      <td>0.132948</td>\n",
       "      <td>0.221311</td>\n",
       "      <td>0.071856</td>\n",
       "      <td>0.058252</td>\n",
       "      <td>0.162791</td>\n",
       "      <td>0.163366</td>\n",
       "      <td>0.153226</td>\n",
       "    </tr>\n",
       "    <tr>\n",
       "      <th>a2_17</th>\n",
       "      <td>Did [name] have blue lips?</td>\n",
       "      <td>0.113142</td>\n",
       "      <td>0.227273</td>\n",
       "      <td>0.018868</td>\n",
       "      <td>0.104046</td>\n",
       "      <td>0.106557</td>\n",
       "      <td>0.143713</td>\n",
       "      <td>0.038835</td>\n",
       "      <td>0.174419</td>\n",
       "      <td>0.103960</td>\n",
       "      <td>0.145161</td>\n",
       "    </tr>\n",
       "    <tr>\n",
       "      <th>a2_32</th>\n",
       "      <td>Did [name] have a cough?</td>\n",
       "      <td>0.101828</td>\n",
       "      <td>0.015152</td>\n",
       "      <td>0.037736</td>\n",
       "      <td>0.190751</td>\n",
       "      <td>0.106557</td>\n",
       "      <td>0.071856</td>\n",
       "      <td>0.067961</td>\n",
       "      <td>0.162791</td>\n",
       "      <td>0.108911</td>\n",
       "      <td>0.088710</td>\n",
       "    </tr>\n",
       "    <tr>\n",
       "      <th>a2_06</th>\n",
       "      <td>Did [name] have sweating with the fever?</td>\n",
       "      <td>0.100957</td>\n",
       "      <td>0.030303</td>\n",
       "      <td>0.009434</td>\n",
       "      <td>0.161850</td>\n",
       "      <td>0.139344</td>\n",
       "      <td>0.095808</td>\n",
       "      <td>0.038835</td>\n",
       "      <td>0.081395</td>\n",
       "      <td>0.158416</td>\n",
       "      <td>0.072581</td>\n",
       "    </tr>\n",
       "    <tr>\n",
       "      <th>a2_69</th>\n",
       "      <td>Did [name] have headaches?</td>\n",
       "      <td>0.100957</td>\n",
       "      <td>0.045455</td>\n",
       "      <td>0.028302</td>\n",
       "      <td>0.156069</td>\n",
       "      <td>0.139344</td>\n",
       "      <td>0.059880</td>\n",
       "      <td>0.029126</td>\n",
       "      <td>0.139535</td>\n",
       "      <td>0.123762</td>\n",
       "      <td>0.129032</td>\n",
       "    </tr>\n",
       "    <tr>\n",
       "      <th>a2_61</th>\n",
       "      <td>Did [name] have belly pain?</td>\n",
       "      <td>0.099217</td>\n",
       "      <td>0.075758</td>\n",
       "      <td>0.009434</td>\n",
       "      <td>0.104046</td>\n",
       "      <td>0.090164</td>\n",
       "      <td>0.053892</td>\n",
       "      <td>0.048544</td>\n",
       "      <td>0.360465</td>\n",
       "      <td>0.029703</td>\n",
       "      <td>0.225806</td>\n",
       "    </tr>\n",
       "    <tr>\n",
       "      <th>a2_78</th>\n",
       "      <td>Did [name] experience a period of confusion at...</td>\n",
       "      <td>0.088773</td>\n",
       "      <td>0.045455</td>\n",
       "      <td>0.075472</td>\n",
       "      <td>0.104046</td>\n",
       "      <td>0.106557</td>\n",
       "      <td>0.059880</td>\n",
       "      <td>0.019417</td>\n",
       "      <td>0.139535</td>\n",
       "      <td>0.024752</td>\n",
       "      <td>0.250000</td>\n",
       "    </tr>\n",
       "    <tr>\n",
       "      <th>a2_23</th>\n",
       "      <td>Did [name] have ankle swelling?</td>\n",
       "      <td>0.087032</td>\n",
       "      <td>0.075758</td>\n",
       "      <td>0.000000</td>\n",
       "      <td>0.138728</td>\n",
       "      <td>0.139344</td>\n",
       "      <td>0.083832</td>\n",
       "      <td>0.019417</td>\n",
       "      <td>0.093023</td>\n",
       "      <td>0.118812</td>\n",
       "      <td>0.048387</td>\n",
       "    </tr>\n",
       "    <tr>\n",
       "      <th>a2_52</th>\n",
       "      <td>Did [name] stop urinating?</td>\n",
       "      <td>0.083551</td>\n",
       "      <td>0.166667</td>\n",
       "      <td>0.000000</td>\n",
       "      <td>0.115607</td>\n",
       "      <td>0.098361</td>\n",
       "      <td>0.089820</td>\n",
       "      <td>0.009709</td>\n",
       "      <td>0.093023</td>\n",
       "      <td>0.108911</td>\n",
       "      <td>0.056452</td>\n",
       "    </tr>\n",
       "    <tr>\n",
       "      <th>a2_27</th>\n",
       "      <td>Did [name] have general puffiness all over his...</td>\n",
       "      <td>0.080070</td>\n",
       "      <td>0.106061</td>\n",
       "      <td>0.000000</td>\n",
       "      <td>0.057803</td>\n",
       "      <td>0.204918</td>\n",
       "      <td>0.071856</td>\n",
       "      <td>0.009709</td>\n",
       "      <td>0.046512</td>\n",
       "      <td>0.113861</td>\n",
       "      <td>0.080645</td>\n",
       "    </tr>\n",
       "  </tbody>\n",
       "</table>\n",
       "</div>"
      ],
      "text/plain": [
       "                                                question  All Injuries  \\\n",
       "a2_36              Did [name] have difficulty breathing?      0.396867   \n",
       "a2_74  Did [name] experience a period of loss of cons...      0.352480   \n",
       "a2_77                       Did it continue until death?      0.295039   \n",
       "a2_40                    Did [name] have fast breathing?      0.208877   \n",
       "a2_02                           Did [name] have a fever?      0.188860   \n",
       "a2_20                              Did [name] look pale?      0.187119   \n",
       "a2_49          Did [name] have a change in bowel habits?      0.154917   \n",
       "a2_53  Did [name] vomit in the week preceding the death?      0.140992   \n",
       "a2_25             Did [name] have puffiness of the face?      0.138381   \n",
       "a2_18  Had [name] lost weight in the three months pri...      0.129678   \n",
       "a2_57             Did [name] have difficulty swallowing?      0.128808   \n",
       "a2_17                         Did [name] have blue lips?      0.113142   \n",
       "a2_32                           Did [name] have a cough?      0.101828   \n",
       "a2_06           Did [name] have sweating with the fever?      0.100957   \n",
       "a2_69                         Did [name] have headaches?      0.100957   \n",
       "a2_61                        Did [name] have belly pain?      0.099217   \n",
       "a2_78  Did [name] experience a period of confusion at...      0.088773   \n",
       "a2_23                    Did [name] have ankle swelling?      0.087032   \n",
       "a2_52                         Did [name] stop urinating?      0.083551   \n",
       "a2_27  Did [name] have general puffiness all over his...      0.080070   \n",
       "\n",
       "       Bite of Venomous Animal  Drowning     Falls     Fires  Homicide  \\\n",
       "a2_36                 0.606061  0.018868  0.456647  0.344262  0.508982   \n",
       "a2_74                 0.515152  0.037736  0.456647  0.213115  0.431138   \n",
       "a2_77                 0.469697  0.028302  0.358382  0.139344  0.383234   \n",
       "a2_40                 0.196970  0.018868  0.277457  0.196721  0.281437   \n",
       "a2_02                 0.060606  0.028302  0.306358  0.229508  0.203593   \n",
       "a2_20                 0.030303  0.009434  0.196532  0.254098  0.239521   \n",
       "a2_49                 0.242424  0.018868  0.179191  0.254098  0.149701   \n",
       "a2_53                 0.212121  0.009434  0.179191  0.098361  0.083832   \n",
       "a2_25                 0.227273  0.009434  0.156069  0.221311  0.161677   \n",
       "a2_18                 0.015152  0.009434  0.208092  0.172131  0.095808   \n",
       "a2_57                 0.196970  0.009434  0.132948  0.221311  0.071856   \n",
       "a2_17                 0.227273  0.018868  0.104046  0.106557  0.143713   \n",
       "a2_32                 0.015152  0.037736  0.190751  0.106557  0.071856   \n",
       "a2_06                 0.030303  0.009434  0.161850  0.139344  0.095808   \n",
       "a2_69                 0.045455  0.028302  0.156069  0.139344  0.059880   \n",
       "a2_61                 0.075758  0.009434  0.104046  0.090164  0.053892   \n",
       "a2_78                 0.045455  0.075472  0.104046  0.106557  0.059880   \n",
       "a2_23                 0.075758  0.000000  0.138728  0.139344  0.083832   \n",
       "a2_52                 0.166667  0.000000  0.115607  0.098361  0.089820   \n",
       "a2_27                 0.106061  0.000000  0.057803  0.204918  0.071856   \n",
       "\n",
       "       Other Injuries  Poisonings  Road Traffic   Suicide  \n",
       "a2_36        0.223301    0.500000      0.465347  0.387097  \n",
       "a2_74        0.213592    0.430233      0.500000  0.241935  \n",
       "a2_77        0.174757    0.360465      0.450495  0.177419  \n",
       "a2_40        0.087379    0.325581      0.217822  0.201613  \n",
       "a2_02        0.087379    0.220930      0.267327  0.104839  \n",
       "a2_20        0.135922    0.232558      0.247525  0.185484  \n",
       "a2_49        0.029126    0.220930      0.143564  0.177419  \n",
       "a2_53        0.029126    0.488372      0.089109  0.217742  \n",
       "a2_25        0.009709    0.162791      0.153465  0.129032  \n",
       "a2_18        0.077670    0.255814      0.108911  0.177419  \n",
       "a2_57        0.058252    0.162791      0.163366  0.153226  \n",
       "a2_17        0.038835    0.174419      0.103960  0.145161  \n",
       "a2_32        0.067961    0.162791      0.108911  0.088710  \n",
       "a2_06        0.038835    0.081395      0.158416  0.072581  \n",
       "a2_69        0.029126    0.139535      0.123762  0.129032  \n",
       "a2_61        0.048544    0.360465      0.029703  0.225806  \n",
       "a2_78        0.019417    0.139535      0.024752  0.250000  \n",
       "a2_23        0.019417    0.093023      0.118812  0.048387  \n",
       "a2_52        0.009709    0.093023      0.108911  0.056452  \n",
       "a2_27        0.009709    0.046512      0.113861  0.080645  "
      ]
     },
     "execution_count": 99,
     "metadata": {},
     "output_type": "execute_result"
    }
   ],
   "source": [
    "inj_endorsement = pd.concat([codebook.loc[yesno.index, 'question'], inj_yesno.mean()], axis=1)\n",
    "inj_endorsement.columns = ['question', 'All Injuries']\n",
    "inj_endorsement = inj_endorsement.sort_values('All Injuries', ascending=False)\n",
    "inj_endorse_by_cause = inj_yesno.groupby(inj.gs_text34).mean().T\n",
    "inj_endorse = pd.concat([inj_endorsement, inj_endorse_by_cause], axis=1)\n",
    "inj_endorse.sort_values('All Injuries', ascending=False).iloc[:20].to_csv('inj_endorse.csv')\n",
    "inj_endorse.sort_values('All Injuries', ascending=False).iloc[:20]"
   ]
  },
  {
   "cell_type": "code",
   "execution_count": 100,
   "metadata": {
    "collapsed": false
   },
   "outputs": [
    {
     "data": {
      "text/html": [
       "<div>\n",
       "<table border=\"1\" class=\"dataframe\">\n",
       "  <thead>\n",
       "    <tr style=\"text-align: right;\">\n",
       "      <th>gs_text34</th>\n",
       "      <th>Bite of Venomous Animal</th>\n",
       "      <th>Drowning</th>\n",
       "      <th>Falls</th>\n",
       "      <th>Fires</th>\n",
       "      <th>Homicide</th>\n",
       "      <th>Other Injuries</th>\n",
       "      <th>Poisonings</th>\n",
       "      <th>Road Traffic</th>\n",
       "      <th>Suicide</th>\n",
       "    </tr>\n",
       "    <tr>\n",
       "      <th>variable</th>\n",
       "      <th></th>\n",
       "      <th></th>\n",
       "      <th></th>\n",
       "      <th></th>\n",
       "      <th></th>\n",
       "      <th></th>\n",
       "      <th></th>\n",
       "      <th></th>\n",
       "      <th></th>\n",
       "    </tr>\n",
       "  </thead>\n",
       "  <tbody>\n",
       "    <tr>\n",
       "      <th>a2_36</th>\n",
       "      <td>0.606061</td>\n",
       "      <td>0.018868</td>\n",
       "      <td>0.456647</td>\n",
       "      <td>0.344262</td>\n",
       "      <td>0.508982</td>\n",
       "      <td>0.223301</td>\n",
       "      <td>0.500000</td>\n",
       "      <td>0.465347</td>\n",
       "      <td>0.387097</td>\n",
       "    </tr>\n",
       "    <tr>\n",
       "      <th>a2_74</th>\n",
       "      <td>0.515152</td>\n",
       "      <td>0.037736</td>\n",
       "      <td>0.456647</td>\n",
       "      <td>0.213115</td>\n",
       "      <td>0.431138</td>\n",
       "      <td>0.213592</td>\n",
       "      <td>0.430233</td>\n",
       "      <td>0.500000</td>\n",
       "      <td>0.241935</td>\n",
       "    </tr>\n",
       "    <tr>\n",
       "      <th>a2_77</th>\n",
       "      <td>0.469697</td>\n",
       "      <td>0.028302</td>\n",
       "      <td>0.358382</td>\n",
       "      <td>0.139344</td>\n",
       "      <td>0.383234</td>\n",
       "      <td>0.174757</td>\n",
       "      <td>0.360465</td>\n",
       "      <td>0.450495</td>\n",
       "      <td>0.177419</td>\n",
       "    </tr>\n",
       "    <tr>\n",
       "      <th>a2_40</th>\n",
       "      <td>0.196970</td>\n",
       "      <td>0.018868</td>\n",
       "      <td>0.277457</td>\n",
       "      <td>0.196721</td>\n",
       "      <td>0.281437</td>\n",
       "      <td>0.087379</td>\n",
       "      <td>0.325581</td>\n",
       "      <td>0.217822</td>\n",
       "      <td>0.201613</td>\n",
       "    </tr>\n",
       "    <tr>\n",
       "      <th>a2_02</th>\n",
       "      <td>0.060606</td>\n",
       "      <td>0.028302</td>\n",
       "      <td>0.306358</td>\n",
       "      <td>0.229508</td>\n",
       "      <td>0.203593</td>\n",
       "      <td>0.087379</td>\n",
       "      <td>0.220930</td>\n",
       "      <td>0.267327</td>\n",
       "      <td>0.104839</td>\n",
       "    </tr>\n",
       "    <tr>\n",
       "      <th>a2_20</th>\n",
       "      <td>0.030303</td>\n",
       "      <td>0.009434</td>\n",
       "      <td>0.196532</td>\n",
       "      <td>0.254098</td>\n",
       "      <td>0.239521</td>\n",
       "      <td>0.135922</td>\n",
       "      <td>0.232558</td>\n",
       "      <td>0.247525</td>\n",
       "      <td>0.185484</td>\n",
       "    </tr>\n",
       "    <tr>\n",
       "      <th>a2_49</th>\n",
       "      <td>0.242424</td>\n",
       "      <td>0.018868</td>\n",
       "      <td>0.179191</td>\n",
       "      <td>0.254098</td>\n",
       "      <td>0.149701</td>\n",
       "      <td>0.029126</td>\n",
       "      <td>0.220930</td>\n",
       "      <td>0.143564</td>\n",
       "      <td>0.177419</td>\n",
       "    </tr>\n",
       "    <tr>\n",
       "      <th>a2_53</th>\n",
       "      <td>0.212121</td>\n",
       "      <td>0.009434</td>\n",
       "      <td>0.179191</td>\n",
       "      <td>0.098361</td>\n",
       "      <td>0.083832</td>\n",
       "      <td>0.029126</td>\n",
       "      <td>0.488372</td>\n",
       "      <td>0.089109</td>\n",
       "      <td>0.217742</td>\n",
       "    </tr>\n",
       "    <tr>\n",
       "      <th>a2_25</th>\n",
       "      <td>0.227273</td>\n",
       "      <td>0.009434</td>\n",
       "      <td>0.156069</td>\n",
       "      <td>0.221311</td>\n",
       "      <td>0.161677</td>\n",
       "      <td>0.009709</td>\n",
       "      <td>0.162791</td>\n",
       "      <td>0.153465</td>\n",
       "      <td>0.129032</td>\n",
       "    </tr>\n",
       "    <tr>\n",
       "      <th>a2_18</th>\n",
       "      <td>0.015152</td>\n",
       "      <td>0.009434</td>\n",
       "      <td>0.208092</td>\n",
       "      <td>0.172131</td>\n",
       "      <td>0.095808</td>\n",
       "      <td>0.077670</td>\n",
       "      <td>0.255814</td>\n",
       "      <td>0.108911</td>\n",
       "      <td>0.177419</td>\n",
       "    </tr>\n",
       "  </tbody>\n",
       "</table>\n",
       "</div>"
      ],
      "text/plain": [
       "gs_text34  Bite of Venomous Animal  Drowning     Falls     Fires  Homicide  \\\n",
       "variable                                                                     \n",
       "a2_36                     0.606061  0.018868  0.456647  0.344262  0.508982   \n",
       "a2_74                     0.515152  0.037736  0.456647  0.213115  0.431138   \n",
       "a2_77                     0.469697  0.028302  0.358382  0.139344  0.383234   \n",
       "a2_40                     0.196970  0.018868  0.277457  0.196721  0.281437   \n",
       "a2_02                     0.060606  0.028302  0.306358  0.229508  0.203593   \n",
       "a2_20                     0.030303  0.009434  0.196532  0.254098  0.239521   \n",
       "a2_49                     0.242424  0.018868  0.179191  0.254098  0.149701   \n",
       "a2_53                     0.212121  0.009434  0.179191  0.098361  0.083832   \n",
       "a2_25                     0.227273  0.009434  0.156069  0.221311  0.161677   \n",
       "a2_18                     0.015152  0.009434  0.208092  0.172131  0.095808   \n",
       "\n",
       "gs_text34  Other Injuries  Poisonings  Road Traffic   Suicide  \n",
       "variable                                                       \n",
       "a2_36            0.223301    0.500000      0.465347  0.387097  \n",
       "a2_74            0.213592    0.430233      0.500000  0.241935  \n",
       "a2_77            0.174757    0.360465      0.450495  0.177419  \n",
       "a2_40            0.087379    0.325581      0.217822  0.201613  \n",
       "a2_02            0.087379    0.220930      0.267327  0.104839  \n",
       "a2_20            0.135922    0.232558      0.247525  0.185484  \n",
       "a2_49            0.029126    0.220930      0.143564  0.177419  \n",
       "a2_53            0.029126    0.488372      0.089109  0.217742  \n",
       "a2_25            0.009709    0.162791      0.153465  0.129032  \n",
       "a2_18            0.077670    0.255814      0.108911  0.177419  "
      ]
     },
     "execution_count": 100,
     "metadata": {},
     "output_type": "execute_result"
    }
   ],
   "source": [
    "inj_endorse_by_cause = inj_yesno.groupby(inj.gs_text34).mean().loc[:, inj_endorsement.index[:10]].T\n",
    "inj_endorse_by_cause"
   ]
  },
  {
   "cell_type": "markdown",
   "metadata": {},
   "source": [
    "## Inconsistencies between cause of death and symptoms\n",
    "Unsurprisingly, there were cases within the PHMRC database which showed blatant inconsistencies between hospital cause of death and responses to some VA questions. The most obvious were the 147 cases recorded as stillbirths in hospital but which were described as neonatal deaths in VA interviews, and the 90 hospital maternal deaths described as neither pregnant nor recently delivered in VA interviews. There is no way of knowing from the dataset whether these reflected data quality issues either in the hospital causes of death or VA material, or whether VA respondents were actually, either knowingly or unwittingly, presenting a different picture."
   ]
  },
  {
   "cell_type": "code",
   "execution_count": null,
   "metadata": {
    "collapsed": true
   },
   "outputs": [],
   "source": []
  },
  {
   "cell_type": "code",
   "execution_count": null,
   "metadata": {
    "collapsed": true
   },
   "outputs": [],
   "source": []
  },
  {
   "cell_type": "code",
   "execution_count": null,
   "metadata": {
    "collapsed": true
   },
   "outputs": [],
   "source": []
  }
 ],
 "metadata": {
  "anaconda-cloud": {},
  "kernelspec": {
   "display_name": "Python [conda env:py27]",
   "language": "python",
   "name": "conda-env-py27-py"
  },
  "language_info": {
   "codemirror_mode": {
    "name": "ipython",
    "version": 2
   },
   "file_extension": ".py",
   "mimetype": "text/x-python",
   "name": "python",
   "nbconvert_exporter": "python",
   "pygments_lexer": "ipython2",
   "version": "2.7.13"
  }
 },
 "nbformat": 4,
 "nbformat_minor": 1
}

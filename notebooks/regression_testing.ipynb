{
 "cells": [
  {
   "cell_type": "code",
   "execution_count": 1,
   "metadata": {
    "collapsed": true
   },
   "outputs": [],
   "source": [
    "import pandas as pd\n",
    "import numpy as np\n",
    "import os\n",
    "import sys\n",
    "import glob\n",
    "import json"
   ]
  },
  {
   "cell_type": "code",
   "execution_count": 2,
   "metadata": {
    "collapsed": true
   },
   "outputs": [],
   "source": [
    "sys.path.insert(0, os.path.normpath('../src'))\n",
    "from tariff import TariffClassifier"
   ]
  },
  {
   "cell_type": "code",
   "execution_count": 3,
   "metadata": {
    "collapsed": false
   },
   "outputs": [],
   "source": [
    "def rootj():\n",
    "    for p in ['/home/j', 'J:/', 'J:']:\n",
    "        if os.path.exists(p):\n",
    "            return p\n",
    "smartva_repo = os.path.join(rootj(), 'Project', 'VA', 'smartva')\n",
    "smartva_data_dir = os.path.join(smartva_repo, 'smartva', 'data')\n",
    "smartva_testing_repo = os.path.join(rootj(), 'Project', 'VA', 'smartva_testing')\n",
    "nhmrc_data_folder = os.path.join(rootj(), 'LIMITED_USE', 'PROJECT_FOLDERS', 'NHMRC_VA',\n",
    "                                 'external_va_2015', 'NHMRC', 'Data', 'version21', 'output')\n",
    "for p in [smartva_repo, smartva_data_dir, smartva_testing_repo, nhmrc_data_folder]:\n",
    "    assert os.path.exists(p)\n",
    "\n",
    "ages = ['adult', 'child', 'neonate']"
   ]
  },
  {
   "cell_type": "code",
   "execution_count": 4,
   "metadata": {
    "collapsed": false
   },
   "outputs": [],
   "source": [
    "sys.path.insert(1, smartva_repo)\n",
    "from smartva.data import adult_tariff_data\n",
    "from smartva.data import child_tariff_data\n",
    "from smartva.data import neonate_tariff_data\n",
    "tariff_data = {\n",
    "    'adult': adult_tariff_data,\n",
    "    'child': child_tariff_data,\n",
    "    'neonate': neonate_tariff_data\n",
    "}"
   ]
  },
  {
   "cell_type": "markdown",
   "metadata": {},
   "source": [
    "# Run SmartVA"
   ]
  },
  {
   "cell_type": "code",
   "execution_count": 5,
   "metadata": {
    "collapsed": true
   },
   "outputs": [],
   "source": [
    "def save_smartva_tariff_data(outdir):\n",
    "    data = {\n",
    "        'adult': {\n",
    "            'CUTOFF_POS': adult_tariff_data.CUTOFF_POS,\n",
    "            'UNIFORM_LIST_POS': adult_tariff_data.UNIFORM_LIST_POS,\n",
    "            'MIN_CAUSE_SCORE': adult_tariff_data.MIN_CAUSE_SCORE,\n",
    "            'SPURIOUS_ASSOCIATIONS': adult_tariff_data.SPURIOUS_ASSOCIATIONS,\n",
    "            'RESTRICTIONS': adult_tariff_data.CAUSE_CONDITIONS,\n",
    "            'FREQUENCIES': adult_tariff_data.FREQUENCIES,\n",
    "        },\n",
    "        'child': {\n",
    "            'CUTOFF_POS': child_tariff_data.CUTOFF_POS,\n",
    "            'UNIFORM_LIST_POS': child_tariff_data.UNIFORM_LIST_POS,\n",
    "            'MIN_CAUSE_SCORE': child_tariff_data.MIN_CAUSE_SCORE,\n",
    "            'SPURIOUS_ASSOCIATIONS': child_tariff_data.SPURIOUS_ASSOCIATIONS,\n",
    "            'RESTRICTIONS': child_tariff_data.CAUSE_CONDITIONS,\n",
    "            'FREQUENCIES': child_tariff_data.FREQUENCIES,\n",
    "        },\n",
    "        'neonate': {\n",
    "            'CUTOFF_POS': neonate_tariff_data.CUTOFF_POS,\n",
    "            'UNIFORM_LIST_POS': neonate_tariff_data.UNIFORM_LIST_POS,\n",
    "            'MIN_CAUSE_SCORE': neonate_tariff_data.MIN_CAUSE_SCORE,\n",
    "            'SPURIOUS_ASSOCIATIONS': neonate_tariff_data.SPURIOUS_ASSOCIATIONS,\n",
    "            'RESTRICTIONS': None,\n",
    "            'FREQUENCIES': neonate_tariff_data.FREQUENCIES,\n",
    "        },\n",
    "    }\n",
    "    with open(os.path.join(outdir, 'tariff_data.json'), 'w') as f:\n",
    "        json.dump(data, f)\n",
    "    "
   ]
  },
  {
   "cell_type": "code",
   "execution_count": 6,
   "metadata": {
    "collapsed": false
   },
   "outputs": [
    {
     "name": "stdout",
     "output_type": "stream",
     "text": [
      "J:\\Project\\VA\\smartva\n",
      "M\tdev_notes.txt\n",
      "M\tpkg/Manual Data Entry Forms/DataEntryForm.xlsx\n",
      "M\tpkg/build-agent/kill_server.sh\n",
      "M\tpkg/build-agent/run_build.sh\n",
      "M\tpkg/build-agent/run_prep.sh\n",
      "M\tpkg/build-agent/run_tests.sh\n",
      "M\tpkg/build-agent/start_server.sh\n",
      "M\tpkg/hooks/hook-numpy.py\n",
      "Your branch is up-to-date with 'origin/develop'.\n"
     ]
    },
    {
     "name": "stderr",
     "output_type": "stream",
     "text": [
      "Already on 'develop'\n"
     ]
    },
    {
     "name": "stdout",
     "output_type": "stream",
     "text": [
      "SmartVA, version 1.2.0\n",
      "C:\\Users\\josephj7\\Desktop\\repos\\va\\hierarchical_causes\\test\n"
     ]
    }
   ],
   "source": [
    "%cd J:/Project/VA/smartva\n",
    "!git checkout develop\n",
    "!python app.py --version\n",
    "%cd-"
   ]
  },
  {
   "cell_type": "raw",
   "metadata": {},
   "source": [
    "# I have the smartva testing repo next to this repo\n",
    "# There are only final results in that repo. I need intermediate files here so i rerun files\n",
    "!python J:/Project/VA/smartva/app.py ../../smartva_testing/SmartVA_June_2016_v5.csv ../data/test1"
   ]
  },
  {
   "cell_type": "code",
   "execution_count": 7,
   "metadata": {
    "collapsed": true
   },
   "outputs": [],
   "source": [
    "save_smartva_tariff_data(os.path.normpath(os.path.join('..', 'data', 'test1')))"
   ]
  },
  {
   "cell_type": "markdown",
   "metadata": {},
   "source": [
    "# Training\n",
    "Training the tariff classifier provides four pieces of data which are used in predictions:\n",
    "1. cause list (as a numpy array)\n",
    "2. tariff matrix (as a dataframe)\n",
    "3. training data resampled to a uniform cause distribution\n",
    "4. cause-specific cutoffs\n",
    "\n",
    "These will be hard-coded with values to match the SmartVA inputs"
   ]
  },
  {
   "cell_type": "markdown",
   "metadata": {},
   "source": [
    "##### Original Tariff matrices"
   ]
  },
  {
   "cell_type": "code",
   "execution_count": 8,
   "metadata": {
    "collapsed": false
   },
   "outputs": [],
   "source": [
    "orig_tariffs = {age: pd.read_csv(os.path.join(smartva_data_dir, 'tariffs-{}.csv'.format(age))) for age in ages}"
   ]
  },
  {
   "cell_type": "markdown",
   "metadata": {},
   "source": [
    "##### Original Validated training data"
   ]
  },
  {
   "cell_type": "code",
   "execution_count": 9,
   "metadata": {
    "collapsed": true
   },
   "outputs": [],
   "source": [
    "orig_validated = {age: pd.read_csv(os.path.join(smartva_data_dir, 'validated-{}.csv'.format(age))) for age in ages}"
   ]
  },
  {
   "cell_type": "markdown",
   "metadata": {},
   "source": [
    "##### Hyperparameters\n",
    "The only parameters which apply to *predicting* are related to thresholds used to decide if an observation has too little information to determine any cause. For the tariff classifier, these are:\n",
    "1. overall_rank_cutoff\n",
    "2. cause_rank_cutoff\n",
    "3. min_cause_score\n",
    "\n",
    "The first two are used as percentile values (in np.percentile) and should be scaled to 0 to 100."
   ]
  },
  {
   "cell_type": "code",
   "execution_count": 10,
   "metadata": {
    "collapsed": false
   },
   "outputs": [],
   "source": [
    "clfs = {age: TariffClassifier(min_cause_score=tariff_data[age].MIN_CAUSE_SCORE,\n",
    "                              cause_pct_cutoff=tariff_data[age].CUTOFF_POS * 100,\n",
    "                              overall_pct_cutoff=(100 - tariff_data[age].UNIFORM_LIST_POS * 100))\n",
    "        for age in ages}"
   ]
  },
  {
   "cell_type": "markdown",
   "metadata": {},
   "source": [
    "##### Tariffs\n",
    "The classifer only stores fully processed tariffs. The steps to process tariffs are:\n",
    "1. remove insignificant tariffs\n",
    "2. remove spurious associations\n",
    "3. only keep the top symptoms by cause\n",
    "4. round tariffs to the desired precision\n",
    "\n",
    "Only the first step has been applied to the tariffs used by SmartVA and SmartVA TariffPrep does the remaining. These steps only need to happen once and then can be used for all predictions."
   ]
  },
  {
   "cell_type": "code",
   "execution_count": 11,
   "metadata": {
    "collapsed": true
   },
   "outputs": [],
   "source": [
    "def process_tariffs(tariffs, precision=0.5, spurious_associations=None, top_n=40):\n",
    "    \"\"\"Finish transforming the tariff matrix from SmartVA into a final form\"\"\"\n",
    "    tariffs = tariffs.set_index('xs_name')\n",
    "    tariffs.index = tariffs.index.str.lstrip('cause').astype(int)\n",
    "    tariffs.index.name = 'cause'\n",
    "    \n",
    "    clf = TariffClassifier()\n",
    "    if spurious_associations:\n",
    "        tariffs = clf.remove_spurious_associations(tariffs, spurious_associations)\n",
    "    tariffs = clf.keep_top_symptoms(tariffs, top_n)\n",
    "    tariffs = clf.round_tariffs(tariffs, precision)\n",
    "\n",
    "    return tariffs"
   ]
  },
  {
   "cell_type": "code",
   "execution_count": 12,
   "metadata": {
    "collapsed": false
   },
   "outputs": [],
   "source": [
    "final_tariffs = {age: process_tariffs(tariffs, spurious_associations=tariff_data[age].SPURIOUS_ASSOCIATIONS)\n",
    "                 for age, tariffs in orig_tariffs.items()}"
   ]
  },
  {
   "cell_type": "markdown",
   "metadata": {},
   "source": [
    "##### Validated Data with Uniform Cause Distribution\n",
    "The classifier stores the *scored* training data with a uniform cause distribution and the cause cutoffs. SmartVA uses the symptom binaries with the original distribution. Scoring and resampling to a uniform cause distribtuion and calculating cutoffs only needs to happen once and the results can be used for all predictions."
   ]
  },
  {
   "cell_type": "code",
   "execution_count": 13,
   "metadata": {
    "collapsed": true
   },
   "outputs": [],
   "source": [
    "def process_training_data(validated, tariffs, tariff_data):\n",
    "    \"\"\"Finish transforming the validated training data into scored, resampled data\"\"\"\n",
    "    validated = validated.set_index('sid')\n",
    "    causes = validated.va46\n",
    "    validated = validated.loc[:, tariffs.columns].fillna(0)\n",
    "    \n",
    "    clf = TariffClassifier()\n",
    "    scored = pd.DataFrame(clf.score_samples(validated.values, tariffs.values),\n",
    "                          index=validated.index, columns=tariffs.index)\n",
    "    \n",
    "    # Jump through hoops to make the results match SmartVA (see below)\n",
    "    # I'm looking at you reversed sorted key function.. oO\n",
    "    resampled_index = np.repeat(*zip(*sorted(tariff_data.FREQUENCIES.items(), key=lambda x: x[0], reverse=True)))\n",
    "    X_uniform = scored.loc[resampled_index].values\n",
    "    y_uniform = causes.loc[resampled_index].values - 1  # to match Python indicies\n",
    "    \n",
    "    cutoff_scores, cutoff_ranks = clf.calc_cutoffs(X_uniform, y_uniform, tariff_data.CUTOFF_POS * 100)\n",
    "    return X_uniform, y_uniform, cutoff_scores, cutoff_ranks"
   ]
  },
  {
   "cell_type": "markdown",
   "metadata": {},
   "source": [
    "###### Reverse sorted key silliness\n",
    "The cause-specific cutoff is the specified percentile of the subset of the unique ranks which are of the given cause. Ranks are unique and score are likely not. If two or more observations have the same tariff score for a cause their order will not be consistent with a simple quicksort. When calculating the cutoffs the target cause is sorted along with the row. Since the ranks are unique, the sort order of rows within duplicated (tied) tariff scores affects the cutoff. The effect is large enough to drive a handleful of predictions.\n",
    "\n",
    "SmartVA achieves stable sorting by sorting on the row identifier ('sid') within duplicate causes. The new code does not hold on to index labels. (Why would I bother?) The new code calculates cutoffs by reverse sorting tariff scores by cause. To acheive the same results as SmartVA the rows of the input data must be sorted in reverse order and the sort must use a mergesort algorithm with preserves the order of rows relative to each other. "
   ]
  },
  {
   "cell_type": "code",
   "execution_count": 14,
   "metadata": {
    "collapsed": false
   },
   "outputs": [],
   "source": [
    "final_validated = {age: process_training_data(validated, final_tariffs[age], tariff_data[age])\n",
    "                   for age, validated in orig_validated.items()}"
   ]
  },
  {
   "cell_type": "markdown",
   "metadata": {},
   "source": [
    "##### Training"
   ]
  },
  {
   "cell_type": "code",
   "execution_count": 15,
   "metadata": {
    "collapsed": false
   },
   "outputs": [],
   "source": [
    "for age, clf in clfs.items():\n",
    "    tariffs = final_tariffs[age]\n",
    "    X_uniform, y_uniform, cutoff_scores, cutoff_ranks = final_validated[age]\n",
    "    \n",
    "    clf.tariffs_ = tariffs\n",
    "    clf.causes_ = tariffs.index.values\n",
    "    clf.n_causes_ = len(clf.causes_)\n",
    "    clf.symptoms_ = tariffs.columns.values\n",
    "    clf.X_uniform_ = X_uniform\n",
    "    clf.y_uniform_ = y_uniform\n",
    "    clf.cutoff_scores_ = cutoff_scores\n",
    "    clf.cutoff_ranks_ = cutoff_ranks"
   ]
  },
  {
   "cell_type": "markdown",
   "metadata": {},
   "source": [
    "# Regression Testing"
   ]
  },
  {
   "cell_type": "code",
   "execution_count": 16,
   "metadata": {
    "collapsed": true
   },
   "outputs": [],
   "source": [
    "def fetch_outputs(directory, age):\n",
    "    \"\"\"Return SmartVA output files\"\"\"\n",
    "    clf = TariffClassifier()\n",
    "    intermediate = os.path.join(directory, 'intermediate-files')\n",
    "    symps = pd.read_csv(os.path.join(intermediate, '{}-symptom.csv'.format(age)), index_col=0)\n",
    "    scores = pd.read_csv(os.path.join(intermediate, '{}-tariff-scores.csv'.format(age)), index_col=0)\n",
    "    ranks = pd.read_csv(os.path.join(intermediate, '{}-tariff-ranks.csv'.format(age)), index_col=0)\n",
    "    preds = pd.read_csv(os.path.join(directory, '{}-predictions.csv'.format(age)), index_col=0)\n",
    "    preds['cause46'] = ranks.apply(clf.best_ranked, axis=1)\n",
    "    csmf = pd.read_csv(os.path.join(directory, '{}-csmf.csv'.format(age)), index_col=0)\n",
    "    with open(os.path.join(intermediate, '{}-cutoffs.txt'.format(age)), 'r') as f:\n",
    "        cutoffs = dict([map(int, line.split(' : ')) for line in f])\n",
    "    return symps, scores, cutoffs, ranks, preds, csmf"
   ]
  },
  {
   "cell_type": "code",
   "execution_count": 17,
   "metadata": {
    "collapsed": true
   },
   "outputs": [],
   "source": [
    "def process_symptom_file(df, cols):\n",
    "    \"\"\"Split the symptom file into the pieces needed for the classifier\"\"\"\n",
    "    X = df.loc[:, cols].fillna(0)\n",
    "    age = df.real_age\n",
    "    sex = df.real_gender\n",
    "    return X, age, sex"
   ]
  },
  {
   "cell_type": "code",
   "execution_count": 18,
   "metadata": {
    "collapsed": true
   },
   "outputs": [],
   "source": [
    "age = 'adult'\n",
    "path = os.path.join('..', 'data', 'phmrc_adult')\n",
    "restrictions = {\n",
    "    'males_only': [39],\n",
    "    'females_only': [3, 20, 22, 36, 42, 6, 7],\n",
    "    'min_age': [\n",
    "        (15, [3, 20, 22, 36, 42, 6, 7, 9, 17, 27, 30, 39, 43]),\n",
    "    ],\n",
    "    'max_age': [\n",
    "        (49, [3, 20, 22, 36, 42]),\n",
    "        (75, [1, 2])\n",
    "    ]\n",
    "}"
   ]
  },
  {
   "cell_type": "code",
   "execution_count": 19,
   "metadata": {
    "collapsed": false
   },
   "outputs": [],
   "source": [
    "symps, scores, cutoffs, ranks, preds, csmf = fetch_outputs(path, age)\n",
    "X, real_ages, real_sexes = process_symptom_file(symps, clfs[age].tariffs_.columns)"
   ]
  },
  {
   "cell_type": "code",
   "execution_count": 26,
   "metadata": {
    "collapsed": false
   },
   "outputs": [],
   "source": [
    "out = clfs[age].predict(X, ages=real_ages, sexes=real_sexes, restrictions=restrictions,\n",
    "                        return_scores=True, return_restricted=True, return_ranks=True)\n",
    "preds2, scores2, ranks2, valid = out"
   ]
  },
  {
   "cell_type": "code",
   "execution_count": 27,
   "metadata": {
    "collapsed": false
   },
   "outputs": [],
   "source": [
    "assert (scores.values == scores2).all().all()\n",
    "assert (pd.Series(cutoffs) == pd.Series(clfs[age].cutoff_ranks_, index=clfs[age].causes_)).all()"
   ]
  },
  {
   "cell_type": "code",
   "execution_count": 28,
   "metadata": {
    "collapsed": false
   },
   "outputs": [
    {
     "data": {
      "text/html": [
       "<div>\n",
       "<table border=\"1\" class=\"dataframe\">\n",
       "  <thead>\n",
       "    <tr style=\"text-align: right;\">\n",
       "      <th></th>\n",
       "      <th>cause</th>\n",
       "      <th>cause34</th>\n",
       "      <th>age</th>\n",
       "      <th>sex</th>\n",
       "      <th>cause46</th>\n",
       "      <th>jj</th>\n",
       "    </tr>\n",
       "    <tr>\n",
       "      <th>sid</th>\n",
       "      <th></th>\n",
       "      <th></th>\n",
       "      <th></th>\n",
       "      <th></th>\n",
       "      <th></th>\n",
       "      <th></th>\n",
       "    </tr>\n",
       "  </thead>\n",
       "  <tbody>\n",
       "    <tr>\n",
       "      <th>Adult3</th>\n",
       "      <td>NaN</td>\n",
       "      <td>Undetermined</td>\n",
       "      <td>62.0</td>\n",
       "      <td>2</td>\n",
       "      <td>NaN</td>\n",
       "      <td>13.0</td>\n",
       "    </tr>\n",
       "    <tr>\n",
       "      <th>Adult4</th>\n",
       "      <td>NaN</td>\n",
       "      <td>Undetermined</td>\n",
       "      <td>80.0</td>\n",
       "      <td>2</td>\n",
       "      <td>NaN</td>\n",
       "      <td>6.0</td>\n",
       "    </tr>\n",
       "    <tr>\n",
       "      <th>Adult7</th>\n",
       "      <td>NaN</td>\n",
       "      <td>Undetermined</td>\n",
       "      <td>65.0</td>\n",
       "      <td>1</td>\n",
       "      <td>NaN</td>\n",
       "      <td>13.0</td>\n",
       "    </tr>\n",
       "    <tr>\n",
       "      <th>Adult12</th>\n",
       "      <td>33.0</td>\n",
       "      <td>Suicide</td>\n",
       "      <td>17.0</td>\n",
       "      <td>1</td>\n",
       "      <td>15</td>\n",
       "      <td>34.0</td>\n",
       "    </tr>\n",
       "    <tr>\n",
       "      <th>Adult21</th>\n",
       "      <td>NaN</td>\n",
       "      <td>Undetermined</td>\n",
       "      <td>35.0</td>\n",
       "      <td>2</td>\n",
       "      <td>NaN</td>\n",
       "      <td>36.0</td>\n",
       "    </tr>\n",
       "    <tr>\n",
       "      <th>Adult25</th>\n",
       "      <td>16.0</td>\n",
       "      <td>Homicide</td>\n",
       "      <td>18.0</td>\n",
       "      <td>2</td>\n",
       "      <td>5</td>\n",
       "      <td>21.0</td>\n",
       "    </tr>\n",
       "    <tr>\n",
       "      <th>Adult34</th>\n",
       "      <td>NaN</td>\n",
       "      <td>Undetermined</td>\n",
       "      <td>37.0</td>\n",
       "      <td>2</td>\n",
       "      <td>NaN</td>\n",
       "      <td>20.0</td>\n",
       "    </tr>\n",
       "    <tr>\n",
       "      <th>Adult39</th>\n",
       "      <td>NaN</td>\n",
       "      <td>Undetermined</td>\n",
       "      <td>56.0</td>\n",
       "      <td>2</td>\n",
       "      <td>NaN</td>\n",
       "      <td>6.0</td>\n",
       "    </tr>\n",
       "    <tr>\n",
       "      <th>Adult42</th>\n",
       "      <td>NaN</td>\n",
       "      <td>Undetermined</td>\n",
       "      <td>33.0</td>\n",
       "      <td>9</td>\n",
       "      <td>NaN</td>\n",
       "      <td>8.0</td>\n",
       "    </tr>\n",
       "    <tr>\n",
       "      <th>Adult44</th>\n",
       "      <td>NaN</td>\n",
       "      <td>Undetermined</td>\n",
       "      <td>48.0</td>\n",
       "      <td>2</td>\n",
       "      <td>NaN</td>\n",
       "      <td>6.0</td>\n",
       "    </tr>\n",
       "    <tr>\n",
       "      <th>Adult62</th>\n",
       "      <td>NaN</td>\n",
       "      <td>Undetermined</td>\n",
       "      <td>15.0</td>\n",
       "      <td>1</td>\n",
       "      <td>NaN</td>\n",
       "      <td>8.0</td>\n",
       "    </tr>\n",
       "    <tr>\n",
       "      <th>Adult63</th>\n",
       "      <td>NaN</td>\n",
       "      <td>Undetermined</td>\n",
       "      <td>30.0</td>\n",
       "      <td>1</td>\n",
       "      <td>NaN</td>\n",
       "      <td>23.0</td>\n",
       "    </tr>\n",
       "    <tr>\n",
       "      <th>Adult66</th>\n",
       "      <td>NaN</td>\n",
       "      <td>Undetermined</td>\n",
       "      <td>82.0</td>\n",
       "      <td>2</td>\n",
       "      <td>NaN</td>\n",
       "      <td>6.0</td>\n",
       "    </tr>\n",
       "    <tr>\n",
       "      <th>Adult72</th>\n",
       "      <td>NaN</td>\n",
       "      <td>Undetermined</td>\n",
       "      <td>55.0</td>\n",
       "      <td>2</td>\n",
       "      <td>NaN</td>\n",
       "      <td>33.0</td>\n",
       "    </tr>\n",
       "    <tr>\n",
       "      <th>Adult82</th>\n",
       "      <td>NaN</td>\n",
       "      <td>Undetermined</td>\n",
       "      <td>78.0</td>\n",
       "      <td>1</td>\n",
       "      <td>NaN</td>\n",
       "      <td>37.0</td>\n",
       "    </tr>\n",
       "    <tr>\n",
       "      <th>Adult83</th>\n",
       "      <td>NaN</td>\n",
       "      <td>Undetermined</td>\n",
       "      <td>40.0</td>\n",
       "      <td>2</td>\n",
       "      <td>NaN</td>\n",
       "      <td>42.0</td>\n",
       "    </tr>\n",
       "    <tr>\n",
       "      <th>Adult86</th>\n",
       "      <td>NaN</td>\n",
       "      <td>Undetermined</td>\n",
       "      <td>44.0</td>\n",
       "      <td>9</td>\n",
       "      <td>NaN</td>\n",
       "      <td>37.0</td>\n",
       "    </tr>\n",
       "    <tr>\n",
       "      <th>Adult93</th>\n",
       "      <td>3.0</td>\n",
       "      <td>Bite of Venomous Animal</td>\n",
       "      <td>39.0</td>\n",
       "      <td>1</td>\n",
       "      <td>5</td>\n",
       "      <td>-99.0</td>\n",
       "    </tr>\n",
       "    <tr>\n",
       "      <th>Adult97</th>\n",
       "      <td>NaN</td>\n",
       "      <td>Undetermined</td>\n",
       "      <td>64.0</td>\n",
       "      <td>2</td>\n",
       "      <td>NaN</td>\n",
       "      <td>16.0</td>\n",
       "    </tr>\n",
       "    <tr>\n",
       "      <th>Adult102</th>\n",
       "      <td>NaN</td>\n",
       "      <td>Undetermined</td>\n",
       "      <td>40.0</td>\n",
       "      <td>2</td>\n",
       "      <td>NaN</td>\n",
       "      <td>42.0</td>\n",
       "    </tr>\n",
       "    <tr>\n",
       "      <th>Adult105</th>\n",
       "      <td>NaN</td>\n",
       "      <td>Undetermined</td>\n",
       "      <td>29.0</td>\n",
       "      <td>2</td>\n",
       "      <td>NaN</td>\n",
       "      <td>3.0</td>\n",
       "    </tr>\n",
       "    <tr>\n",
       "      <th>Adult106</th>\n",
       "      <td>33.0</td>\n",
       "      <td>Suicide</td>\n",
       "      <td>18.0</td>\n",
       "      <td>2</td>\n",
       "      <td>15</td>\n",
       "      <td>19.0</td>\n",
       "    </tr>\n",
       "    <tr>\n",
       "      <th>Adult107</th>\n",
       "      <td>NaN</td>\n",
       "      <td>Undetermined</td>\n",
       "      <td>60.0</td>\n",
       "      <td>2</td>\n",
       "      <td>NaN</td>\n",
       "      <td>23.0</td>\n",
       "    </tr>\n",
       "    <tr>\n",
       "      <th>Adult112</th>\n",
       "      <td>NaN</td>\n",
       "      <td>Undetermined</td>\n",
       "      <td>82.0</td>\n",
       "      <td>2</td>\n",
       "      <td>NaN</td>\n",
       "      <td>13.0</td>\n",
       "    </tr>\n",
       "    <tr>\n",
       "      <th>Adult113</th>\n",
       "      <td>22.0</td>\n",
       "      <td>Other Cardiovascular Diseases</td>\n",
       "      <td>22.0</td>\n",
       "      <td>1</td>\n",
       "      <td>31</td>\n",
       "      <td>15.0</td>\n",
       "    </tr>\n",
       "    <tr>\n",
       "      <th>Adult120</th>\n",
       "      <td>NaN</td>\n",
       "      <td>Undetermined</td>\n",
       "      <td>45.0</td>\n",
       "      <td>1</td>\n",
       "      <td>NaN</td>\n",
       "      <td>8.0</td>\n",
       "    </tr>\n",
       "    <tr>\n",
       "      <th>Adult127</th>\n",
       "      <td>NaN</td>\n",
       "      <td>Undetermined</td>\n",
       "      <td>0.0</td>\n",
       "      <td>2</td>\n",
       "      <td>NaN</td>\n",
       "      <td>8.0</td>\n",
       "    </tr>\n",
       "    <tr>\n",
       "      <th>Adult139</th>\n",
       "      <td>33.0</td>\n",
       "      <td>Suicide</td>\n",
       "      <td>24.0</td>\n",
       "      <td>1</td>\n",
       "      <td>15</td>\n",
       "      <td>34.0</td>\n",
       "    </tr>\n",
       "    <tr>\n",
       "      <th>Adult146</th>\n",
       "      <td>NaN</td>\n",
       "      <td>Undetermined</td>\n",
       "      <td>72.0</td>\n",
       "      <td>1</td>\n",
       "      <td>NaN</td>\n",
       "      <td>13.0</td>\n",
       "    </tr>\n",
       "    <tr>\n",
       "      <th>Adult148</th>\n",
       "      <td>33.0</td>\n",
       "      <td>Suicide</td>\n",
       "      <td>20.0</td>\n",
       "      <td>2</td>\n",
       "      <td>5</td>\n",
       "      <td>36.0</td>\n",
       "    </tr>\n",
       "    <tr>\n",
       "      <th>...</th>\n",
       "      <td>...</td>\n",
       "      <td>...</td>\n",
       "      <td>...</td>\n",
       "      <td>...</td>\n",
       "      <td>...</td>\n",
       "      <td>...</td>\n",
       "    </tr>\n",
       "    <tr>\n",
       "      <th>Adult7663</th>\n",
       "      <td>NaN</td>\n",
       "      <td>Undetermined</td>\n",
       "      <td>50.0</td>\n",
       "      <td>1</td>\n",
       "      <td>NaN</td>\n",
       "      <td>13.0</td>\n",
       "    </tr>\n",
       "    <tr>\n",
       "      <th>Adult7665</th>\n",
       "      <td>NaN</td>\n",
       "      <td>Undetermined</td>\n",
       "      <td>85.0</td>\n",
       "      <td>1</td>\n",
       "      <td>NaN</td>\n",
       "      <td>10.0</td>\n",
       "    </tr>\n",
       "    <tr>\n",
       "      <th>Adult7666</th>\n",
       "      <td>NaN</td>\n",
       "      <td>Undetermined</td>\n",
       "      <td>48.0</td>\n",
       "      <td>1</td>\n",
       "      <td>NaN</td>\n",
       "      <td>8.0</td>\n",
       "    </tr>\n",
       "    <tr>\n",
       "      <th>Adult7676</th>\n",
       "      <td>NaN</td>\n",
       "      <td>Undetermined</td>\n",
       "      <td>75.0</td>\n",
       "      <td>2</td>\n",
       "      <td>NaN</td>\n",
       "      <td>10.0</td>\n",
       "    </tr>\n",
       "    <tr>\n",
       "      <th>Adult7679</th>\n",
       "      <td>NaN</td>\n",
       "      <td>Undetermined</td>\n",
       "      <td>49.0</td>\n",
       "      <td>2</td>\n",
       "      <td>NaN</td>\n",
       "      <td>6.0</td>\n",
       "    </tr>\n",
       "    <tr>\n",
       "      <th>Adult7682</th>\n",
       "      <td>NaN</td>\n",
       "      <td>Undetermined</td>\n",
       "      <td>49.0</td>\n",
       "      <td>2</td>\n",
       "      <td>NaN</td>\n",
       "      <td>42.0</td>\n",
       "    </tr>\n",
       "    <tr>\n",
       "      <th>Adult7683</th>\n",
       "      <td>NaN</td>\n",
       "      <td>Undetermined</td>\n",
       "      <td>83.0</td>\n",
       "      <td>1</td>\n",
       "      <td>NaN</td>\n",
       "      <td>32.0</td>\n",
       "    </tr>\n",
       "    <tr>\n",
       "      <th>Adult7689</th>\n",
       "      <td>30.0</td>\n",
       "      <td>Road Traffic</td>\n",
       "      <td>75.0</td>\n",
       "      <td>1</td>\n",
       "      <td>41</td>\n",
       "      <td>5.0</td>\n",
       "    </tr>\n",
       "    <tr>\n",
       "      <th>Adult7698</th>\n",
       "      <td>NaN</td>\n",
       "      <td>Undetermined</td>\n",
       "      <td>19.0</td>\n",
       "      <td>1</td>\n",
       "      <td>NaN</td>\n",
       "      <td>39.0</td>\n",
       "    </tr>\n",
       "    <tr>\n",
       "      <th>Adult7708</th>\n",
       "      <td>NaN</td>\n",
       "      <td>Undetermined</td>\n",
       "      <td>55.0</td>\n",
       "      <td>2</td>\n",
       "      <td>NaN</td>\n",
       "      <td>14.0</td>\n",
       "    </tr>\n",
       "    <tr>\n",
       "      <th>Adult7709</th>\n",
       "      <td>NaN</td>\n",
       "      <td>Undetermined</td>\n",
       "      <td>31.0</td>\n",
       "      <td>1</td>\n",
       "      <td>NaN</td>\n",
       "      <td>25.0</td>\n",
       "    </tr>\n",
       "    <tr>\n",
       "      <th>Adult7712</th>\n",
       "      <td>NaN</td>\n",
       "      <td>Undetermined</td>\n",
       "      <td>72.0</td>\n",
       "      <td>2</td>\n",
       "      <td>NaN</td>\n",
       "      <td>7.0</td>\n",
       "    </tr>\n",
       "    <tr>\n",
       "      <th>Adult7718</th>\n",
       "      <td>NaN</td>\n",
       "      <td>Undetermined</td>\n",
       "      <td>55.0</td>\n",
       "      <td>2</td>\n",
       "      <td>NaN</td>\n",
       "      <td>13.0</td>\n",
       "    </tr>\n",
       "    <tr>\n",
       "      <th>Adult7719</th>\n",
       "      <td>33.0</td>\n",
       "      <td>Suicide</td>\n",
       "      <td>45.0</td>\n",
       "      <td>1</td>\n",
       "      <td>15</td>\n",
       "      <td>45.0</td>\n",
       "    </tr>\n",
       "    <tr>\n",
       "      <th>Adult7750</th>\n",
       "      <td>NaN</td>\n",
       "      <td>Undetermined</td>\n",
       "      <td>65.0</td>\n",
       "      <td>2</td>\n",
       "      <td>NaN</td>\n",
       "      <td>44.0</td>\n",
       "    </tr>\n",
       "    <tr>\n",
       "      <th>Adult7759</th>\n",
       "      <td>NaN</td>\n",
       "      <td>Undetermined</td>\n",
       "      <td>62.0</td>\n",
       "      <td>2</td>\n",
       "      <td>NaN</td>\n",
       "      <td>12.0</td>\n",
       "    </tr>\n",
       "    <tr>\n",
       "      <th>Adult7766</th>\n",
       "      <td>NaN</td>\n",
       "      <td>Undetermined</td>\n",
       "      <td>45.0</td>\n",
       "      <td>2</td>\n",
       "      <td>NaN</td>\n",
       "      <td>3.0</td>\n",
       "    </tr>\n",
       "    <tr>\n",
       "      <th>Adult7781</th>\n",
       "      <td>NaN</td>\n",
       "      <td>Undetermined</td>\n",
       "      <td>78.0</td>\n",
       "      <td>1</td>\n",
       "      <td>NaN</td>\n",
       "      <td>37.0</td>\n",
       "    </tr>\n",
       "    <tr>\n",
       "      <th>Adult7784</th>\n",
       "      <td>NaN</td>\n",
       "      <td>Undetermined</td>\n",
       "      <td>35.0</td>\n",
       "      <td>2</td>\n",
       "      <td>NaN</td>\n",
       "      <td>3.0</td>\n",
       "    </tr>\n",
       "    <tr>\n",
       "      <th>Adult7792</th>\n",
       "      <td>NaN</td>\n",
       "      <td>Undetermined</td>\n",
       "      <td>80.0</td>\n",
       "      <td>2</td>\n",
       "      <td>NaN</td>\n",
       "      <td>13.0</td>\n",
       "    </tr>\n",
       "    <tr>\n",
       "      <th>Adult7795</th>\n",
       "      <td>11.0</td>\n",
       "      <td>Drowning</td>\n",
       "      <td>32.0</td>\n",
       "      <td>1</td>\n",
       "      <td>15</td>\n",
       "      <td>19.0</td>\n",
       "    </tr>\n",
       "    <tr>\n",
       "      <th>Adult7796</th>\n",
       "      <td>NaN</td>\n",
       "      <td>Undetermined</td>\n",
       "      <td>38.0</td>\n",
       "      <td>2</td>\n",
       "      <td>NaN</td>\n",
       "      <td>3.0</td>\n",
       "    </tr>\n",
       "    <tr>\n",
       "      <th>Adult7798</th>\n",
       "      <td>NaN</td>\n",
       "      <td>Undetermined</td>\n",
       "      <td>23.0</td>\n",
       "      <td>2</td>\n",
       "      <td>NaN</td>\n",
       "      <td>44.0</td>\n",
       "    </tr>\n",
       "    <tr>\n",
       "      <th>Adult7804</th>\n",
       "      <td>NaN</td>\n",
       "      <td>Undetermined</td>\n",
       "      <td>45.0</td>\n",
       "      <td>2</td>\n",
       "      <td>NaN</td>\n",
       "      <td>6.0</td>\n",
       "    </tr>\n",
       "    <tr>\n",
       "      <th>Adult7808</th>\n",
       "      <td>NaN</td>\n",
       "      <td>Undetermined</td>\n",
       "      <td>65.0</td>\n",
       "      <td>2</td>\n",
       "      <td>NaN</td>\n",
       "      <td>16.0</td>\n",
       "    </tr>\n",
       "    <tr>\n",
       "      <th>Adult7813</th>\n",
       "      <td>3.0</td>\n",
       "      <td>Bite of Venomous Animal</td>\n",
       "      <td>48.0</td>\n",
       "      <td>1</td>\n",
       "      <td>5</td>\n",
       "      <td>-99.0</td>\n",
       "    </tr>\n",
       "    <tr>\n",
       "      <th>Adult7828</th>\n",
       "      <td>NaN</td>\n",
       "      <td>Undetermined</td>\n",
       "      <td>23.0</td>\n",
       "      <td>2</td>\n",
       "      <td>NaN</td>\n",
       "      <td>3.0</td>\n",
       "    </tr>\n",
       "    <tr>\n",
       "      <th>Adult7829</th>\n",
       "      <td>NaN</td>\n",
       "      <td>Undetermined</td>\n",
       "      <td>30.0</td>\n",
       "      <td>2</td>\n",
       "      <td>NaN</td>\n",
       "      <td>3.0</td>\n",
       "    </tr>\n",
       "    <tr>\n",
       "      <th>Adult7836</th>\n",
       "      <td>NaN</td>\n",
       "      <td>Undetermined</td>\n",
       "      <td>30.0</td>\n",
       "      <td>2</td>\n",
       "      <td>NaN</td>\n",
       "      <td>22.0</td>\n",
       "    </tr>\n",
       "    <tr>\n",
       "      <th>Adult7839</th>\n",
       "      <td>NaN</td>\n",
       "      <td>Undetermined</td>\n",
       "      <td>49.0</td>\n",
       "      <td>2</td>\n",
       "      <td>NaN</td>\n",
       "      <td>20.0</td>\n",
       "    </tr>\n",
       "  </tbody>\n",
       "</table>\n",
       "<p>1627 rows × 6 columns</p>\n",
       "</div>"
      ],
      "text/plain": [
       "           cause                        cause34   age  sex cause46    jj\n",
       "sid                                                                     \n",
       "Adult3       NaN                   Undetermined  62.0    2     NaN  13.0\n",
       "Adult4       NaN                   Undetermined  80.0    2     NaN   6.0\n",
       "Adult7       NaN                   Undetermined  65.0    1     NaN  13.0\n",
       "Adult12     33.0                        Suicide  17.0    1      15  34.0\n",
       "Adult21      NaN                   Undetermined  35.0    2     NaN  36.0\n",
       "Adult25     16.0                       Homicide  18.0    2       5  21.0\n",
       "Adult34      NaN                   Undetermined  37.0    2     NaN  20.0\n",
       "Adult39      NaN                   Undetermined  56.0    2     NaN   6.0\n",
       "Adult42      NaN                   Undetermined  33.0    9     NaN   8.0\n",
       "Adult44      NaN                   Undetermined  48.0    2     NaN   6.0\n",
       "Adult62      NaN                   Undetermined  15.0    1     NaN   8.0\n",
       "Adult63      NaN                   Undetermined  30.0    1     NaN  23.0\n",
       "Adult66      NaN                   Undetermined  82.0    2     NaN   6.0\n",
       "Adult72      NaN                   Undetermined  55.0    2     NaN  33.0\n",
       "Adult82      NaN                   Undetermined  78.0    1     NaN  37.0\n",
       "Adult83      NaN                   Undetermined  40.0    2     NaN  42.0\n",
       "Adult86      NaN                   Undetermined  44.0    9     NaN  37.0\n",
       "Adult93      3.0        Bite of Venomous Animal  39.0    1       5 -99.0\n",
       "Adult97      NaN                   Undetermined  64.0    2     NaN  16.0\n",
       "Adult102     NaN                   Undetermined  40.0    2     NaN  42.0\n",
       "Adult105     NaN                   Undetermined  29.0    2     NaN   3.0\n",
       "Adult106    33.0                        Suicide  18.0    2      15  19.0\n",
       "Adult107     NaN                   Undetermined  60.0    2     NaN  23.0\n",
       "Adult112     NaN                   Undetermined  82.0    2     NaN  13.0\n",
       "Adult113    22.0  Other Cardiovascular Diseases  22.0    1      31  15.0\n",
       "Adult120     NaN                   Undetermined  45.0    1     NaN   8.0\n",
       "Adult127     NaN                   Undetermined   0.0    2     NaN   8.0\n",
       "Adult139    33.0                        Suicide  24.0    1      15  34.0\n",
       "Adult146     NaN                   Undetermined  72.0    1     NaN  13.0\n",
       "Adult148    33.0                        Suicide  20.0    2       5  36.0\n",
       "...          ...                            ...   ...  ...     ...   ...\n",
       "Adult7663    NaN                   Undetermined  50.0    1     NaN  13.0\n",
       "Adult7665    NaN                   Undetermined  85.0    1     NaN  10.0\n",
       "Adult7666    NaN                   Undetermined  48.0    1     NaN   8.0\n",
       "Adult7676    NaN                   Undetermined  75.0    2     NaN  10.0\n",
       "Adult7679    NaN                   Undetermined  49.0    2     NaN   6.0\n",
       "Adult7682    NaN                   Undetermined  49.0    2     NaN  42.0\n",
       "Adult7683    NaN                   Undetermined  83.0    1     NaN  32.0\n",
       "Adult7689   30.0                   Road Traffic  75.0    1      41   5.0\n",
       "Adult7698    NaN                   Undetermined  19.0    1     NaN  39.0\n",
       "Adult7708    NaN                   Undetermined  55.0    2     NaN  14.0\n",
       "Adult7709    NaN                   Undetermined  31.0    1     NaN  25.0\n",
       "Adult7712    NaN                   Undetermined  72.0    2     NaN   7.0\n",
       "Adult7718    NaN                   Undetermined  55.0    2     NaN  13.0\n",
       "Adult7719   33.0                        Suicide  45.0    1      15  45.0\n",
       "Adult7750    NaN                   Undetermined  65.0    2     NaN  44.0\n",
       "Adult7759    NaN                   Undetermined  62.0    2     NaN  12.0\n",
       "Adult7766    NaN                   Undetermined  45.0    2     NaN   3.0\n",
       "Adult7781    NaN                   Undetermined  78.0    1     NaN  37.0\n",
       "Adult7784    NaN                   Undetermined  35.0    2     NaN   3.0\n",
       "Adult7792    NaN                   Undetermined  80.0    2     NaN  13.0\n",
       "Adult7795   11.0                       Drowning  32.0    1      15  19.0\n",
       "Adult7796    NaN                   Undetermined  38.0    2     NaN   3.0\n",
       "Adult7798    NaN                   Undetermined  23.0    2     NaN  44.0\n",
       "Adult7804    NaN                   Undetermined  45.0    2     NaN   6.0\n",
       "Adult7808    NaN                   Undetermined  65.0    2     NaN  16.0\n",
       "Adult7813    3.0        Bite of Venomous Animal  48.0    1       5 -99.0\n",
       "Adult7828    NaN                   Undetermined  23.0    2     NaN   3.0\n",
       "Adult7829    NaN                   Undetermined  30.0    2     NaN   3.0\n",
       "Adult7836    NaN                   Undetermined  30.0    2     NaN  22.0\n",
       "Adult7839    NaN                   Undetermined  49.0    2     NaN  20.0\n",
       "\n",
       "[1627 rows x 6 columns]"
      ]
     },
     "execution_count": 28,
     "metadata": {},
     "output_type": "execute_result"
    }
   ],
   "source": [
    "preds['jj'] = preds2\n",
    "diff = preds.loc[pd.to_numeric(preds.cause46.fillna(-99), errors='coerce') != preds.jj.map(float)]\n",
    "diff"
   ]
  },
  {
   "cell_type": "code",
   "execution_count": null,
   "metadata": {
    "collapsed": false
   },
   "outputs": [],
   "source": [
    "xtab = pd.crosstab(preds.cause46.astype(float).fillna(-99), preds.jj, margins=True)\n",
    "order = range(1,46) + [-99, 'All']\n",
    "xtab.replace({0: ''}).ix[order, order].fillna('').loc[-99]"
   ]
  },
  {
   "cell_type": "code",
   "execution_count": null,
   "metadata": {
    "collapsed": false
   },
   "outputs": [],
   "source": [
    "real_ages[preds.jj.isin([3,20,22,36,42]).index]"
   ]
  },
  {
   "cell_type": "code",
   "execution_count": null,
   "metadata": {
    "collapsed": false
   },
   "outputs": [],
   "source": [
    "ranks.loc[diff.index].head()"
   ]
  },
  {
   "cell_type": "code",
   "execution_count": null,
   "metadata": {
    "collapsed": false
   },
   "outputs": [],
   "source": [
    "jj_ranks= pd.DataFrame(ranks2, index=ranks.index, columns=ranks.columns)\n",
    "jj_ranks.loc[diff.index].head()"
   ]
  },
  {
   "cell_type": "code",
   "execution_count": null,
   "metadata": {
    "collapsed": false
   },
   "outputs": [],
   "source": [
    "clfs['adult']"
   ]
  },
  {
   "cell_type": "code",
   "execution_count": null,
   "metadata": {
    "collapsed": false
   },
   "outputs": [],
   "source": [
    "scores.loc['Adult12']"
   ]
  },
  {
   "cell_type": "code",
   "execution_count": null,
   "metadata": {
    "collapsed": false
   },
   "outputs": [],
   "source": [
    "real_ages"
   ]
  },
  {
   "cell_type": "code",
   "execution_count": null,
   "metadata": {
    "collapsed": false
   },
   "outputs": [],
   "source": [
    "jj_ranks.loc['Adult12']"
   ]
  },
  {
   "cell_type": "code",
   "execution_count": null,
   "metadata": {
    "collapsed": false
   },
   "outputs": [],
   "source": [
    "ranks.loc['Adult12']"
   ]
  },
  {
   "cell_type": "code",
   "execution_count": null,
   "metadata": {
    "collapsed": false
   },
   "outputs": [],
   "source": [
    "jj_scores = pd.DataFrame(scores2, index=scores.index, columns=scores.columns)\n",
    "jj_scores.head()"
   ]
  },
  {
   "cell_type": "code",
   "execution_count": null,
   "metadata": {
    "collapsed": true
   },
   "outputs": [],
   "source": []
  }
 ],
 "metadata": {
  "kernelspec": {
   "display_name": "Python 2",
   "language": "python",
   "name": "python2"
  },
  "language_info": {
   "codemirror_mode": {
    "name": "ipython",
    "version": 2
   },
   "file_extension": ".py",
   "mimetype": "text/x-python",
   "name": "python",
   "nbconvert_exporter": "python",
   "pygments_lexer": "ipython2",
   "version": "2.7.11"
  }
 },
 "nbformat": 4,
 "nbformat_minor": 0
}
